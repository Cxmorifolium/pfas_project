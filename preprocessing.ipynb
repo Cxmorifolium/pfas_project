{
 "cells": [
  {
   "cell_type": "markdown",
   "id": "61ccf420-6dcb-4ea6-9c08-56b0fd6c9991",
   "metadata": {},
   "source": [
    "# Imports and Modules"
   ]
  },
  {
   "cell_type": "code",
   "execution_count": 2,
   "id": "516502b5-10ed-472e-94e5-ec8591405c80",
   "metadata": {},
   "outputs": [],
   "source": [
    "import pandas as pd\n",
    "import csv\n",
    "from tqdm import tqdm"
   ]
  },
  {
   "cell_type": "markdown",
   "id": "7f188dee-4fcb-4a20-82c5-fb9f41a1b951",
   "metadata": {},
   "source": [
    "# Preprocess file 'full_text.txt'"
   ]
  },
  {
   "cell_type": "code",
   "execution_count": 3,
   "id": "2774b962-4c70-4d1f-a50c-eaa659d4ed6e",
   "metadata": {},
   "outputs": [
    {
     "name": "stdout",
     "output_type": "stream",
     "text": [
      "          UserID            Timestamp                 Coordinates   Latitude  \\\n",
      "0  USER_79321756  2010-03-03T04:15:26  ÃT: 47.528139,-122.197916  47.528139   \n",
      "1  USER_79321756  2010-03-03T04:55:32  ÃT: 47.528139,-122.197916  47.528139   \n",
      "2  USER_79321756  2010-03-03T05:13:34  ÃT: 47.528139,-122.197916  47.528139   \n",
      "3  USER_79321756  2010-03-03T05:28:02  ÃT: 47.528139,-122.197916  47.528139   \n",
      "4  USER_79321756  2010-03-03T05:56:13  ÃT: 47.528139,-122.197916  47.528139   \n",
      "\n",
      "    Longitude                                          TweetText  \n",
      "0 -122.197916  RT @USER_2ff4faca: IF SHE DO IT 1 MORE TIME......  \n",
      "1 -122.197916  @USER_77a4822d @USER_2ff4faca okay:) lol. Sayi...  \n",
      "2 -122.197916  RT @USER_5d4d777a: YOURE A FAG FOR GETTING IN ...  \n",
      "3 -122.197916  @USER_77a4822d yea ok..well answer that cheap ...  \n",
      "4 -122.197916  A sprite can disappear in her mouth - lil kim ...  \n",
      "\n",
      "DataFrame with 'Coordinates' dropped:\n",
      "          UserID            Timestamp   Latitude   Longitude  \\\n",
      "0  USER_79321756  2010-03-03T04:15:26  47.528139 -122.197916   \n",
      "1  USER_79321756  2010-03-03T04:55:32  47.528139 -122.197916   \n",
      "2  USER_79321756  2010-03-03T05:13:34  47.528139 -122.197916   \n",
      "3  USER_79321756  2010-03-03T05:28:02  47.528139 -122.197916   \n",
      "4  USER_79321756  2010-03-03T05:56:13  47.528139 -122.197916   \n",
      "\n",
      "                                           TweetText  \n",
      "0  RT @USER_2ff4faca: IF SHE DO IT 1 MORE TIME......  \n",
      "1  @USER_77a4822d @USER_2ff4faca okay:) lol. Sayi...  \n",
      "2  RT @USER_5d4d777a: YOURE A FAG FOR GETTING IN ...  \n",
      "3  @USER_77a4822d yea ok..well answer that cheap ...  \n",
      "4  A sprite can disappear in her mouth - lil kim ...  \n",
      "\n",
      "Modified DataFrame saved to 'full_text_dropped_dropped.txt'\n"
     ]
    }
   ],
   "source": [
    "def txt_to_dataframe(file_path, column_names=None):\n",
    "    # Read the .txt file into a DataFrame\n",
    "    # File is tab-seperated\n",
    "    df = pd.read_csv(file_path, sep='\\t', header=None, names=column_names, encoding='latin1')\n",
    "    return df\n",
    "\n",
    "# Load data:\n",
    "file_path = r'data/full_text.txt'\n",
    "\n",
    "# Headers\n",
    "column_names = ['UserID', 'Timestamp', 'Coordinates', 'Latitude', 'Longitude', 'TweetText']\n",
    "\n",
    "# Read the file into a DataFrame\n",
    "df = txt_to_dataframe(file_path, column_names)\n",
    "\n",
    "# Display the first few rows of the DataFrame\n",
    "print(df.head())\n",
    "\n",
    "# Drop a column\n",
    "df_dropped = df.drop(columns=['Coordinates'])\n",
    "print(\"\\nDataFrame with 'Coordinates' dropped:\")\n",
    "print(df_dropped.head())\n",
    "\n",
    "# Save the modified DataFrame back to a .txt file\n",
    "df_dropped.to_csv(r'data/full_text_dropped.txt', sep='\\t', index=False)\n",
    "print(\"\\nModified DataFrame saved to 'full_text_dropped_dropped.txt'\")\n",
    "\n",
    "# Save to CSV:\n",
    "df.to_csv(r'data/full_text_dropped.csv', index=False)"
   ]
  },
  {
   "cell_type": "code",
   "execution_count": 6,
   "id": "e05eabd7-329a-4f75-b047-7aadaec34164",
   "metadata": {},
   "outputs": [
    {
     "name": "stdout",
     "output_type": "stream",
     "text": [
      "    Latitude   Longitude                                     City State\n",
      "0  13.686980  100.609881  à¸à¸£à¸¸à¸à¹à¸à¸à¸¡à¸«à¸²à¸à¸à¸£   NaN\n",
      "1  13.690787  100.609060  à¸à¸£à¸¸à¸à¹à¸à¸à¸¡à¸«à¸²à¸à¸à¸£   NaN\n",
      "2  13.699518  100.605383  à¸à¸£à¸¸à¸à¹à¸à¸à¸¡à¸«à¸²à¸à¸à¸£   NaN\n",
      "3  13.711378  100.597386  à¸à¸£à¸¸à¸à¹à¸à¸à¸¡à¸«à¸²à¸à¸à¸£   NaN\n",
      "4  13.715302  100.591672  à¸à¸£à¸¸à¸à¹à¸à¸à¸¡à¸«à¸²à¸à¸à¸£   NaN\n",
      "<class 'pandas.core.frame.DataFrame'>\n",
      "RangeIndex: 46322 entries, 0 to 46321\n",
      "Data columns (total 4 columns):\n",
      " #   Column     Non-Null Count  Dtype  \n",
      "---  ------     --------------  -----  \n",
      " 0   Latitude   46322 non-null  float64\n",
      " 1   Longitude  46322 non-null  float64\n",
      " 2   City       42482 non-null  object \n",
      " 3   State      45966 non-null  object \n",
      "dtypes: float64(2), object(2)\n",
      "memory usage: 1.4+ MB\n",
      "None\n"
     ]
    }
   ],
   "source": [
    "def txt_to_dataframe(file_path, column_names=None):\n",
    "    # Read the .txt file into a DataFrame; file is tab-separated\n",
    "    df = pd.read_csv(file_path, \n",
    "                     sep='\\t', \n",
    "                     header=None, \n",
    "                     names=column_names, \n",
    "                     encoding='latin1',\n",
    "                     na_values=[''], # Treat empty fields as NaN\n",
    "                     keep_default_na=True) # Keep the default NaN recognizers\n",
    "    return df\n",
    "\n",
    "# Load data\n",
    "file_path = r'data/state_city.txt'\n",
    "# Headers\n",
    "column_names = ['Latitude', 'Longitude', 'City', 'State']\n",
    "# Read the file into a DataFrame\n",
    "df2 = txt_to_dataframe(file_path, column_names)\n",
    "\n",
    "# Display the first few rows of the DataFrame\n",
    "print(df2.head())\n",
    "\n",
    "# Get info about the DataFrame\n",
    "print(df2.info())\n",
    "\n",
    "# If you want to save it as a different file format, like CSV:\n",
    "df2.to_csv('state_city.csv', index=False)"
   ]
  },
  {
   "cell_type": "markdown",
   "id": "a618c93f-e27e-4003-acb5-819f3d2c6ea0",
   "metadata": {},
   "source": [
    "# Preprocess file 'state_city.txt'"
   ]
  },
  {
   "cell_type": "code",
   "execution_count": 8,
   "id": "9da74975-1c31-4045-9a5a-554883899973",
   "metadata": {},
   "outputs": [
    {
     "name": "stdout",
     "output_type": "stream",
     "text": [
      "Sorted by State and City:\n",
      "        Latitude   Longitude            City    State\n",
      "8295   33.580862  -86.956455      Adamsville  Alabama\n",
      "7055   32.923909  -85.949771  Alexander City  Alabama\n",
      "14802  34.778611  -86.944281          Athens  Alabama\n",
      "14853  34.790520  -86.975996          Athens  Alabama\n",
      "14868  34.798632  -86.975188          Athens  Alabama\n",
      "...          ...         ...             ...      ...\n",
      "8      18.059533  -76.126374             NaN      NaN\n",
      "28     21.806420 -112.150270             NaN      NaN\n",
      "239    25.717681  -70.942583             NaN      NaN\n",
      "1244   26.133651  -82.321223             NaN      NaN\n",
      "7667   33.428679  -70.602265             NaN      NaN\n",
      "\n",
      "[46322 rows x 4 columns]\n",
      "\n",
      "Grouped by State and City (with average coordinates):\n",
      "                                                  State  \\\n",
      "0                                               Alabama   \n",
      "1                                               Alabama   \n",
      "2                                               Alabama   \n",
      "3                                               Alabama   \n",
      "4                                               Alabama   \n",
      "...                                                 ...   \n",
      "3585                                            Wyoming   \n",
      "3586                ÐÐ¾ÑÐºÐ¾Ð²ÑÐºÐ°Ñ Ð¾Ð±Ð»Ð°ÑÑÑ   \n",
      "3587              Ð§ÐµÐ»ÑÐ±Ð¸Ð½ÑÐºÐ°Ñ Ð¾Ð±Ð»Ð°ÑÑÑ   \n",
      "3588                            Ù",
      "ÙØ·ÙØ© Ø§ÙØ±ÙØ§Ø¶   \n",
      "3589  æ°çç»´å¾å°èªæ²»åº Ø´ÙÙØ¬Ø§Ú­ Ø¦ÛÙØº...   \n",
      "\n",
      "                                     City   Latitude   Longitude  \n",
      "0                              Adamsville  33.580862  -86.956455  \n",
      "1                          Alexander City  32.923909  -85.949771  \n",
      "2                                  Athens  34.806198  -86.958965  \n",
      "3                                  Auburn  32.594473  -85.480678  \n",
      "4                                Bessemer  33.336886  -86.955847  \n",
      "...                                   ...        ...         ...  \n",
      "3585                         Rock Springs  41.575647 -109.266643  \n",
      "3586                     Ð¡ÐµÐ»ÑÑÐ¸Ð½Ð¾  55.506950   36.981116  \n",
      "3587                           ÐÐ»ÑÑÐ¸  54.564428   61.294249  \n",
      "3588                         Ø§ÙØ±ÙØ§Ø¶  24.701295   46.682084  \n",
      "3589  å",
      "å­ååä¾é ÙÙØ²ÙÙØ¨ÙÙ  39.351815   76.588864  \n",
      "\n",
      "[3590 rows x 4 columns]\n",
      "\n",
      "Unique cities in each state:\n",
      "State\n",
      "Alabama                                                                             [Gulf Shores, Orange Beach, nan, Foley, Daphne...\n",
      "Alba / Scotland                                                                                  [Prestwick, Troon, Howwood, Glasgow]\n",
      "Arizona                                                                             [Sierra Vista, nan, Tucson, Yuma, Avenue B & C...\n",
      "Arkansas                                                                            [nan, Texarkana, Pine Bluff, Helena-West Helen...\n",
      "Baja California                                                                     [Punta Colonet (Ejido MÃ©xico), Tijuana, Mexic...\n",
      "                                                                                                          ...                        \n",
      "Wyoming                                                                                                                [Rock Springs]\n",
      "ÐÐ¾ÑÐºÐ¾Ð²ÑÐºÐ°Ñ Ð¾Ð±Ð»Ð°ÑÑÑ                                                                                [Ð¡ÐµÐ»ÑÑÐ¸Ð½Ð¾]\n",
      "Ð§ÐµÐ»ÑÐ±Ð¸Ð½ÑÐºÐ°Ñ Ð¾Ð±Ð»Ð°ÑÑÑ                                                                                    [ÐÐ»ÑÑÐ¸]\n",
      "Ù",
      "ÙØ·ÙØ© Ø§ÙØ±ÙØ§Ø¶                                                                                           [Ø§ÙØ±ÙØ§Ø¶, nan]\n",
      "æ°çç»´å¾å°èªæ²»åº Ø´ÙÙØ¬Ø§Ú­ Ø¦ÛÙØºÛØ± Ø¦Ø§Ù¾ØªÙÙÙÙ",
      " Ø±Ø§ÙÙÙÛ                [å",
      "å­ååä¾é ÙÙØ²ÙÙØ¨ÙÙ]\n",
      "Name: City, Length: 92, dtype: object\n"
     ]
    }
   ],
   "source": [
    "# Method 1: Sort by State and then by City\n",
    "def sort_by_state_and_city(df):\n",
    "    return df.sort_values(['State', 'City'])\n",
    "\n",
    "# Method 2: Group by State and City, aggregating latitude and longitude\n",
    "def group_by_state_and_city(df):\n",
    "    return df.groupby(['State', 'City']).agg({\n",
    "        'Latitude': 'mean',\n",
    "        'Longitude': 'mean'\n",
    "    }).reset_index()\n",
    "\n",
    "# Apply Method 1\n",
    "df_sorted = sort_by_state_and_city(df2)\n",
    "print(\"Sorted by State and City:\")\n",
    "print(df_sorted)\n",
    "\n",
    "# Apply Method 2\n",
    "df_grouped = group_by_state_and_city(df2)\n",
    "print(\"\\nGrouped by State and City (with average coordinates):\")\n",
    "print(df_grouped)\n",
    "\n",
    "# Save the results\n",
    "df_sorted.to_csv(r'data/sorted_cities.csv', index=False)\n",
    "df_grouped.to_csv(r'data/grouped_cities.csv', index=False)\n",
    "\n",
    "# To get a list of unique cities in each state\n",
    "cities_by_state = df2.groupby('State')['City'].unique()\n",
    "print(\"\\nUnique cities in each state:\")\n",
    "print(cities_by_state)"
   ]
  },
  {
   "cell_type": "code",
   "execution_count": 3,
   "id": "79cff19c-6dd8-489d-bc8f-dc7338b55c94",
   "metadata": {},
   "outputs": [
    {
     "name": "stderr",
     "output_type": "stream",
     "text": [
      "  5%|▌         | 2502/46322 [42:54<12:31:37,  1.03s/it]\n"
     ]
    },
    {
     "ename": "RateLimitExceededError",
     "evalue": "You have used the requests available on your plan. Please purchase more if you wish to continue: https://opencagedata.com/pricing",
     "output_type": "error",
     "traceback": [
      "\u001b[1;31m---------------------------------------------------------------------------\u001b[0m",
      "\u001b[1;31mRateLimitExceededError\u001b[0m                    Traceback (most recent call last)",
      "Cell \u001b[1;32mIn[3], line 26\u001b[0m\n\u001b[0;32m     23\u001b[0m tqdm\u001b[38;5;241m.\u001b[39mpandas()  \u001b[38;5;66;03m# Activates tqdm progress_apply for pandas\u001b[39;00m\n\u001b[0;32m     25\u001b[0m \u001b[38;5;66;03m# Use progress_apply instead of apply to see progress\u001b[39;00m\n\u001b[1;32m---> 26\u001b[0m city_state_df[[\u001b[38;5;124m'\u001b[39m\u001b[38;5;124mCity\u001b[39m\u001b[38;5;124m'\u001b[39m, \u001b[38;5;124m'\u001b[39m\u001b[38;5;124mState\u001b[39m\u001b[38;5;124m'\u001b[39m]] \u001b[38;5;241m=\u001b[39m \u001b[43mcity_state_df\u001b[49m\u001b[38;5;241;43m.\u001b[39;49m\u001b[43mprogress_apply\u001b[49m\u001b[43m(\u001b[49m\n\u001b[0;32m     27\u001b[0m \u001b[43m    \u001b[49m\u001b[38;5;28;43;01mlambda\u001b[39;49;00m\u001b[43m \u001b[49m\u001b[43mrow\u001b[49m\u001b[43m:\u001b[49m\u001b[43m \u001b[49m\u001b[43mgeocode\u001b[49m\u001b[43m(\u001b[49m\u001b[43mrow\u001b[49m\u001b[43m[\u001b[49m\u001b[38;5;124;43m'\u001b[39;49m\u001b[38;5;124;43mLatitude\u001b[39;49m\u001b[38;5;124;43m'\u001b[39;49m\u001b[43m]\u001b[49m\u001b[43m,\u001b[49m\u001b[43m \u001b[49m\u001b[43mrow\u001b[49m\u001b[43m[\u001b[49m\u001b[38;5;124;43m'\u001b[39;49m\u001b[38;5;124;43mLongitude\u001b[39;49m\u001b[38;5;124;43m'\u001b[39;49m\u001b[43m]\u001b[49m\u001b[43m)\u001b[49m\u001b[43m,\u001b[49m\u001b[43m \u001b[49m\n\u001b[0;32m     28\u001b[0m \u001b[43m    \u001b[49m\u001b[43maxis\u001b[49m\u001b[38;5;241;43m=\u001b[39;49m\u001b[38;5;241;43m1\u001b[39;49m\u001b[43m,\u001b[49m\u001b[43m \u001b[49m\n\u001b[0;32m     29\u001b[0m \u001b[43m    \u001b[49m\u001b[43mresult_type\u001b[49m\u001b[38;5;241;43m=\u001b[39;49m\u001b[38;5;124;43m'\u001b[39;49m\u001b[38;5;124;43mexpand\u001b[39;49m\u001b[38;5;124;43m'\u001b[39;49m\n\u001b[0;32m     30\u001b[0m \u001b[43m)\u001b[49m\n\u001b[0;32m     32\u001b[0m \u001b[38;5;66;03m# Apply the function to the DataFrame\u001b[39;00m\n\u001b[0;32m     33\u001b[0m \u001b[38;5;66;03m#city_state_df[['City', 'State']] = city_state_df.apply(lambda row: geocode(row['Latitude'], row['Longitude']), axis=1, result_type='expand')\u001b[39;00m\n\u001b[0;32m     34\u001b[0m \n\u001b[0;32m     35\u001b[0m \u001b[38;5;66;03m# Save or display the updated DataFrame\u001b[39;00m\n\u001b[0;32m     36\u001b[0m \u001b[38;5;28mprint\u001b[39m(city_state_df\u001b[38;5;241m.\u001b[39mhead())\n",
      "File \u001b[1;32m~\\anaconda3\\envs\\test_env_gpu\\lib\\site-packages\\tqdm\\std.py:917\u001b[0m, in \u001b[0;36mtqdm.pandas.<locals>.inner_generator.<locals>.inner\u001b[1;34m(df, func, *args, **kwargs)\u001b[0m\n\u001b[0;32m    914\u001b[0m \u001b[38;5;66;03m# Apply the provided function (in **kwargs)\u001b[39;00m\n\u001b[0;32m    915\u001b[0m \u001b[38;5;66;03m# on the df using our wrapper (which provides bar updating)\u001b[39;00m\n\u001b[0;32m    916\u001b[0m \u001b[38;5;28;01mtry\u001b[39;00m:\n\u001b[1;32m--> 917\u001b[0m     \u001b[38;5;28;01mreturn\u001b[39;00m \u001b[38;5;28mgetattr\u001b[39m(df, df_function)(wrapper, \u001b[38;5;241m*\u001b[39m\u001b[38;5;241m*\u001b[39mkwargs)\n\u001b[0;32m    918\u001b[0m \u001b[38;5;28;01mfinally\u001b[39;00m:\n\u001b[0;32m    919\u001b[0m     t\u001b[38;5;241m.\u001b[39mclose()\n",
      "File \u001b[1;32m~\\anaconda3\\envs\\test_env_gpu\\lib\\site-packages\\pandas\\core\\frame.py:10374\u001b[0m, in \u001b[0;36mDataFrame.apply\u001b[1;34m(self, func, axis, raw, result_type, args, by_row, engine, engine_kwargs, **kwargs)\u001b[0m\n\u001b[0;32m  10360\u001b[0m \u001b[38;5;28;01mfrom\u001b[39;00m \u001b[38;5;21;01mpandas\u001b[39;00m\u001b[38;5;21;01m.\u001b[39;00m\u001b[38;5;21;01mcore\u001b[39;00m\u001b[38;5;21;01m.\u001b[39;00m\u001b[38;5;21;01mapply\u001b[39;00m \u001b[38;5;28;01mimport\u001b[39;00m frame_apply\n\u001b[0;32m  10362\u001b[0m op \u001b[38;5;241m=\u001b[39m frame_apply(\n\u001b[0;32m  10363\u001b[0m     \u001b[38;5;28mself\u001b[39m,\n\u001b[0;32m  10364\u001b[0m     func\u001b[38;5;241m=\u001b[39mfunc,\n\u001b[1;32m   (...)\u001b[0m\n\u001b[0;32m  10372\u001b[0m     kwargs\u001b[38;5;241m=\u001b[39mkwargs,\n\u001b[0;32m  10373\u001b[0m )\n\u001b[1;32m> 10374\u001b[0m \u001b[38;5;28;01mreturn\u001b[39;00m \u001b[43mop\u001b[49m\u001b[38;5;241;43m.\u001b[39;49m\u001b[43mapply\u001b[49m\u001b[43m(\u001b[49m\u001b[43m)\u001b[49m\u001b[38;5;241m.\u001b[39m__finalize__(\u001b[38;5;28mself\u001b[39m, method\u001b[38;5;241m=\u001b[39m\u001b[38;5;124m\"\u001b[39m\u001b[38;5;124mapply\u001b[39m\u001b[38;5;124m\"\u001b[39m)\n",
      "File \u001b[1;32m~\\anaconda3\\envs\\test_env_gpu\\lib\\site-packages\\pandas\\core\\apply.py:916\u001b[0m, in \u001b[0;36mFrameApply.apply\u001b[1;34m(self)\u001b[0m\n\u001b[0;32m    913\u001b[0m \u001b[38;5;28;01melif\u001b[39;00m \u001b[38;5;28mself\u001b[39m\u001b[38;5;241m.\u001b[39mraw:\n\u001b[0;32m    914\u001b[0m     \u001b[38;5;28;01mreturn\u001b[39;00m \u001b[38;5;28mself\u001b[39m\u001b[38;5;241m.\u001b[39mapply_raw(engine\u001b[38;5;241m=\u001b[39m\u001b[38;5;28mself\u001b[39m\u001b[38;5;241m.\u001b[39mengine, engine_kwargs\u001b[38;5;241m=\u001b[39m\u001b[38;5;28mself\u001b[39m\u001b[38;5;241m.\u001b[39mengine_kwargs)\n\u001b[1;32m--> 916\u001b[0m \u001b[38;5;28;01mreturn\u001b[39;00m \u001b[38;5;28;43mself\u001b[39;49m\u001b[38;5;241;43m.\u001b[39;49m\u001b[43mapply_standard\u001b[49m\u001b[43m(\u001b[49m\u001b[43m)\u001b[49m\n",
      "File \u001b[1;32m~\\anaconda3\\envs\\test_env_gpu\\lib\\site-packages\\pandas\\core\\apply.py:1063\u001b[0m, in \u001b[0;36mFrameApply.apply_standard\u001b[1;34m(self)\u001b[0m\n\u001b[0;32m   1061\u001b[0m \u001b[38;5;28;01mdef\u001b[39;00m \u001b[38;5;21mapply_standard\u001b[39m(\u001b[38;5;28mself\u001b[39m):\n\u001b[0;32m   1062\u001b[0m     \u001b[38;5;28;01mif\u001b[39;00m \u001b[38;5;28mself\u001b[39m\u001b[38;5;241m.\u001b[39mengine \u001b[38;5;241m==\u001b[39m \u001b[38;5;124m\"\u001b[39m\u001b[38;5;124mpython\u001b[39m\u001b[38;5;124m\"\u001b[39m:\n\u001b[1;32m-> 1063\u001b[0m         results, res_index \u001b[38;5;241m=\u001b[39m \u001b[38;5;28;43mself\u001b[39;49m\u001b[38;5;241;43m.\u001b[39;49m\u001b[43mapply_series_generator\u001b[49m\u001b[43m(\u001b[49m\u001b[43m)\u001b[49m\n\u001b[0;32m   1064\u001b[0m     \u001b[38;5;28;01melse\u001b[39;00m:\n\u001b[0;32m   1065\u001b[0m         results, res_index \u001b[38;5;241m=\u001b[39m \u001b[38;5;28mself\u001b[39m\u001b[38;5;241m.\u001b[39mapply_series_numba()\n",
      "File \u001b[1;32m~\\anaconda3\\envs\\test_env_gpu\\lib\\site-packages\\pandas\\core\\apply.py:1081\u001b[0m, in \u001b[0;36mFrameApply.apply_series_generator\u001b[1;34m(self)\u001b[0m\n\u001b[0;32m   1078\u001b[0m \u001b[38;5;28;01mwith\u001b[39;00m option_context(\u001b[38;5;124m\"\u001b[39m\u001b[38;5;124mmode.chained_assignment\u001b[39m\u001b[38;5;124m\"\u001b[39m, \u001b[38;5;28;01mNone\u001b[39;00m):\n\u001b[0;32m   1079\u001b[0m     \u001b[38;5;28;01mfor\u001b[39;00m i, v \u001b[38;5;129;01min\u001b[39;00m \u001b[38;5;28menumerate\u001b[39m(series_gen):\n\u001b[0;32m   1080\u001b[0m         \u001b[38;5;66;03m# ignore SettingWithCopy here in case the user mutates\u001b[39;00m\n\u001b[1;32m-> 1081\u001b[0m         results[i] \u001b[38;5;241m=\u001b[39m \u001b[38;5;28mself\u001b[39m\u001b[38;5;241m.\u001b[39mfunc(v, \u001b[38;5;241m*\u001b[39m\u001b[38;5;28mself\u001b[39m\u001b[38;5;241m.\u001b[39margs, \u001b[38;5;241m*\u001b[39m\u001b[38;5;241m*\u001b[39m\u001b[38;5;28mself\u001b[39m\u001b[38;5;241m.\u001b[39mkwargs)\n\u001b[0;32m   1082\u001b[0m         \u001b[38;5;28;01mif\u001b[39;00m \u001b[38;5;28misinstance\u001b[39m(results[i], ABCSeries):\n\u001b[0;32m   1083\u001b[0m             \u001b[38;5;66;03m# If we have a view on v, we need to make a copy because\u001b[39;00m\n\u001b[0;32m   1084\u001b[0m             \u001b[38;5;66;03m#  series_generator will swap out the underlying data\u001b[39;00m\n\u001b[0;32m   1085\u001b[0m             results[i] \u001b[38;5;241m=\u001b[39m results[i]\u001b[38;5;241m.\u001b[39mcopy(deep\u001b[38;5;241m=\u001b[39m\u001b[38;5;28;01mFalse\u001b[39;00m)\n",
      "File \u001b[1;32m~\\anaconda3\\envs\\test_env_gpu\\lib\\site-packages\\tqdm\\std.py:912\u001b[0m, in \u001b[0;36mtqdm.pandas.<locals>.inner_generator.<locals>.inner.<locals>.wrapper\u001b[1;34m(*args, **kwargs)\u001b[0m\n\u001b[0;32m    906\u001b[0m \u001b[38;5;28;01mdef\u001b[39;00m \u001b[38;5;21mwrapper\u001b[39m(\u001b[38;5;241m*\u001b[39margs, \u001b[38;5;241m*\u001b[39m\u001b[38;5;241m*\u001b[39mkwargs):\n\u001b[0;32m    907\u001b[0m     \u001b[38;5;66;03m# update tbar correctly\u001b[39;00m\n\u001b[0;32m    908\u001b[0m     \u001b[38;5;66;03m# it seems `pandas apply` calls `func` twice\u001b[39;00m\n\u001b[0;32m    909\u001b[0m     \u001b[38;5;66;03m# on the first column/row to decide whether it can\u001b[39;00m\n\u001b[0;32m    910\u001b[0m     \u001b[38;5;66;03m# take a fast or slow code path; so stop when t.total==t.n\u001b[39;00m\n\u001b[0;32m    911\u001b[0m     t\u001b[38;5;241m.\u001b[39mupdate(n\u001b[38;5;241m=\u001b[39m\u001b[38;5;241m1\u001b[39m \u001b[38;5;28;01mif\u001b[39;00m \u001b[38;5;129;01mnot\u001b[39;00m t\u001b[38;5;241m.\u001b[39mtotal \u001b[38;5;129;01mor\u001b[39;00m t\u001b[38;5;241m.\u001b[39mn \u001b[38;5;241m<\u001b[39m t\u001b[38;5;241m.\u001b[39mtotal \u001b[38;5;28;01melse\u001b[39;00m \u001b[38;5;241m0\u001b[39m)\n\u001b[1;32m--> 912\u001b[0m     \u001b[38;5;28;01mreturn\u001b[39;00m func(\u001b[38;5;241m*\u001b[39margs, \u001b[38;5;241m*\u001b[39m\u001b[38;5;241m*\u001b[39mkwargs)\n",
      "Cell \u001b[1;32mIn[3], line 27\u001b[0m, in \u001b[0;36m<lambda>\u001b[1;34m(row)\u001b[0m\n\u001b[0;32m     23\u001b[0m tqdm\u001b[38;5;241m.\u001b[39mpandas()  \u001b[38;5;66;03m# Activates tqdm progress_apply for pandas\u001b[39;00m\n\u001b[0;32m     25\u001b[0m \u001b[38;5;66;03m# Use progress_apply instead of apply to see progress\u001b[39;00m\n\u001b[0;32m     26\u001b[0m city_state_df[[\u001b[38;5;124m'\u001b[39m\u001b[38;5;124mCity\u001b[39m\u001b[38;5;124m'\u001b[39m, \u001b[38;5;124m'\u001b[39m\u001b[38;5;124mState\u001b[39m\u001b[38;5;124m'\u001b[39m]] \u001b[38;5;241m=\u001b[39m city_state_df\u001b[38;5;241m.\u001b[39mprogress_apply(\n\u001b[1;32m---> 27\u001b[0m     \u001b[38;5;28;01mlambda\u001b[39;00m row: \u001b[43mgeocode\u001b[49m\u001b[43m(\u001b[49m\u001b[43mrow\u001b[49m\u001b[43m[\u001b[49m\u001b[38;5;124;43m'\u001b[39;49m\u001b[38;5;124;43mLatitude\u001b[39;49m\u001b[38;5;124;43m'\u001b[39;49m\u001b[43m]\u001b[49m\u001b[43m,\u001b[49m\u001b[43m \u001b[49m\u001b[43mrow\u001b[49m\u001b[43m[\u001b[49m\u001b[38;5;124;43m'\u001b[39;49m\u001b[38;5;124;43mLongitude\u001b[39;49m\u001b[38;5;124;43m'\u001b[39;49m\u001b[43m]\u001b[49m\u001b[43m)\u001b[49m, \n\u001b[0;32m     28\u001b[0m     axis\u001b[38;5;241m=\u001b[39m\u001b[38;5;241m1\u001b[39m, \n\u001b[0;32m     29\u001b[0m     result_type\u001b[38;5;241m=\u001b[39m\u001b[38;5;124m'\u001b[39m\u001b[38;5;124mexpand\u001b[39m\u001b[38;5;124m'\u001b[39m\n\u001b[0;32m     30\u001b[0m )\n\u001b[0;32m     32\u001b[0m \u001b[38;5;66;03m# Apply the function to the DataFrame\u001b[39;00m\n\u001b[0;32m     33\u001b[0m \u001b[38;5;66;03m#city_state_df[['City', 'State']] = city_state_df.apply(lambda row: geocode(row['Latitude'], row['Longitude']), axis=1, result_type='expand')\u001b[39;00m\n\u001b[0;32m     34\u001b[0m \n\u001b[0;32m     35\u001b[0m \u001b[38;5;66;03m# Save or display the updated DataFrame\u001b[39;00m\n\u001b[0;32m     36\u001b[0m \u001b[38;5;28mprint\u001b[39m(city_state_df\u001b[38;5;241m.\u001b[39mhead())\n",
      "File \u001b[1;32m~\\anaconda3\\envs\\test_env_gpu\\lib\\site-packages\\geopy\\extra\\rate_limiter.py:274\u001b[0m, in \u001b[0;36mRateLimiter.__call__\u001b[1;34m(self, *args, **kwargs)\u001b[0m\n\u001b[0;32m    272\u001b[0m \u001b[38;5;28mself\u001b[39m\u001b[38;5;241m.\u001b[39m_acquire_request_slot()\n\u001b[0;32m    273\u001b[0m \u001b[38;5;28;01mtry\u001b[39;00m:\n\u001b[1;32m--> 274\u001b[0m     res \u001b[38;5;241m=\u001b[39m \u001b[38;5;28mself\u001b[39m\u001b[38;5;241m.\u001b[39mfunc(\u001b[38;5;241m*\u001b[39margs, \u001b[38;5;241m*\u001b[39m\u001b[38;5;241m*\u001b[39mkwargs)\n\u001b[0;32m    275\u001b[0m     \u001b[38;5;28;01mif\u001b[39;00m inspect\u001b[38;5;241m.\u001b[39misawaitable(res):\n\u001b[0;32m    276\u001b[0m         \u001b[38;5;28;01mraise\u001b[39;00m \u001b[38;5;167;01mValueError\u001b[39;00m(\n\u001b[0;32m    277\u001b[0m             \u001b[38;5;124m\"\u001b[39m\u001b[38;5;124mAn async awaitable has been passed to `RateLimiter`. \u001b[39m\u001b[38;5;124m\"\u001b[39m\n\u001b[0;32m    278\u001b[0m             \u001b[38;5;124m\"\u001b[39m\u001b[38;5;124mUse `AsyncRateLimiter` instead, which supports awaitables.\u001b[39m\u001b[38;5;124m\"\u001b[39m\n\u001b[0;32m    279\u001b[0m         )\n",
      "Cell \u001b[1;32mIn[3], line 11\u001b[0m, in \u001b[0;36mget_city_state\u001b[1;34m(lat, lon)\u001b[0m\n\u001b[0;32m     10\u001b[0m \u001b[38;5;28;01mdef\u001b[39;00m \u001b[38;5;21mget_city_state\u001b[39m(lat, lon):\n\u001b[1;32m---> 11\u001b[0m     result \u001b[38;5;241m=\u001b[39m \u001b[43mgeocoder\u001b[49m\u001b[38;5;241;43m.\u001b[39;49m\u001b[43mreverse_geocode\u001b[49m\u001b[43m(\u001b[49m\u001b[43mlat\u001b[49m\u001b[43m,\u001b[49m\u001b[43m \u001b[49m\u001b[43mlon\u001b[49m\u001b[43m)\u001b[49m\n\u001b[0;32m     12\u001b[0m     \u001b[38;5;28;01mif\u001b[39;00m result \u001b[38;5;129;01mand\u001b[39;00m \u001b[38;5;124m'\u001b[39m\u001b[38;5;124mcomponents\u001b[39m\u001b[38;5;124m'\u001b[39m \u001b[38;5;129;01min\u001b[39;00m result[\u001b[38;5;241m0\u001b[39m]:\n\u001b[0;32m     13\u001b[0m         components \u001b[38;5;241m=\u001b[39m result[\u001b[38;5;241m0\u001b[39m][\u001b[38;5;124m'\u001b[39m\u001b[38;5;124mcomponents\u001b[39m\u001b[38;5;124m'\u001b[39m]\n",
      "File \u001b[1;32m~\\anaconda3\\envs\\test_env_gpu\\lib\\site-packages\\opencage\\geocoder.py:237\u001b[0m, in \u001b[0;36mOpenCageGeocode.reverse_geocode\u001b[1;34m(self, lat, lng, **kwargs)\u001b[0m\n\u001b[0;32m    225\u001b[0m \u001b[38;5;28;01mdef\u001b[39;00m \u001b[38;5;21mreverse_geocode\u001b[39m(\u001b[38;5;28mself\u001b[39m, lat, lng, \u001b[38;5;241m*\u001b[39m\u001b[38;5;241m*\u001b[39mkwargs):\n\u001b[0;32m    226\u001b[0m \u001b[38;5;250m    \u001b[39m\u001b[38;5;124;03m\"\"\"\u001b[39;00m\n\u001b[0;32m    227\u001b[0m \u001b[38;5;124;03m    Given a latitude & longitude, return an address for that point from OpenCage's Geocoder.\u001b[39;00m\n\u001b[0;32m    228\u001b[0m \n\u001b[1;32m   (...)\u001b[0m\n\u001b[0;32m    235\u001b[0m \u001b[38;5;124;03m    :raises UnknownError: if something goes wrong with the OpenCage API\u001b[39;00m\n\u001b[0;32m    236\u001b[0m \u001b[38;5;124;03m    \"\"\"\u001b[39;00m\n\u001b[1;32m--> 237\u001b[0m     \u001b[38;5;28;01mreturn\u001b[39;00m \u001b[38;5;28mself\u001b[39m\u001b[38;5;241m.\u001b[39mgeocode(_query_for_reverse_geocoding(lat, lng), \u001b[38;5;241m*\u001b[39m\u001b[38;5;241m*\u001b[39mkwargs)\n",
      "File \u001b[1;32m~\\anaconda3\\envs\\test_env_gpu\\lib\\site-packages\\opencage\\geocoder.py:185\u001b[0m, in \u001b[0;36mOpenCageGeocode.geocode\u001b[1;34m(self, query, **kwargs)\u001b[0m\n\u001b[0;32m    183\u001b[0m raw_response \u001b[38;5;241m=\u001b[39m kwargs\u001b[38;5;241m.\u001b[39mpop(\u001b[38;5;124m'\u001b[39m\u001b[38;5;124mraw_response\u001b[39m\u001b[38;5;124m'\u001b[39m, \u001b[38;5;28;01mFalse\u001b[39;00m)\n\u001b[0;32m    184\u001b[0m request \u001b[38;5;241m=\u001b[39m \u001b[38;5;28mself\u001b[39m\u001b[38;5;241m.\u001b[39m_parse_request(query, kwargs)\n\u001b[1;32m--> 185\u001b[0m response \u001b[38;5;241m=\u001b[39m \u001b[38;5;28;43mself\u001b[39;49m\u001b[38;5;241;43m.\u001b[39;49m\u001b[43m_opencage_request\u001b[49m\u001b[43m(\u001b[49m\u001b[43mrequest\u001b[49m\u001b[43m)\u001b[49m\n\u001b[0;32m    187\u001b[0m \u001b[38;5;28;01mif\u001b[39;00m raw_response:\n\u001b[0;32m    188\u001b[0m     \u001b[38;5;28;01mreturn\u001b[39;00m response\n",
      "File \u001b[1;32m~\\anaconda3\\envs\\test_env_gpu\\lib\\site-packages\\backoff\\_sync.py:105\u001b[0m, in \u001b[0;36mretry_exception.<locals>.retry\u001b[1;34m(*args, **kwargs)\u001b[0m\n\u001b[0;32m     96\u001b[0m details \u001b[38;5;241m=\u001b[39m {\n\u001b[0;32m     97\u001b[0m     \u001b[38;5;124m\"\u001b[39m\u001b[38;5;124mtarget\u001b[39m\u001b[38;5;124m\"\u001b[39m: target,\n\u001b[0;32m     98\u001b[0m     \u001b[38;5;124m\"\u001b[39m\u001b[38;5;124margs\u001b[39m\u001b[38;5;124m\"\u001b[39m: args,\n\u001b[1;32m   (...)\u001b[0m\n\u001b[0;32m    101\u001b[0m     \u001b[38;5;124m\"\u001b[39m\u001b[38;5;124melapsed\u001b[39m\u001b[38;5;124m\"\u001b[39m: elapsed,\n\u001b[0;32m    102\u001b[0m }\n\u001b[0;32m    104\u001b[0m \u001b[38;5;28;01mtry\u001b[39;00m:\n\u001b[1;32m--> 105\u001b[0m     ret \u001b[38;5;241m=\u001b[39m target(\u001b[38;5;241m*\u001b[39margs, \u001b[38;5;241m*\u001b[39m\u001b[38;5;241m*\u001b[39mkwargs)\n\u001b[0;32m    106\u001b[0m \u001b[38;5;28;01mexcept\u001b[39;00m exception \u001b[38;5;28;01mas\u001b[39;00m e:\n\u001b[0;32m    107\u001b[0m     max_tries_exceeded \u001b[38;5;241m=\u001b[39m (tries \u001b[38;5;241m==\u001b[39m max_tries_value)\n",
      "File \u001b[1;32m~\\anaconda3\\envs\\test_env_gpu\\lib\\site-packages\\opencage\\geocoder.py:277\u001b[0m, in \u001b[0;36mOpenCageGeocode._opencage_request\u001b[1;34m(self, params)\u001b[0m\n\u001b[0;32m    274\u001b[0m     \u001b[38;5;28;01mraise\u001b[39;00m ForbiddenError()\n\u001b[0;32m    276\u001b[0m \u001b[38;5;28;01mif\u001b[39;00m response\u001b[38;5;241m.\u001b[39mstatus_code \u001b[38;5;129;01min\u001b[39;00m (\u001b[38;5;241m402\u001b[39m, \u001b[38;5;241m429\u001b[39m):\n\u001b[1;32m--> 277\u001b[0m     \u001b[38;5;28;01mraise\u001b[39;00m RateLimitExceededError()\n\u001b[0;32m    279\u001b[0m \u001b[38;5;28;01mif\u001b[39;00m response\u001b[38;5;241m.\u001b[39mstatus_code \u001b[38;5;241m==\u001b[39m \u001b[38;5;241m500\u001b[39m:\n\u001b[0;32m    280\u001b[0m     \u001b[38;5;28;01mraise\u001b[39;00m UnknownError(\u001b[38;5;124m\"\u001b[39m\u001b[38;5;124m500 status code from API\u001b[39m\u001b[38;5;124m\"\u001b[39m)\n",
      "\u001b[1;31mRateLimitExceededError\u001b[0m: You have used the requests available on your plan. Please purchase more if you wish to continue: https://opencagedata.com/pricing"
     ]
    }
   ],
   "source": [
    "# OpenCage API key\n",
    "api_key = 'bdf3366c5d274d509c2b4d98ab202221'\n",
    "geocoder = OpenCageGeocode(api_key)\n",
    "\n",
    "# Load your Dataframe\n",
    "data_path = r'data/state_city.txt'\n",
    "city_state_df = pd.read_csv(data_path, sep='\\t', header=None, names=['Latitude', 'Longitude', 'City', 'State'])\n",
    "\n",
    "# Function to Reverse Geocode\n",
    "def get_city_state(lat, lon):\n",
    "    result = geocoder.reverse_geocode(lat, lon)\n",
    "    if result and 'components' in result[0]:\n",
    "        components = result[0]['components']\n",
    "        city = components.get('city', '') or components.get('town', '') or components.get('village', '')\n",
    "        state = components.get('state', '')\n",
    "        return city, state\n",
    "    return None, None\n",
    "\n",
    "# Rate limiting the geocode call\n",
    "geocode = RateLimiter(get_city_state, min_delay_seconds = 1)\n",
    "\n",
    "# Apply the function to the DataFrame with tqdm progress bar\n",
    "tqdm.pandas()  # Activates tqdm progress_apply for pandas\n",
    "\n",
    "# Use progress_apply instead of apply to see progress\n",
    "city_state_df[['City', 'State']] = city_state_df.progress_apply(\n",
    "    lambda row: geocode(row['Latitude'], row['Longitude']), \n",
    "    axis=1, \n",
    "    result_type='expand'\n",
    ")\n",
    "\n",
    "# Apply the function to the DataFrame\n",
    "#city_state_df[['City', 'State']] = city_state_df.apply(lambda row: geocode(row['Latitude'], row['Longitude']), axis=1, result_type='expand')\n",
    "\n",
    "# Save or display the updated DataFrame\n",
    "print(city_state_df.head())\n"
   ]
  },
  {
   "cell_type": "code",
   "execution_count": 4,
   "id": "b27986ed-7b03-4c6c-9c8f-8d607de1b017",
   "metadata": {},
   "outputs": [
    {
     "name": "stdout",
     "output_type": "stream",
     "text": [
      "Updated data saved to data/updated_state_city.csv\n"
     ]
    }
   ],
   "source": [
    "# Save the updated DataFrame\n",
    "output_path = 'data/updated_state_city.csv'\n",
    "city_state_df.to_csv(output_path, index=False)\n",
    "print(f\"Updated data saved to {output_path}\")"
   ]
  },
  {
   "cell_type": "code",
   "execution_count": null,
   "id": "861aa319-7517-4256-8b22-03e1e211977a",
   "metadata": {},
   "outputs": [],
   "source": []
  }
 ],
 "metadata": {
  "kernelspec": {
   "display_name": "Python (GPU)",
   "language": "python",
   "name": "test_env_gpu"
  },
  "language_info": {
   "codemirror_mode": {
    "name": "ipython",
    "version": 3
   },
   "file_extension": ".py",
   "mimetype": "text/x-python",
   "name": "python",
   "nbconvert_exporter": "python",
   "pygments_lexer": "ipython3",
   "version": "3.9.18"
  }
 },
 "nbformat": 4,
 "nbformat_minor": 5
}
