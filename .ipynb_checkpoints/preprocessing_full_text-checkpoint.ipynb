{
 "cells": [
  {
   "cell_type": "markdown",
   "id": "61ccf420-6dcb-4ea6-9c08-56b0fd6c9991",
   "metadata": {},
   "source": [
    "# Imports and Modules"
   ]
  },
  {
   "cell_type": "code",
   "execution_count": 2,
   "id": "516502b5-10ed-472e-94e5-ec8591405c80",
   "metadata": {},
   "outputs": [],
   "source": [
    "import pandas as pd\n",
    "import csv\n",
    "from tqdm import tqdm"
   ]
  },
  {
   "cell_type": "markdown",
   "id": "7f188dee-4fcb-4a20-82c5-fb9f41a1b951",
   "metadata": {},
   "source": [
    "# Preprocess file 'full_text.txt'"
   ]
  },
  {
   "cell_type": "code",
   "execution_count": 3,
   "id": "2774b962-4c70-4d1f-a50c-eaa659d4ed6e",
   "metadata": {},
   "outputs": [
    {
     "name": "stdout",
     "output_type": "stream",
     "text": [
      "          UserID            Timestamp                 Coordinates   Latitude  \\\n",
      "0  USER_79321756  2010-03-03T04:15:26  ÃT: 47.528139,-122.197916  47.528139   \n",
      "1  USER_79321756  2010-03-03T04:55:32  ÃT: 47.528139,-122.197916  47.528139   \n",
      "2  USER_79321756  2010-03-03T05:13:34  ÃT: 47.528139,-122.197916  47.528139   \n",
      "3  USER_79321756  2010-03-03T05:28:02  ÃT: 47.528139,-122.197916  47.528139   \n",
      "4  USER_79321756  2010-03-03T05:56:13  ÃT: 47.528139,-122.197916  47.528139   \n",
      "\n",
      "    Longitude                                          TweetText  \n",
      "0 -122.197916  RT @USER_2ff4faca: IF SHE DO IT 1 MORE TIME......  \n",
      "1 -122.197916  @USER_77a4822d @USER_2ff4faca okay:) lol. Sayi...  \n",
      "2 -122.197916  RT @USER_5d4d777a: YOURE A FAG FOR GETTING IN ...  \n",
      "3 -122.197916  @USER_77a4822d yea ok..well answer that cheap ...  \n",
      "4 -122.197916  A sprite can disappear in her mouth - lil kim ...  \n",
      "\n",
      "DataFrame with 'Coordinates' dropped:\n",
      "          UserID            Timestamp   Latitude   Longitude  \\\n",
      "0  USER_79321756  2010-03-03T04:15:26  47.528139 -122.197916   \n",
      "1  USER_79321756  2010-03-03T04:55:32  47.528139 -122.197916   \n",
      "2  USER_79321756  2010-03-03T05:13:34  47.528139 -122.197916   \n",
      "3  USER_79321756  2010-03-03T05:28:02  47.528139 -122.197916   \n",
      "4  USER_79321756  2010-03-03T05:56:13  47.528139 -122.197916   \n",
      "\n",
      "                                           TweetText  \n",
      "0  RT @USER_2ff4faca: IF SHE DO IT 1 MORE TIME......  \n",
      "1  @USER_77a4822d @USER_2ff4faca okay:) lol. Sayi...  \n",
      "2  RT @USER_5d4d777a: YOURE A FAG FOR GETTING IN ...  \n",
      "3  @USER_77a4822d yea ok..well answer that cheap ...  \n",
      "4  A sprite can disappear in her mouth - lil kim ...  \n",
      "\n",
      "Modified DataFrame saved to 'full_text_dropped_dropped.txt'\n"
     ]
    }
   ],
   "source": [
    "def txt_to_dataframe(file_path, column_names=None):\n",
    "    # Read the .txt file into a DataFrame\n",
    "    # File is tab-seperated\n",
    "    df = pd.read_csv(file_path, sep='\\t', header=None, names=column_names, encoding='latin1')\n",
    "    return df\n",
    "\n",
    "# Load data:\n",
    "file_path = r'data/full_text.txt'\n",
    "\n",
    "# Headers\n",
    "column_names = ['UserID', 'Timestamp', 'Coordinates', 'Latitude', 'Longitude', 'TweetText']\n",
    "\n",
    "# Read the file into a DataFrame\n",
    "df = txt_to_dataframe(file_path, column_names)\n",
    "\n",
    "# Display the first few rows of the DataFrame\n",
    "print(df.head())\n",
    "\n",
    "# Drop a column\n",
    "df_dropped = df.drop(columns=['Coordinates'])\n",
    "print(\"\\nDataFrame with 'Coordinates' dropped:\")\n",
    "print(df_dropped.head())\n",
    "\n",
    "# Save the modified DataFrame back to a .txt file\n",
    "df_dropped.to_csv(r'data/full_text_dropped.txt', sep='\\t', index=False)\n",
    "print(\"\\nModified DataFrame saved to 'full_text_dropped_dropped.txt'\")\n",
    "\n",
    "# Save to CSV:\n",
    "df.to_csv(r'data/full_text_dropped.csv', index=False)"
   ]
  }
 ],
 "metadata": {
  "kernelspec": {
   "display_name": "Python (GPU)",
   "language": "python",
   "name": "test_env_gpu"
  },
  "language_info": {
   "codemirror_mode": {
    "name": "ipython",
    "version": 3
   },
   "file_extension": ".py",
   "mimetype": "text/x-python",
   "name": "python",
   "nbconvert_exporter": "python",
   "pygments_lexer": "ipython3",
   "version": "3.9.18"
  }
 },
 "nbformat": 4,
 "nbformat_minor": 5
}
