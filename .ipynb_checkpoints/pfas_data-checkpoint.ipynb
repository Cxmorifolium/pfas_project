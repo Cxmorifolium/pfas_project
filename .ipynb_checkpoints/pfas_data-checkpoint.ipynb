{
 "cells": [
  {
   "cell_type": "code",
   "execution_count": 27,
   "id": "01b3b34d-134f-42c5-b019-5705d29048d6",
   "metadata": {},
   "outputs": [],
   "source": [
    "import os\n",
    "import pandas as pd"
   ]
  },
  {
   "cell_type": "code",
   "execution_count": 31,
   "id": "fe6fca15-f5f9-42dc-ae2b-c1f8a4498505",
   "metadata": {},
   "outputs": [
    {
     "name": "stdout",
     "output_type": "stream",
     "text": [
      "State average AnalyticalResultValues for AL/LA saved as 'state_avg_arv_AL_LA.csv'.\n",
      "      State  AnalyticalResultValue    MRL  state_id\n",
      "45410    AZ                  0.005  0.005         0\n",
      "45411    AZ                  0.004  0.004         0\n",
      "45412    AZ                  0.002  0.002         0\n",
      "45413    AZ                  0.020  0.020         0\n",
      "45414    AZ                  0.003  0.003         0\n"
     ]
    }
   ],
   "source": [
    "# Load file\n",
    "pfas_data_AL_LA = pd.read_csv(r\"data\\pfas_data\\UCMR5_All_Tribes_AK_LA.txt\", delimiter=\"\\t\", encoding=\"cp1252\")\n",
    "\n",
    "# Filter out rows where PWSID is numeric (tribal data has numeric identifiers)\n",
    "pfas_data_AL_LA = pfas_data_AL_LA[~pfas_data_AL_LA['PWSID'].str.isnumeric()]\n",
    "\n",
    "# Extract state abbreviation (first two characters of PWSID)\n",
    "pfas_data_AL_LA['State'] = pfas_data_AL_LA['PWSID'].str[:2]\n",
    "\n",
    "# Keep only relevant columns: State and AnalyticalResultValue\n",
    "pfas_data_cleaned_AL_LA = pfas_data_AL_LA[['State', 'AnalyticalResultValue', 'MRL']]\n",
    "\n",
    "# Filter for relevant states (same list of states you provided before)\n",
    "relevant_states = ['NY', 'NJ', 'CA', 'GA', 'FL', 'TX', 'MD', 'VA', 'NC', 'OH', 'IL', 'MI', 'PA', 'SC', 'CT', 'TN', 'AZ', 'MA', 'LA']\n",
    "pfas_data_cleaned_AL_LA = pfas_data_cleaned_AL_LA[pfas_data_cleaned_AL_LA['State'].isin(relevant_states)]\n",
    "\n",
    "# Mapping of state abbreviations to numeric state_id (based on your provided dictionary)\n",
    "state_abbr_to_state_id = {\n",
    "    'NY': 11, 'NJ': 10, 'CA': 1, 'GA': 4, 'FL': 3, 'TX': 17, 'MD': 7, 'VA': 18, 'NC': 12,\n",
    "    'OH': 13, 'IL': 5, 'MI': 9, 'PA': 14, 'SC': 15, 'CT': 2, 'TN': 16, 'AZ': 0, 'MA': 8, 'LA': 6\n",
    "}\n",
    "\n",
    "# Apply the mapping to the 'State' column to create 'state_id'\n",
    "pfas_data_cleaned_AL_LA['state_id'] = pfas_data_cleaned_AL_LA['State'].map(state_abbr_to_state_id)\n",
    "\n",
    "# Handle below-MRL values (set to MRL)\n",
    "pfas_data_cleaned_AL_LA['AnalyticalResultValue'] = pd.to_numeric(\n",
    "    pfas_data_cleaned_AL_LA['AnalyticalResultValue'], errors='coerce'\n",
    ").fillna(pfas_data_cleaned_AL_LA['MRL'])\n",
    "\n",
    "# Calculate the average AnalyticalResultValue for each state\n",
    "state_avg_arv_AL_LA = pfas_data_cleaned_AL_LA.groupby('state_id', as_index=False)['AnalyticalResultValue'].mean()\n",
    "\n",
    "# Save the cleaned PFAS data with averages\n",
    "state_avg_arv_AL_LA.to_csv(r\"data/pfas_data/state_avg_arv_AL_LA.csv\", index=False)\n",
    "print(\"State average AnalyticalResultValues for AL/LA saved as 'state_avg_arv_AL_LA.csv'.\")\n",
    "print(pfas_data_cleaned_AL_LA.head())\n"
   ]
  },
  {
   "cell_type": "code",
   "execution_count": 28,
   "id": "62493873-e413-4582-8116-08cfac094155",
   "metadata": {},
   "outputs": [
    {
     "name": "stdout",
     "output_type": "stream",
     "text": [
      "State average AnalyticalResultValues saved as 'state_avg_arv.csv'.\n"
     ]
    }
   ],
   "source": [
    "pfas_data = pd.read_csv(r\"data/pfas_data/UCMR5_All_MA_WY.txt\", delimiter=\"\\t\", encoding=\"cp1252\")\n",
    "\n",
    "# Extract state abbreviation\n",
    "pfas_data['State'] = pfas_data['PWSID'].str[:2]\n",
    "\n",
    "# Keep only relevant columns: State and AnalyticalResultValue\n",
    "pfas_data_cleaned = pfas_data[['State', 'AnalyticalResultValue', 'MRL']]\n",
    "\n",
    "# Placeholder: Filter for relevant states\n",
    "relevant_states = ['NY', 'NJ', 'CA', 'GA', 'FL', 'TX', 'MD', 'VA', 'NC', 'OH', 'IL', 'MI', 'PA', 'SC', 'CT', 'TN', 'AZ', 'MA', 'LA']\n",
    "pfas_data_cleaned = pfas_data_cleaned[pfas_data_cleaned['State'].isin(relevant_states)]\n",
    "\n",
    "# Mapping of state abbreviations to numeric state_id (based on your provided dictionary)\n",
    "state_abbr_to_state_id = {\n",
    "    'NY': 11, 'NJ': 10, 'CA': 1, 'GA': 4, 'FL': 3, 'TX': 17, 'MD': 7, 'VA': 18, 'NC': 12,\n",
    "    'OH': 13, 'IL': 5, 'MI': 9, 'PA': 14, 'SC': 15, 'CT': 2, 'TN': 16, 'AZ': 0, 'MA': 8, 'LA': 6\n",
    "}\n",
    "\n",
    "# Apply the mapping to the 'State' column to create 'state_id'\n",
    "pfas_data_cleaned['state_id'] = pfas_data_cleaned['State'].map(state_abbr_to_state_id)\n",
    "\n",
    "# Handle below-MRL values (set to MRL)\n",
    "pfas_data_cleaned['AnalyticalResultValue'] = pd.to_numeric(\n",
    "    pfas_data_cleaned['AnalyticalResultValue'], errors='coerce'\n",
    ").fillna(pfas_data_cleaned['MRL'])\n",
    "\n",
    "# Calculate the average AnalyticalResultValue for each state\n",
    "state_avg_arv = pfas_data_cleaned.groupby('state_id', as_index=False)['AnalyticalResultValue'].mean()\n",
    "\n",
    "# Save the cleaned PFAS data with averages\n",
    "state_avg_arv.to_csv(r\"data/pfas_data/state_avg_arv.csv\", index=False)\n",
    "print(\"State average AnalyticalResultValues saved as 'state_avg_arv.csv'.\")\n"
   ]
  },
  {
   "cell_type": "code",
   "execution_count": 29,
   "id": "c81cd714-f33e-40c2-862a-04c5fbe3ce6b",
   "metadata": {},
   "outputs": [
    {
     "name": "stdout",
     "output_type": "stream",
     "text": [
      "<bound method NDFrame.head of        State  AnalyticalResultValue    MRL  state_id\n",
      "0         MA                  0.003  0.003         8\n",
      "1         MA                  0.003  0.003         8\n",
      "2         MA                  0.003  0.003         8\n",
      "3         MA                  0.003  0.003         8\n",
      "4         MA                  0.003  0.003         8\n",
      "...      ...                    ...    ...       ...\n",
      "487356    VA                  0.005  0.005        18\n",
      "487357    VA                  0.002  0.002        18\n",
      "487358    VA                  0.004  0.004        18\n",
      "487359    VA                  0.003  0.003        18\n",
      "487360    VA                  0.005  0.005        18\n",
      "\n",
      "[349705 rows x 4 columns]>\n"
     ]
    }
   ],
   "source": [
    "print(pfas_data_cleaned.head)"
   ]
  },
  {
   "cell_type": "code",
   "execution_count": 32,
   "id": "c4e3b920-f900-4fb0-ae73-5f81c16b3f6f",
   "metadata": {},
   "outputs": [
    {
     "name": "stdout",
     "output_type": "stream",
     "text": [
      "Merged and sorted state average AnalyticalResultValues saved as 'merged_state_avg_arv.csv'.\n",
      "<bound method DataFrame.info of     state_id  AnalyticalResultValue\n",
      "0          7               0.359763\n",
      "1          8               0.316810\n",
      "2          9               0.327840\n",
      "3         10               0.339042\n",
      "4         11               0.374170\n",
      "5         12               0.347457\n",
      "6         13               0.358817\n",
      "7         14               0.520991\n",
      "8         15               0.340402\n",
      "9         16               0.317085\n",
      "10        17               0.864648\n",
      "11        18               0.339540\n",
      "12         0               2.282289\n",
      "13         1               0.484683\n",
      "14         2               0.309330\n",
      "15         3               0.340777\n",
      "16         4               0.322682\n",
      "17         5               0.459714\n",
      "18         6               0.504917>\n"
     ]
    }
   ],
   "source": [
    "# Load the first PFAS dataset (state_avg_arv)\n",
    "state_avg_arv = pd.read_csv(r\"data/pfas_data/state_avg_arv.csv\")\n",
    "\n",
    "# Load the second PFAS dataset (state_avg_arv_AL_LA)\n",
    "state_avg_arv_AL_LA = pd.read_csv(r\"data/pfas_data/state_avg_arv_AL_LA.csv\")\n",
    "\n",
    "# Merge the two datasets on 'state_id' (assuming both have the same 'state_id' column)\n",
    "merged_data = pd.concat([state_avg_arv, state_avg_arv_AL_LA], ignore_index=True)\n",
    "\n",
    "# Sort the merged data by 'state_id' in ascending order (this corresponds to the label encoding order)\n",
    "merged_data_sorted = merged_data.sort_values(by='state_id', ascending=True)\n",
    "\n",
    "# Save the merged and sorted data to a CSV file\n",
    "merged_data_sorted.to_csv(r\"data/pfas_data/merged_state_avg_arv.csv\", index=False)\n",
    "print(\"Merged and sorted state average AnalyticalResultValues saved as 'merged_state_avg_arv.csv'.\")\n"
   ]
  },
  {
   "cell_type": "code",
   "execution_count": null,
   "id": "34812a42-9df7-4b9d-9216-2d7a7400c62e",
   "metadata": {},
   "outputs": [],
   "source": []
  }
 ],
 "metadata": {
  "kernelspec": {
   "display_name": "Python (GPU)",
   "language": "python",
   "name": "test_env_gpu"
  },
  "language_info": {
   "codemirror_mode": {
    "name": "ipython",
    "version": 3
   },
   "file_extension": ".py",
   "mimetype": "text/x-python",
   "name": "python",
   "nbconvert_exporter": "python",
   "pygments_lexer": "ipython3",
   "version": "3.9.18"
  }
 },
 "nbformat": 4,
 "nbformat_minor": 5
}
