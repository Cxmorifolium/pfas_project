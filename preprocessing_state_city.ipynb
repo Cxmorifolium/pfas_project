{
 "cells": [
  {
   "cell_type": "markdown",
   "id": "61ccf420-6dcb-4ea6-9c08-56b0fd6c9991",
   "metadata": {},
   "source": [
    "# Imports and Modules"
   ]
  },
  {
   "cell_type": "code",
   "execution_count": 2,
   "id": "516502b5-10ed-472e-94e5-ec8591405c80",
   "metadata": {},
   "outputs": [],
   "source": [
    "import pandas as pd\n",
    "import csv\n",
    "from tqdm import tqdm"
   ]
  },
  {
   "cell_type": "markdown",
   "id": "f79bc7fd",
   "metadata": {},
   "source": [
    "# Text to Dataframe"
   ]
  },
  {
   "cell_type": "code",
   "execution_count": 3,
   "id": "e05eabd7-329a-4f75-b047-7aadaec34164",
   "metadata": {},
   "outputs": [
    {
     "name": "stdout",
     "output_type": "stream",
     "text": [
      "    Latitude   Longitude                                     City State\n",
      "0  13.686980  100.609881  à¸à¸£à¸¸à¸à¹à¸à¸à¸¡à¸«à¸²à¸à¸à¸£   NaN\n",
      "1  13.690787  100.609060  à¸à¸£à¸¸à¸à¹à¸à¸à¸¡à¸«à¸²à¸à¸à¸£   NaN\n",
      "2  13.699518  100.605383  à¸à¸£à¸¸à¸à¹à¸à¸à¸¡à¸«à¸²à¸à¸à¸£   NaN\n",
      "3  13.711378  100.597386  à¸à¸£à¸¸à¸à¹à¸à¸à¸¡à¸«à¸²à¸à¸à¸£   NaN\n",
      "4  13.715302  100.591672  à¸à¸£à¸¸à¸à¹à¸à¸à¸¡à¸«à¸²à¸à¸à¸£   NaN\n",
      "<class 'pandas.core.frame.DataFrame'>\n",
      "RangeIndex: 46322 entries, 0 to 46321\n",
      "Data columns (total 4 columns):\n",
      " #   Column     Non-Null Count  Dtype  \n",
      "---  ------     --------------  -----  \n",
      " 0   Latitude   46322 non-null  float64\n",
      " 1   Longitude  46322 non-null  float64\n",
      " 2   City       42482 non-null  object \n",
      " 3   State      45966 non-null  object \n",
      "dtypes: float64(2), object(2)\n",
      "memory usage: 1.4+ MB\n",
      "None\n"
     ]
    }
   ],
   "source": [
    "def txt_to_dataframe(file_path, column_names=None):\n",
    "    # Read the .txt file into a DataFrame; file is tab-separated\n",
    "    df = pd.read_csv(file_path, \n",
    "                     sep='\\t', \n",
    "                     header=None, \n",
    "                     names=column_names, \n",
    "                     encoding='latin1',\n",
    "                     na_values=[''], # Treat empty fields as NaN\n",
    "                     keep_default_na=True) # Keep the default NaN recognizers\n",
    "    return df\n",
    "\n",
    "# Load data\n",
    "file_path = r'data/state_city.txt'\n",
    "# Headers\n",
    "column_names = ['Latitude', 'Longitude', 'City', 'State']\n",
    "# Read the file into a DataFrame\n",
    "df2 = txt_to_dataframe(file_path, column_names)\n",
    "\n",
    "# Display the first few rows of the DataFrame\n",
    "print(df2.head())\n",
    "\n",
    "# Get info about the DataFrame\n",
    "print(df2.info())\n",
    "\n",
    "# If you want to save it as a different file format, like CSV:\n",
    "df2.to_csv('state_city.csv', index=False)"
   ]
  },
  {
   "cell_type": "markdown",
   "id": "a618c93f-e27e-4003-acb5-819f3d2c6ea0",
   "metadata": {},
   "source": [
    "# Preprocess file 'state_city.txt'"
   ]
  },
  {
   "cell_type": "code",
   "execution_count": 4,
   "id": "9da74975-1c31-4045-9a5a-554883899973",
   "metadata": {},
   "outputs": [
    {
     "name": "stdout",
     "output_type": "stream",
     "text": [
      "Sorted by State and City:\n",
      "        Latitude   Longitude            City    State\n",
      "8295   33.580862  -86.956455      Adamsville  Alabama\n",
      "7055   32.923909  -85.949771  Alexander City  Alabama\n",
      "14802  34.778611  -86.944281          Athens  Alabama\n",
      "14853  34.790520  -86.975996          Athens  Alabama\n",
      "14868  34.798632  -86.975188          Athens  Alabama\n",
      "...          ...         ...             ...      ...\n",
      "8      18.059533  -76.126374             NaN      NaN\n",
      "28     21.806420 -112.150270             NaN      NaN\n",
      "239    25.717681  -70.942583             NaN      NaN\n",
      "1244   26.133651  -82.321223             NaN      NaN\n",
      "7667   33.428679  -70.602265             NaN      NaN\n",
      "\n",
      "[46322 rows x 4 columns]\n",
      "\n",
      "Grouped by State and City (with average coordinates):\n",
      "                                                  State  \\\n",
      "0                                               Alabama   \n",
      "1                                               Alabama   \n",
      "2                                               Alabama   \n",
      "3                                               Alabama   \n",
      "4                                               Alabama   \n",
      "...                                                 ...   \n",
      "3585                                            Wyoming   \n",
      "3586                ÐÐ¾ÑÐºÐ¾Ð²ÑÐºÐ°Ñ Ð¾Ð±Ð»Ð°ÑÑÑ   \n",
      "3587              Ð§ÐµÐ»ÑÐ±Ð¸Ð½ÑÐºÐ°Ñ Ð¾Ð±Ð»Ð°ÑÑÑ   \n",
      "3588                            Ù",
      "ÙØ·ÙØ© Ø§ÙØ±ÙØ§Ø¶   \n",
      "3589  æ°çç»´å¾å°èªæ²»åº Ø´ÙÙØ¬Ø§Ú­ Ø¦ÛÙØº...   \n",
      "\n",
      "                                     City   Latitude   Longitude  \n",
      "0                              Adamsville  33.580862  -86.956455  \n",
      "1                          Alexander City  32.923909  -85.949771  \n",
      "2                                  Athens  34.806198  -86.958965  \n",
      "3                                  Auburn  32.594473  -85.480678  \n",
      "4                                Bessemer  33.336886  -86.955847  \n",
      "...                                   ...        ...         ...  \n",
      "3585                         Rock Springs  41.575647 -109.266643  \n",
      "3586                     Ð¡ÐµÐ»ÑÑÐ¸Ð½Ð¾  55.506950   36.981116  \n",
      "3587                           ÐÐ»ÑÑÐ¸  54.564428   61.294249  \n",
      "3588                         Ø§ÙØ±ÙØ§Ø¶  24.701295   46.682084  \n",
      "3589  å",
      "å­ååä¾é ÙÙØ²ÙÙØ¨ÙÙ  39.351815   76.588864  \n",
      "\n",
      "[3590 rows x 4 columns]\n",
      "\n",
      "Unique cities in each state:\n",
      "State\n",
      "Alabama                                                                             [Gulf Shores, Orange Beach, nan, Foley, Daphne...\n",
      "Alba / Scotland                                                                                  [Prestwick, Troon, Howwood, Glasgow]\n",
      "Arizona                                                                             [Sierra Vista, nan, Tucson, Yuma, Avenue B & C...\n",
      "Arkansas                                                                            [nan, Texarkana, Pine Bluff, Helena-West Helen...\n",
      "Baja California                                                                     [Punta Colonet (Ejido MÃ©xico), Tijuana, Mexic...\n",
      "                                                                                                          ...                        \n",
      "Wyoming                                                                                                                [Rock Springs]\n",
      "ÐÐ¾ÑÐºÐ¾Ð²ÑÐºÐ°Ñ Ð¾Ð±Ð»Ð°ÑÑÑ                                                                                [Ð¡ÐµÐ»ÑÑÐ¸Ð½Ð¾]\n",
      "Ð§ÐµÐ»ÑÐ±Ð¸Ð½ÑÐºÐ°Ñ Ð¾Ð±Ð»Ð°ÑÑÑ                                                                                    [ÐÐ»ÑÑÐ¸]\n",
      "Ù",
      "ÙØ·ÙØ© Ø§ÙØ±ÙØ§Ø¶                                                                                           [Ø§ÙØ±ÙØ§Ø¶, nan]\n",
      "æ°çç»´å¾å°èªæ²»åº Ø´ÙÙØ¬Ø§Ú­ Ø¦ÛÙØºÛØ± Ø¦Ø§Ù¾ØªÙÙÙÙ",
      " Ø±Ø§ÙÙÙÛ                [å",
      "å­ååä¾é ÙÙØ²ÙÙØ¨ÙÙ]\n",
      "Name: City, Length: 92, dtype: object\n"
     ]
    }
   ],
   "source": [
    "# Method 1: Sort by State and then by City\n",
    "def sort_by_state_and_city(df):\n",
    "    return df.sort_values(['State', 'City'])\n",
    "\n",
    "# Method 2: Group by State and City, aggregating latitude and longitude\n",
    "def group_by_state_and_city(df):\n",
    "    return df.groupby(['State', 'City']).agg({\n",
    "        'Latitude': 'mean',\n",
    "        'Longitude': 'mean'\n",
    "    }).reset_index()\n",
    "\n",
    "# Apply Method 1\n",
    "df_sorted = sort_by_state_and_city(df2)\n",
    "print(\"Sorted by State and City:\")\n",
    "print(df_sorted)\n",
    "\n",
    "# Apply Method 2\n",
    "df_grouped = group_by_state_and_city(df2)\n",
    "print(\"\\nGrouped by State and City (with average coordinates):\")\n",
    "print(df_grouped)\n",
    "\n",
    "# Save the results\n",
    "df_sorted.to_csv(r'data/sorted_cities.csv', index=False)\n",
    "df_grouped.to_csv(r'data/grouped_cities.csv', index=False)\n",
    "\n",
    "# To get a list of unique cities in each state\n",
    "cities_by_state = df2.groupby('State')['City'].unique()\n",
    "print(\"\\nUnique cities in each state:\")\n",
    "print(cities_by_state)"
   ]
  },
  {
   "cell_type": "markdown",
   "id": "1af9fc90-daf4-4b8e-9840-7f21af6ee119",
   "metadata": {},
   "source": [
    "## Extract USA states from df"
   ]
  },
  {
   "cell_type": "code",
   "execution_count": 6,
   "id": "ae8fb7a6-1b80-406b-9610-bb444392b1be",
   "metadata": {},
   "outputs": [
    {
     "name": "stdout",
     "output_type": "stream",
     "text": [
      "     State            City   Latitude  Longitude\n",
      "0  Alabama      Adamsville  33.580862 -86.956455\n",
      "1  Alabama  Alexander City  32.923909 -85.949771\n",
      "2  Alabama          Athens  34.806198 -86.958965\n",
      "3  Alabama          Auburn  32.594473 -85.480678\n",
      "4  Alabama        Bessemer  33.336886 -86.955847\n"
     ]
    }
   ],
   "source": [
    "us_states = {\n",
    "    'Alabama', 'Alaska', 'Arizona', 'Arkansas', 'California', 'Colorado', 'Connecticut', 'Delaware',\n",
    "    'Florida', 'Georgia', 'Hawaii', 'Idaho', 'Illinois', 'Indiana', 'Iowa', 'Kansas', 'Kentucky',\n",
    "    'Louisiana', 'Maine', 'Maryland', 'Massachusetts', 'Michigan', 'Minnesota', 'Mississippi',\n",
    "    'Missouri', 'Montana', 'Nebraska', 'Nevada', 'New Hampshire', 'New Jersey', 'New Mexico',\n",
    "    'New York', 'North Carolina', 'North Dakota', 'Ohio', 'Oklahoma', 'Oregon', 'Pennsylvania',\n",
    "    'Rhode Island', 'South Carolina', 'South Dakota', 'Tennessee', 'Texas', 'Utah', 'Vermont',\n",
    "    'Virginia', 'Washington', 'West Virginia', 'Wisconsin', 'Wyoming', 'District of Columbia',\n",
    "    'American Samoa', 'Guam', 'Northern Mariana Islands', 'Puerto Rico', 'U.S. Virgin Islands'\n",
    "}\n",
    "\n",
    "# Select from above df\n",
    "usa_df = df_grouped[df_grouped['State'].isin(us_states)]\n",
    "\n",
    "# Save .csv\n",
    "usa_df.to_csv(r'data/usa_df.csv', index=False)\n",
    "\n",
    "print(usa_df.head())\n"
   ]
  },
  {
   "cell_type": "markdown",
   "id": "b1fb7232-8ee4-4490-84b2-81a3c6cc5a2a",
   "metadata": {},
   "source": [
    "## Round the coordinates"
   ]
  },
  {
   "cell_type": "code",
   "execution_count": 11,
   "id": "861aa319-7517-4256-8b22-03e1e211977a",
   "metadata": {},
   "outputs": [
    {
     "name": "stdout",
     "output_type": "stream",
     "text": [
      "     State            City  Latitude  Longitude\n",
      "0  Alabama      Adamsville    33.581    -86.956\n",
      "1  Alabama  Alexander City    32.924    -85.950\n",
      "2  Alabama          Athens    34.806    -86.959\n",
      "3  Alabama          Auburn    32.594    -85.481\n",
      "4  Alabama        Bessemer    33.337    -86.956\n"
     ]
    }
   ],
   "source": [
    "# Create a new dataframe with rounded values\n",
    "usa_df_rounded = usa_df.copy()\n",
    "\n",
    "# Round Latitude and Longitude to 3 decimal places\n",
    "usa_df_rounded['Latitude'] = usa_df_rounded['Latitude'].round(3)\n",
    "usa_df_rounded['Longitude'] = usa_df_rounded['Longitude'].round(3)\n",
    "\n",
    "# Save to .csv\n",
    "usa_df_rounded.to_csv('usa_df_rounded.csv', index=False)\n",
    "\n",
    "print(usa_df_rounded.head())"
   ]
  },
  {
   "cell_type": "code",
   "execution_count": null,
   "id": "8c5d5094-bca5-4021-9488-c9c720f2e9ca",
   "metadata": {},
   "outputs": [],
   "source": []
  }
 ],
 "metadata": {
  "kernelspec": {
   "display_name": "Python (GPU)",
   "language": "python",
   "name": "test_env_gpu"
  },
  "language_info": {
   "codemirror_mode": {
    "name": "ipython",
    "version": 3
   },
   "file_extension": ".py",
   "mimetype": "text/x-python",
   "name": "python",
   "nbconvert_exporter": "python",
   "pygments_lexer": "ipython3",
   "version": "3.9.18"
  }
 },
 "nbformat": 4,
 "nbformat_minor": 5
}
