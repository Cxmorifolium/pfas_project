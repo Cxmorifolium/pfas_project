{
 "cells": [
  {
   "cell_type": "code",
   "execution_count": 2,
   "id": "b37528a7-6614-4606-9189-7fbd6df122c3",
   "metadata": {},
   "outputs": [
    {
     "name": "stdout",
     "output_type": "stream",
     "text": [
      "WARNING:tensorflow:From C:\\Users\\nicho\\anaconda3\\Lib\\site-packages\\tf_keras\\src\\losses.py:2976: The name tf.losses.sparse_softmax_cross_entropy is deprecated. Please use tf.compat.v1.losses.sparse_softmax_cross_entropy instead.\n",
      "\n"
     ]
    }
   ],
   "source": [
    "import pandas as pd\n",
    "import numpy as np\n",
    "import random\n",
    "from IPython.display import clear_output\n",
    "import time\n",
    "from transformers import BertTokenizer, TFBertModel"
   ]
  },
  {
   "cell_type": "code",
   "execution_count": 3,
   "id": "5d1a5c30-4729-4aa4-8d6e-cee7675188a7",
   "metadata": {},
   "outputs": [],
   "source": [
    "df1 = pd.read_csv('All_US_tweets.csv')"
   ]
  },
  {
   "cell_type": "code",
   "execution_count": 4,
   "id": "8e0e153c-0f52-4292-8169-a48cd6bfb130",
   "metadata": {},
   "outputs": [
    {
     "data": {
      "text/plain": [
       "count    372389.000000\n",
       "mean         11.709132\n",
       "std           6.917127\n",
       "min           1.000000\n",
       "1%            2.000000\n",
       "50%          10.000000\n",
       "99%          28.000000\n",
       "max          29.000000\n",
       "Name: TweetText, dtype: float64"
      ]
     },
     "execution_count": 4,
     "metadata": {},
     "output_type": "execute_result"
    }
   ],
   "source": [
    "df1['TweetText'] = df1['TweetText'].astype(str)\n",
    "df1 = df1[df1['TweetText'].str.split(\" \").str.len() <= 29]\n",
    "df1[\"TweetText\"].str.split(\" \").str.len().describe(percentiles=[0.01, 0.5, 0.99])"
   ]
  },
  {
   "cell_type": "code",
   "execution_count": 5,
   "id": "1ae4a516-cf74-473c-93c5-c7061ae3362b",
   "metadata": {},
   "outputs": [
    {
     "name": "stdout",
     "output_type": "stream",
     "text": [
      "WARNING:tensorflow:From C:\\Users\\nicho\\anaconda3\\Lib\\site-packages\\tf_keras\\src\\backend.py:873: The name tf.get_default_graph is deprecated. Please use tf.compat.v1.get_default_graph instead.\n",
      "\n"
     ]
    },
    {
     "name": "stderr",
     "output_type": "stream",
     "text": [
      "Some weights of the PyTorch model were not used when initializing the TF 2.0 model TFBertModel: ['cls.predictions.transform.dense.bias', 'cls.seq_relationship.bias', 'cls.predictions.transform.LayerNorm.weight', 'cls.predictions.transform.dense.weight', 'cls.seq_relationship.weight', 'cls.predictions.bias', 'cls.predictions.transform.LayerNorm.bias']\n",
      "- This IS expected if you are initializing TFBertModel from a PyTorch model trained on another task or with another architecture (e.g. initializing a TFBertForSequenceClassification model from a BertForPreTraining model).\n",
      "- This IS NOT expected if you are initializing TFBertModel from a PyTorch model that you expect to be exactly identical (e.g. initializing a TFBertForSequenceClassification model from a BertForSequenceClassification model).\n",
      "All the weights of TFBertModel were initialized from the PyTorch model.\n",
      "If your task is similar to the task the model of the checkpoint was trained on, you can already use TFBertModel for predictions without further training.\n"
     ]
    }
   ],
   "source": [
    "# Bert tools\n",
    "\n",
    "b_tokenizer = BertTokenizer.from_pretrained('bert-base-uncased')\n",
    "bert_model = TFBertModel.from_pretrained('bert-base-uncased')\n",
    "\n",
    "def tokenize_tweet(tweet):\n",
    "    return b_tokenizer(tweet, padding='max_length', truncation=True, return_tensors=\"tf\")\n",
    "\n",
    "#tokenized_tweets = df['tweet_text'].apply(tokenize_tweet)\n",
    "\n",
    "def get_bert_embeddings(tokenized_tweet):\n",
    "    outputs = bert_model(tokenized_tweet)\n",
    "    return outputs.last_hidden_state[:, 0, :]\n",
    "\n",
    "#embeddings = tokenized_tweets.apply(get_bert_embeddings)"
   ]
  },
  {
   "cell_type": "code",
   "execution_count": 8,
   "id": "a303177a-e121-4467-8726-3f2527eb3dcf",
   "metadata": {},
   "outputs": [],
   "source": [
    "def time_return(start, end):\n",
    "    total_time = end - start\n",
    "    hours = total_time // 3600\n",
    "    mins = total_time % 3600 // 60\n",
    "    sec = total_time % 3600 % 60\n",
    "\n",
    "    print(\"Execution took: \" + str(hours) + ' hrs, ' + str(mins) + ' min, ' + str(np.round(sec,2)) + 'secs')"
   ]
  },
  {
   "cell_type": "code",
   "execution_count": 26,
   "id": "44ca489f-9685-4fd3-affa-d344edd752d8",
   "metadata": {},
   "outputs": [],
   "source": [
    "df2 = df1.head(500).copy()"
   ]
  },
  {
   "cell_type": "code",
   "execution_count": 27,
   "id": "5614ed69-d1d6-4c68-9102-ade513a7f0f1",
   "metadata": {},
   "outputs": [],
   "source": [
    "df3 = df2['TweetText'].to_list()"
   ]
  },
  {
   "cell_type": "code",
   "execution_count": 16,
   "id": "1d9818be-9562-4273-80b5-b5ae2a43a2d1",
   "metadata": {},
   "outputs": [],
   "source": [
    "start1 = time.time()\n",
    "\n",
    "df2['TweetText'] = df2['TweetText'].apply(tokenize_tweet)\n",
    "df2['TweetText'] = df2['TweetText'].apply(get_bert_embeddings)\n",
    "\n",
    "end1 = time.time()\n"
   ]
  },
  {
   "cell_type": "code",
   "execution_count": 17,
   "id": "ec724074-f3e1-4738-8661-05d1e0fc5cfe",
   "metadata": {},
   "outputs": [
    {
     "name": "stdout",
     "output_type": "stream",
     "text": [
      "Execution took: 0.0 hrs, 6.0 min, 4.76secs\n"
     ]
    }
   ],
   "source": [
    "time_return(start1, end1)"
   ]
  },
  {
   "cell_type": "code",
   "execution_count": 28,
   "id": "d95ace5d-6164-4611-ba25-ded776c402ff",
   "metadata": {},
   "outputs": [
    {
     "name": "stdout",
     "output_type": "stream",
     "text": [
      "Rows processed: 490/500\n"
     ]
    }
   ],
   "source": [
    "start2 = time.time()\n",
    "\n",
    "i = 0\n",
    "imax = len(df3)\n",
    "out = list()\n",
    "\n",
    "while i < len(df3):\n",
    "\n",
    "    text = df3[i]\n",
    "    text = tokenize_tweet(text)\n",
    "    text = get_bert_embeddings(text)\n",
    "    df3[i] = text\n",
    "\n",
    "    if i % 10 == 0:\n",
    "        clear_output()\n",
    "        print('Rows processed: ' + str(i) + '/' + str(imax))\n",
    "\n",
    "    i+= 1\n",
    "\n",
    "end2 = time.time()"
   ]
  },
  {
   "cell_type": "code",
   "execution_count": 29,
   "id": "3fb1cac5-409a-41f9-964c-2d4a84216397",
   "metadata": {},
   "outputs": [
    {
     "name": "stdout",
     "output_type": "stream",
     "text": [
      "Execution took: 0.0 hrs, 6.0 min, 13.25secs\n"
     ]
    }
   ],
   "source": [
    "time_return(start2, end2)"
   ]
  },
  {
   "cell_type": "code",
   "execution_count": null,
   "id": "d589a4d9-cba6-48c0-9461-186ce2b44f6d",
   "metadata": {},
   "outputs": [],
   "source": []
  }
 ],
 "metadata": {
  "kernelspec": {
   "display_name": "Python 3 (ipykernel)",
   "language": "python",
   "name": "python3"
  },
  "language_info": {
   "codemirror_mode": {
    "name": "ipython",
    "version": 3
   },
   "file_extension": ".py",
   "mimetype": "text/x-python",
   "name": "python",
   "nbconvert_exporter": "python",
   "pygments_lexer": "ipython3",
   "version": "3.12.7"
  }
 },
 "nbformat": 4,
 "nbformat_minor": 5
}
