{
 "cells": [
  {
   "cell_type": "code",
   "execution_count": 1,
   "metadata": {},
   "outputs": [],
   "source": [
    "import pandas as pd\n",
    "from IPython.display import clear_output\n",
    "\n",
    "import warnings\n",
    "\n",
    "# Suppress all warnings\n",
    "warnings.filterwarnings('ignore')"
   ]
  },
  {
   "cell_type": "code",
   "execution_count": 2,
   "metadata": {},
   "outputs": [],
   "source": [
    "# Original Regions\n",
    "West_Coast = ('California','Oregon', 'Washington')\n",
    "Southwest = ('Arizona','New Mexico','Oklahoma','Texas')\n",
    "Rockies = ('Nevada','Utah','Colorado','Wyoming','Idaho','Montana')\n",
    "Midwest = ('North Dakota','South Dakota','Nebraska','Kansas','Missouri','Iowa','Minnesota')\n",
    "East_Midwest = ('Wisconsin','Illinois','Indiana','Michigan','Ohio')\n",
    "South = ('Tennessee','Kentucky','North Carolina', 'Virginia','West Virginia','Maryland','Delaware', 'District of Columbia')\n",
    "Deep_South = ('Arkansas','Louisiana','Mississippi','Alabama','Georgia','Florida','South Carolina',)\n",
    "Northeast = ('Pennsylvania','New Jersey','New York','Massachusetts', 'Rhode Island','Conneticut','Vermont','New Hampshire','Maine')\n",
    "NonCont = ('Hawaii','Alaska', 'Puerto Rico')"
   ]
  },
  {
   "cell_type": "code",
   "execution_count": 3,
   "metadata": {},
   "outputs": [],
   "source": [
    "# pool\n"
   ]
  },
  {
   "cell_type": "code",
   "execution_count": 4,
   "metadata": {},
   "outputs": [],
   "source": [
    "# Timezones\n",
    "East = ('Pennsylvania','New Jersey','New York','Massachusetts', 'Rhode Island','Conneticut','Vermont','New Hampshire','Maine',\n",
    "       'Puerto Rico', 'Michigan','Ohio','North Carolina', 'Virginia','West Virginia','Maryland','Delaware', 'District of Columbia',\n",
    "        'Indiana','Kentucky','Georgia','Florida','South Carolina')\n",
    "\n",
    "Central = ('Oklahoma','Texas','North Dakota','South Dakota','Nebraska','Kansas','Missouri','Iowa','Minnesota','Arkansas','Louisiana',\n",
    "           'Mississippi','Alabama','Tennessee','Wisconsin','Illinois')\n",
    "\n",
    "Mountain = ('Arizona','New Mexico','Utah','Colorado','Wyoming','Idaho','Montana')\n",
    "\n",
    "West = ('California','Oregon', 'Washington','Nevada')\n",
    "\n",
    "\n",
    "Pacific = ('Hawaii','Alaska')"
   ]
  },
  {
   "cell_type": "code",
   "execution_count": 5,
   "metadata": {},
   "outputs": [],
   "source": [
    "# Split timezones\n",
    "N_East = ('Pennsylvania','New Jersey','New York','Massachusetts', 'Rhode Island','Conneticut','Vermont','New Hampshire','Maine',\n",
    "         'Michigan','Ohio','West Virginia','Maryland','Delaware', 'District of Columbia','Indiana')\n",
    "S_East = ('Puerto Rico','North Carolina', 'Virginia','Kentucky','Georgia','Florida','South Carolina')\n",
    "\n",
    "N_Central = ('North Dakota','South Dakota','Nebraska','Missouri','Iowa','Minnesota','Wisconsin','Illinois')\n",
    "S_Central = ('Oklahoma','Texas','Kansas','Arkansas','Louisiana','Mississippi','Alabama','Tennessee')\n",
    "\n",
    "N_Mountain = ('Wyoming','Idaho','Montana')\n",
    "S_Mountain = ('Arizona','New Mexico','Utah','Colorado')\n",
    "\n",
    "N_West = ('Oregon','Washington')\n",
    "S_West = ('California','Nevada')\n",
    "\n"
   ]
  },
  {
   "cell_type": "code",
   "execution_count": 6,
   "metadata": {},
   "outputs": [],
   "source": [
    "r1 = ('Conneticut','Maine','Massachusetts','New Hampshire','Rhode Island','Vermont')\n",
    "r2 = ('New Jersey','New York','Puerto Rico')\n",
    "r3 = ('Delaware','District of Columbia','Maryland','Pennsylvania','Virginia','West Virginia')\n",
    "r4 = ('Alabama','Florida','Georgia','Kentucky','Mississippi','North Carolina',\n",
    "     'South Carolina','Tennessee')\n",
    "r5 = ('Illinois','Indiana','Michigan','Minnesota','Ohio','Wisconsin')\n",
    "r6 = ('Arkansas','Louisiana', 'New Mexico','Oklahoma','Texas')\n",
    "r7 = ('Iowa','Kansas','Missouri','Nebraska')\n",
    "r8 = ('Colorado','Montana','North Dakota','South Dakota','Utah','Wyoming')\n",
    "r9 = ('Arizona','California','Hawaii','Nevada')\n",
    "r10 = ('Alaska','Idaho','Oregon','Washington')"
   ]
  },
  {
   "cell_type": "code",
   "execution_count": 7,
   "metadata": {},
   "outputs": [],
   "source": [
    "df = pd.read_csv('All_US_tweets.csv')"
   ]
  },
  {
   "cell_type": "code",
   "execution_count": 8,
   "metadata": {},
   "outputs": [
    {
     "data": {
      "text/plain": [
       "array(['Alabama', 'Arizona', 'Arkansas', 'California', 'Colorado',\n",
       "       'Conneticut', 'Delaware', 'District of Columbia', 'Florida',\n",
       "       'Georgia', 'Idaho', 'Illinois', 'Indiana', 'Iowa', 'Kansas',\n",
       "       'Kentucky', 'Louisiana', 'Maine', 'Maryland', 'Massachusetts',\n",
       "       'Michigan', 'Minnesota', 'Mississippi', 'Missouri', 'Montana',\n",
       "       'Nebraska', 'Nevada', 'New Hampshire', 'New Jersey', 'New Mexico',\n",
       "       'New York', 'North Carolina', 'North Dakota', 'Ohio', 'Oklahoma',\n",
       "       'Oregon', 'Pennsylvania', 'Puerto Rico', 'Rhode Island',\n",
       "       'South Carolina', 'South Dakota', 'Tennessee', 'Texas', 'Utah',\n",
       "       'Vermont', 'Virginia', 'Washington', 'West Virginia', 'Wisconsin',\n",
       "       'Wyoming'], dtype=object)"
      ]
     },
     "execution_count": 8,
     "metadata": {},
     "output_type": "execute_result"
    }
   ],
   "source": [
    "df['Closest_State'].unique()"
   ]
  },
  {
   "cell_type": "code",
   "execution_count": 9,
   "metadata": {},
   "outputs": [],
   "source": [
    "df2 = df.copy()"
   ]
  },
  {
   "cell_type": "code",
   "execution_count": 10,
   "metadata": {},
   "outputs": [],
   "source": [
    "df2['EPA_Region'] = 'a'"
   ]
  },
  {
   "cell_type": "code",
   "execution_count": 11,
   "metadata": {},
   "outputs": [
    {
     "name": "stdout",
     "output_type": "stream",
     "text": [
      "Rows processed: 374000/374519\n"
     ]
    }
   ],
   "source": [
    "i = 0\n",
    "imax = df2.shape[0]\n",
    "#imax = 100\n",
    "\n",
    "while i < imax:\n",
    "    st = df2['Closest_State'][i]\n",
    "    \n",
    "    if st in r1:\n",
    "        df2['EPA_Region'][i] = 'EPA_1'\n",
    "\n",
    "    elif st in r2:\n",
    "        df2['EPA_Region'][i] = 'EPA_2'\n",
    "\n",
    "    elif st in r3:\n",
    "        df2['EPA_Region'][i] = 'EPA_3'\n",
    "\n",
    "    elif st in r4:\n",
    "        df2['EPA_Region'][i] = 'EPA_4'\n",
    "\n",
    "    elif st in r5:\n",
    "        df2['EPA_Region'][i] = 'EPA_5'\n",
    "\n",
    "    elif st in r6:\n",
    "        df2['EPA_Region'][i] = 'EPA_6'\n",
    "\n",
    "    elif st in r7:\n",
    "        df2['EPA_Region'][i] = 'EPA_7'\n",
    "\n",
    "    elif st in r8:\n",
    "        df2['EPA_Region'][i] = 'EPA_8'\n",
    "\n",
    "    elif st in r9:\n",
    "        df2['EPA_Region'][i] = 'EPA_9'\n",
    "\n",
    "    elif st in r10:\n",
    "        df2['EPA_Region'][i] = 'EPA_10'\n",
    "\n",
    "    else:\n",
    "        print(i)\n",
    "        i = imax\n",
    "        \n",
    "    if i % 1000 == 0:\n",
    "        clear_output()\n",
    "        print('Rows processed: ' + str(i) + '/' + str(imax))\n",
    "        \n",
    "    i+= 1"
   ]
  },
  {
   "cell_type": "code",
   "execution_count": 12,
   "metadata": {},
   "outputs": [
    {
     "data": {
      "text/plain": [
       "'Mississippi'"
      ]
     },
     "execution_count": 12,
     "metadata": {},
     "output_type": "execute_result"
    }
   ],
   "source": [
    "df2['Closest_State'][152285]"
   ]
  },
  {
   "cell_type": "code",
   "execution_count": 13,
   "metadata": {},
   "outputs": [
    {
     "data": {
      "text/plain": [
       "array(['EPA_4', 'EPA_9', 'EPA_6', 'EPA_8', 'EPA_1', 'EPA_3', 'EPA_10',\n",
       "       'EPA_5', 'EPA_7', 'EPA_2'], dtype=object)"
      ]
     },
     "execution_count": 13,
     "metadata": {},
     "output_type": "execute_result"
    }
   ],
   "source": [
    "df2['EPA_Region'].unique()"
   ]
  },
  {
   "cell_type": "markdown",
   "metadata": {},
   "source": [
    "df_west = pd.DataFrame(columns = df2.columns)\n",
    "df_west = df2[df2['Closest_State'].isin(West)]\n",
    "\n",
    "df_east = pd.DataFrame(columns = df2.columns)\n",
    "df_east = df2[df2['Closest_State'].isin(East)]\n",
    "\n",
    "df_mountain = pd.DataFrame(columns = df2.columns)\n",
    "df_mountain = df2[df2['Closest_State'].isin(Mountain)]\n",
    "\n",
    "df_pacific = pd.DataFrame(columns = df2.columns)\n",
    "df_pacific = df[df['Closest_State'].isin(Pacific)]\n",
    "\n",
    "df_central = pd.DataFrame(columns = df2.columns)\n",
    "df_central = df2[df2['Closest_State'].isin(Central)]"
   ]
  },
  {
   "cell_type": "markdown",
   "metadata": {},
   "source": [
    "df_west.to_csv('west_time_tweets.csv', index = False)\n",
    "df_east.to_csv('east_time_tweets.csv', index = False)\n",
    "df_mountain.to_csv('mountain_time_tweets.csv', index = False)\n",
    "#df_pacific.to_csv('pacific_time_tweets.csv', index = False)\n",
    "df_central.to_csv('central_time_tweets.csv', index = False)"
   ]
  },
  {
   "cell_type": "code",
   "execution_count": 16,
   "metadata": {},
   "outputs": [],
   "source": [
    "df2.to_csv('All_US_EPA_Tweets.csv', index = False)"
   ]
  },
  {
   "cell_type": "code",
   "execution_count": 15,
   "metadata": {},
   "outputs": [
    {
     "data": {
      "text/html": [
       "<div>\n",
       "<style scoped>\n",
       "    .dataframe tbody tr th:only-of-type {\n",
       "        vertical-align: middle;\n",
       "    }\n",
       "\n",
       "    .dataframe tbody tr th {\n",
       "        vertical-align: top;\n",
       "    }\n",
       "\n",
       "    .dataframe thead th {\n",
       "        text-align: right;\n",
       "    }\n",
       "</style>\n",
       "<table border=\"1\" class=\"dataframe\">\n",
       "  <thead>\n",
       "    <tr style=\"text-align: right;\">\n",
       "      <th></th>\n",
       "      <th>Timestamp</th>\n",
       "      <th>TweetText</th>\n",
       "      <th>Closest_State</th>\n",
       "      <th>Closest_City</th>\n",
       "      <th>Region</th>\n",
       "      <th>EPA_Region</th>\n",
       "    </tr>\n",
       "  </thead>\n",
       "  <tbody>\n",
       "    <tr>\n",
       "      <th>0</th>\n",
       "      <td>10229</td>\n",
       "      <td>i gotta get you readded to bbm</td>\n",
       "      <td>Alabama</td>\n",
       "      <td>Adamsville</td>\n",
       "      <td>South</td>\n",
       "      <td>EPA_4</td>\n",
       "    </tr>\n",
       "    <tr>\n",
       "      <th>1</th>\n",
       "      <td>16439</td>\n",
       "      <td>ahhh yes</td>\n",
       "      <td>Alabama</td>\n",
       "      <td>Adamsville</td>\n",
       "      <td>South</td>\n",
       "      <td>EPA_4</td>\n",
       "    </tr>\n",
       "    <tr>\n",
       "      <th>2</th>\n",
       "      <td>17131</td>\n",
       "      <td>an old locksmith</td>\n",
       "      <td>Alabama</td>\n",
       "      <td>Adamsville</td>\n",
       "      <td>South</td>\n",
       "      <td>EPA_4</td>\n",
       "    </tr>\n",
       "    <tr>\n",
       "      <th>3</th>\n",
       "      <td>2648</td>\n",
       "      <td>rt  they are shooting at pentagon metro please...</td>\n",
       "      <td>Alabama</td>\n",
       "      <td>Adamsville</td>\n",
       "      <td>South</td>\n",
       "      <td>EPA_4</td>\n",
       "    </tr>\n",
       "    <tr>\n",
       "      <th>4</th>\n",
       "      <td>2750</td>\n",
       "      <td>as a matter of fact i wanna ask about that</td>\n",
       "      <td>Alabama</td>\n",
       "      <td>Adamsville</td>\n",
       "      <td>South</td>\n",
       "      <td>EPA_4</td>\n",
       "    </tr>\n",
       "  </tbody>\n",
       "</table>\n",
       "</div>"
      ],
      "text/plain": [
       "   Timestamp                                          TweetText Closest_State  \\\n",
       "0      10229                     i gotta get you readded to bbm       Alabama   \n",
       "1      16439                                           ahhh yes       Alabama   \n",
       "2      17131                                   an old locksmith       Alabama   \n",
       "3       2648  rt  they are shooting at pentagon metro please...       Alabama   \n",
       "4       2750         as a matter of fact i wanna ask about that       Alabama   \n",
       "\n",
       "  Closest_City Region EPA_Region  \n",
       "0   Adamsville  South      EPA_4  \n",
       "1   Adamsville  South      EPA_4  \n",
       "2   Adamsville  South      EPA_4  \n",
       "3   Adamsville  South      EPA_4  \n",
       "4   Adamsville  South      EPA_4  "
      ]
     },
     "execution_count": 15,
     "metadata": {},
     "output_type": "execute_result"
    }
   ],
   "source": [
    "df2.head()"
   ]
  },
  {
   "cell_type": "code",
   "execution_count": 17,
   "metadata": {},
   "outputs": [
    {
     "data": {
      "text/plain": [
       "Closest_State\n",
       "New York                76393\n",
       "New Jersey              47047\n",
       "California              34634\n",
       "Georgia                 25966\n",
       "Florida                 20181\n",
       "Texas                   18330\n",
       "Maryland                18035\n",
       "Virginia                15679\n",
       "Ohio                    13774\n",
       "North Carolina          13328\n",
       "Illinois                 9478\n",
       "Michigan                 9456\n",
       "Pennsylvania             8949\n",
       "South Carolina           5648\n",
       "Conneticut               5549\n",
       "Tennessee                5295\n",
       "Massachusetts            4148\n",
       "Arizona                  4136\n",
       "Louisiana                4051\n",
       "Alabama                  3136\n",
       "Indiana                  2970\n",
       "Washington               2963\n",
       "Mississippi              2772\n",
       "District of Columbia     2595\n",
       "Missouri                 2568\n",
       "Nevada                   1806\n",
       "Minnesota                1567\n",
       "Kentucky                 1369\n",
       "Wisconsin                1324\n",
       "Oklahoma                 1259\n",
       "Rhode Island             1200\n",
       "Delaware                 1159\n",
       "Arkansas                 1158\n",
       "Oregon                   1007\n",
       "Colorado                  927\n",
       "Vermont                   924\n",
       "Kansas                    605\n",
       "Iowa                      484\n",
       "Maine                     455\n",
       "West Virginia             363\n",
       "Puerto Rico               348\n",
       "New Mexico                327\n",
       "Utah                      298\n",
       "Nebraska                  250\n",
       "Idaho                     226\n",
       "North Dakota              126\n",
       "New Hampshire             110\n",
       "South Dakota               94\n",
       "Montana                    27\n",
       "Wyoming                    25\n",
       "Name: count, dtype: int64"
      ]
     },
     "execution_count": 17,
     "metadata": {},
     "output_type": "execute_result"
    }
   ],
   "source": [
    "df2['Closest_State'].value_counts()"
   ]
  },
  {
   "cell_type": "code",
   "execution_count": 25,
   "metadata": {},
   "outputs": [],
   "source": [
    "df3 = df2.copy()"
   ]
  },
  {
   "cell_type": "code",
   "execution_count": 26,
   "metadata": {},
   "outputs": [],
   "source": [
    "to_removeny = df3[df3['Closest_State'] == 'New York'].sample(n = 40000, random_state = 40)\n",
    "to_removenj = df3[df3['Closest_State'] == 'New Jersey'].sample(n = 20000, random_state = 40)\n",
    "df3 = df3.drop(to_removeny.index)\n",
    "df3 = df3.drop(to_removenj.index)"
   ]
  },
  {
   "cell_type": "code",
   "execution_count": 27,
   "metadata": {},
   "outputs": [
    {
     "data": {
      "text/plain": [
       "Closest_State\n",
       "New York                36393\n",
       "California              34634\n",
       "New Jersey              27047\n",
       "Georgia                 25966\n",
       "Florida                 20181\n",
       "Texas                   18330\n",
       "Maryland                18035\n",
       "Virginia                15679\n",
       "Ohio                    13774\n",
       "North Carolina          13328\n",
       "Illinois                 9478\n",
       "Michigan                 9456\n",
       "Pennsylvania             8949\n",
       "South Carolina           5648\n",
       "Conneticut               5549\n",
       "Tennessee                5295\n",
       "Massachusetts            4148\n",
       "Arizona                  4136\n",
       "Louisiana                4051\n",
       "Alabama                  3136\n",
       "Indiana                  2970\n",
       "Washington               2963\n",
       "Mississippi              2772\n",
       "District of Columbia     2595\n",
       "Missouri                 2568\n",
       "Nevada                   1806\n",
       "Minnesota                1567\n",
       "Kentucky                 1369\n",
       "Wisconsin                1324\n",
       "Oklahoma                 1259\n",
       "Rhode Island             1200\n",
       "Delaware                 1159\n",
       "Arkansas                 1158\n",
       "Oregon                   1007\n",
       "Colorado                  927\n",
       "Vermont                   924\n",
       "Kansas                    605\n",
       "Iowa                      484\n",
       "Maine                     455\n",
       "West Virginia             363\n",
       "Puerto Rico               348\n",
       "New Mexico                327\n",
       "Utah                      298\n",
       "Nebraska                  250\n",
       "Idaho                     226\n",
       "North Dakota              126\n",
       "New Hampshire             110\n",
       "South Dakota               94\n",
       "Montana                    27\n",
       "Wyoming                    25\n",
       "Name: count, dtype: int64"
      ]
     },
     "execution_count": 27,
     "metadata": {},
     "output_type": "execute_result"
    }
   ],
   "source": [
    "df3['Closest_State'].value_counts()"
   ]
  },
  {
   "cell_type": "code",
   "execution_count": 28,
   "metadata": {},
   "outputs": [],
   "source": [
    "df3.to_csv('All_US_EPA_Tweets.csv', index = False)"
   ]
  },
  {
   "cell_type": "code",
   "execution_count": null,
   "metadata": {},
   "outputs": [],
   "source": []
  }
 ],
 "metadata": {
  "kernelspec": {
   "display_name": "Python 3 (ipykernel)",
   "language": "python",
   "name": "python3"
  },
  "language_info": {
   "codemirror_mode": {
    "name": "ipython",
    "version": 3
   },
   "file_extension": ".py",
   "mimetype": "text/x-python",
   "name": "python",
   "nbconvert_exporter": "python",
   "pygments_lexer": "ipython3",
   "version": "3.12.7"
  }
 },
 "nbformat": 4,
 "nbformat_minor": 4
}
