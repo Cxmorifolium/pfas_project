{
 "cells": [
  {
   "cell_type": "code",
   "execution_count": 5,
   "metadata": {},
   "outputs": [],
   "source": [
    "import pandas as pd"
   ]
  },
  {
   "cell_type": "code",
   "execution_count": 2,
   "metadata": {},
   "outputs": [],
   "source": [
    "tweets = list()\n",
    "\n",
    "with open(\"full_text_tweets.txt\", encoding = \"utf8\", errors = 'ignore') as file:\n",
    "    for row in file:\n",
    "        tweets.append(row)"
   ]
  },
  {
   "cell_type": "code",
   "execution_count": 17,
   "metadata": {},
   "outputs": [
    {
     "name": "stdout",
     "output_type": "stream",
     "text": [
      "['USER_79321756', '2010-03-03T04:15:26', 'ÜT: 47.528139,-122.197916', '47.528139', '-122.197916', 'RT @USER_2ff4faca: IF SHE DO IT 1 MORE TIME......IMA KNOCK HER DAMN KOOFIE OFF.....ON MY MOMMA&gt;&gt;haha. #cutthatout']\n"
     ]
    }
   ],
   "source": [
    "a = tweets[0].strip('\\n')\n",
    "a = a.split('\\t')\n",
    "print(a)"
   ]
  },
  {
   "cell_type": "code",
   "execution_count": 3,
   "metadata": {},
   "outputs": [],
   "source": [
    "out_dict = {\"User\": list(), \"Time\" : list(), \"Coords\": list(), \"Latitude\": list(), \"Longitude\": list(), \"Tweet\": list()}\n",
    "\n",
    "for elm in tweets:\n",
    "    a = elm.strip('\\n')\n",
    "    a = a.split('\\t')\n",
    "    \n",
    "    out_dict[\"User\"].append(a[0])\n",
    "    out_dict[\"Time\"].append(a[1])\n",
    "    out_dict[\"Coords\"].append(a[2])\n",
    "    out_dict[\"Latitude\"].append(a[3])\n",
    "    out_dict[\"Longitude\"].append(a[4])\n",
    "    out_dict[\"Tweet\"].append(a[5])"
   ]
  },
  {
   "cell_type": "code",
   "execution_count": 6,
   "metadata": {},
   "outputs": [],
   "source": [
    "data = pd.DataFrame.from_dict(out_dict)"
   ]
  },
  {
   "cell_type": "code",
   "execution_count": 7,
   "metadata": {},
   "outputs": [
    {
     "data": {
      "text/html": [
       "<div>\n",
       "<style scoped>\n",
       "    .dataframe tbody tr th:only-of-type {\n",
       "        vertical-align: middle;\n",
       "    }\n",
       "\n",
       "    .dataframe tbody tr th {\n",
       "        vertical-align: top;\n",
       "    }\n",
       "\n",
       "    .dataframe thead th {\n",
       "        text-align: right;\n",
       "    }\n",
       "</style>\n",
       "<table border=\"1\" class=\"dataframe\">\n",
       "  <thead>\n",
       "    <tr style=\"text-align: right;\">\n",
       "      <th></th>\n",
       "      <th>User</th>\n",
       "      <th>Time</th>\n",
       "      <th>Coords</th>\n",
       "      <th>Latitude</th>\n",
       "      <th>Longitude</th>\n",
       "      <th>Tweet</th>\n",
       "    </tr>\n",
       "  </thead>\n",
       "  <tbody>\n",
       "    <tr>\n",
       "      <th>0</th>\n",
       "      <td>USER_79321756</td>\n",
       "      <td>2010-03-03T04:15:26</td>\n",
       "      <td>ÜT: 47.528139,-122.197916</td>\n",
       "      <td>47.528139</td>\n",
       "      <td>-122.197916</td>\n",
       "      <td>RT @USER_2ff4faca: IF SHE DO IT 1 MORE TIME......</td>\n",
       "    </tr>\n",
       "    <tr>\n",
       "      <th>1</th>\n",
       "      <td>USER_79321756</td>\n",
       "      <td>2010-03-03T04:55:32</td>\n",
       "      <td>ÜT: 47.528139,-122.197916</td>\n",
       "      <td>47.528139</td>\n",
       "      <td>-122.197916</td>\n",
       "      <td>@USER_77a4822d @USER_2ff4faca okay:) lol. Sayi...</td>\n",
       "    </tr>\n",
       "    <tr>\n",
       "      <th>2</th>\n",
       "      <td>USER_79321756</td>\n",
       "      <td>2010-03-03T05:13:34</td>\n",
       "      <td>ÜT: 47.528139,-122.197916</td>\n",
       "      <td>47.528139</td>\n",
       "      <td>-122.197916</td>\n",
       "      <td>RT @USER_5d4d777a: YOURE A FAG FOR GETTING IN ...</td>\n",
       "    </tr>\n",
       "    <tr>\n",
       "      <th>3</th>\n",
       "      <td>USER_79321756</td>\n",
       "      <td>2010-03-03T05:28:02</td>\n",
       "      <td>ÜT: 47.528139,-122.197916</td>\n",
       "      <td>47.528139</td>\n",
       "      <td>-122.197916</td>\n",
       "      <td>@USER_77a4822d yea ok..well answer that cheap ...</td>\n",
       "    </tr>\n",
       "    <tr>\n",
       "      <th>4</th>\n",
       "      <td>USER_79321756</td>\n",
       "      <td>2010-03-03T05:56:13</td>\n",
       "      <td>ÜT: 47.528139,-122.197916</td>\n",
       "      <td>47.528139</td>\n",
       "      <td>-122.197916</td>\n",
       "      <td>A sprite can disappear in her mouth - lil kim ...</td>\n",
       "    </tr>\n",
       "  </tbody>\n",
       "</table>\n",
       "</div>"
      ],
      "text/plain": [
       "            User                 Time                     Coords   Latitude  \\\n",
       "0  USER_79321756  2010-03-03T04:15:26  ÜT: 47.528139,-122.197916  47.528139   \n",
       "1  USER_79321756  2010-03-03T04:55:32  ÜT: 47.528139,-122.197916  47.528139   \n",
       "2  USER_79321756  2010-03-03T05:13:34  ÜT: 47.528139,-122.197916  47.528139   \n",
       "3  USER_79321756  2010-03-03T05:28:02  ÜT: 47.528139,-122.197916  47.528139   \n",
       "4  USER_79321756  2010-03-03T05:56:13  ÜT: 47.528139,-122.197916  47.528139   \n",
       "\n",
       "     Longitude                                              Tweet  \n",
       "0  -122.197916  RT @USER_2ff4faca: IF SHE DO IT 1 MORE TIME......  \n",
       "1  -122.197916  @USER_77a4822d @USER_2ff4faca okay:) lol. Sayi...  \n",
       "2  -122.197916  RT @USER_5d4d777a: YOURE A FAG FOR GETTING IN ...  \n",
       "3  -122.197916  @USER_77a4822d yea ok..well answer that cheap ...  \n",
       "4  -122.197916  A sprite can disappear in her mouth - lil kim ...  "
      ]
     },
     "execution_count": 7,
     "metadata": {},
     "output_type": "execute_result"
    }
   ],
   "source": [
    "data.head()"
   ]
  },
  {
   "cell_type": "code",
   "execution_count": 8,
   "metadata": {},
   "outputs": [
    {
     "data": {
      "text/plain": [
       "ÜT: 40.714269,-74.005972     4129\n",
       "ÜT: 40.75,-73.997            1927\n",
       "ÜT: 41.001371,-73.761575      301\n",
       "ÜT: 37.234388,-77.432657      277\n",
       "ÜT: 40.623387,-73.917237      273\n",
       "                             ... \n",
       "ÜT: 34.100712,-118.329884       1\n",
       "ÜT: 40.758347,-73.983265        1\n",
       "ÜT: 35.964388,-78.948632        1\n",
       "ÜT: 40.689426,-74.269677        1\n",
       "ÜT: 29.667258,-95.261313        1\n",
       "Name: Coords, Length: 46332, dtype: int64"
      ]
     },
     "execution_count": 8,
     "metadata": {},
     "output_type": "execute_result"
    }
   ],
   "source": [
    "data[\"Coords\"].value_counts()"
   ]
  },
  {
   "cell_type": "code",
   "execution_count": null,
   "metadata": {},
   "outputs": [],
   "source": []
  }
 ],
 "metadata": {
  "kernelspec": {
   "display_name": "Python 3",
   "language": "python",
   "name": "python3"
  },
  "language_info": {
   "codemirror_mode": {
    "name": "ipython",
    "version": 3
   },
   "file_extension": ".py",
   "mimetype": "text/x-python",
   "name": "python",
   "nbconvert_exporter": "python",
   "pygments_lexer": "ipython3",
   "version": "3.8.5"
  }
 },
 "nbformat": 4,
 "nbformat_minor": 4
}
