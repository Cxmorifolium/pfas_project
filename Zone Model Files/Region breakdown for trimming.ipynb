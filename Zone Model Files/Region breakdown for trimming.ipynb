{
 "cells": [
  {
   "cell_type": "code",
   "execution_count": 1,
   "id": "4d38f82f-b259-4b77-a94c-23adc628a795",
   "metadata": {},
   "outputs": [],
   "source": [
    "import pandas as pd\n",
    "import numpy as np\n",
    "import random"
   ]
  },
  {
   "cell_type": "code",
   "execution_count": 2,
   "id": "fc61000b-1a17-4a5a-bd50-966db4e32b3c",
   "metadata": {},
   "outputs": [],
   "source": [
    "df1 = pd.read_csv('All_US_tweets.csv')"
   ]
  },
  {
   "cell_type": "code",
   "execution_count": 3,
   "id": "9849baa5-618b-4288-9bf6-316e83ca20ab",
   "metadata": {},
   "outputs": [
    {
     "data": {
      "text/plain": [
       "Region\n",
       "Northeast     144775\n",
       "South         120735\n",
       "Midwest        42696\n",
       "West Coast     38604\n",
       "Southwest      24052\n",
       "Rockies         3309\n",
       "NonCont          348\n",
       "Name: count, dtype: int64"
      ]
     },
     "execution_count": 3,
     "metadata": {},
     "output_type": "execute_result"
    }
   ],
   "source": [
    "df1['Region'].value_counts()"
   ]
  },
  {
   "cell_type": "code",
   "execution_count": 5,
   "id": "da077cf7-34b5-4b1f-bb65-cd3251403d07",
   "metadata": {},
   "outputs": [],
   "source": [
    "a = df1['Region'].value_counts()"
   ]
  },
  {
   "cell_type": "code",
   "execution_count": 8,
   "id": "960a5177-a4ea-40ac-8b0d-f169ea69394f",
   "metadata": {},
   "outputs": [
    {
     "name": "stdout",
     "output_type": "stream",
     "text": [
      "Region\n",
      "Northeast     144775\n",
      "South         120735\n",
      "Midwest        42696\n",
      "West Coast     38604\n",
      "Southwest      24052\n",
      "Rockies         3309\n",
      "NonCont          348\n",
      "Name: count, dtype: int64\n"
     ]
    }
   ],
   "source": [
    "print(a)"
   ]
  },
  {
   "cell_type": "code",
   "execution_count": 4,
   "id": "42c81264-915c-4c4b-a805-8ed1f8f2f05c",
   "metadata": {},
   "outputs": [
    {
     "data": {
      "text/plain": [
       "Closest_State\n",
       "New York                76393\n",
       "New Jersey              47047\n",
       "California              34634\n",
       "Georgia                 25966\n",
       "Florida                 20181\n",
       "Texas                   18330\n",
       "Maryland                18035\n",
       "Virginia                15679\n",
       "Ohio                    13774\n",
       "North Carolina          13328\n",
       "Illinois                 9478\n",
       "Michigan                 9456\n",
       "Pennsylvania             8949\n",
       "South Carolina           5648\n",
       "Conneticut               5549\n",
       "Tennessee                5295\n",
       "Massachusetts            4148\n",
       "Arizona                  4136\n",
       "Louisiana                4051\n",
       "Alabama                  3136\n",
       "Indiana                  2970\n",
       "Washington               2963\n",
       "Mississippi              2772\n",
       "District of Columbia     2595\n",
       "Missouri                 2568\n",
       "Nevada                   1806\n",
       "Minnesota                1567\n",
       "Kentucky                 1369\n",
       "Wisconsin                1324\n",
       "Oklahoma                 1259\n",
       "Rhode Island             1200\n",
       "Delaware                 1159\n",
       "Arkansas                 1158\n",
       "Oregon                   1007\n",
       "Colorado                  927\n",
       "Vermont                   924\n",
       "Kansas                    605\n",
       "Iowa                      484\n",
       "Maine                     455\n",
       "West Virginia             363\n",
       "Puerto Rico               348\n",
       "New Mexico                327\n",
       "Utah                      298\n",
       "Nebraska                  250\n",
       "Idaho                     226\n",
       "North Dakota              126\n",
       "New Hampshire             110\n",
       "South Dakota               94\n",
       "Montana                    27\n",
       "Wyoming                    25\n",
       "Name: count, dtype: int64"
      ]
     },
     "execution_count": 4,
     "metadata": {},
     "output_type": "execute_result"
    }
   ],
   "source": [
    "df1['Closest_State'].value_counts()"
   ]
  },
  {
   "cell_type": "code",
   "execution_count": null,
   "id": "981bdf95-ed63-4fd9-bb73-8bf0a975e41a",
   "metadata": {},
   "outputs": [],
   "source": []
  }
 ],
 "metadata": {
  "kernelspec": {
   "display_name": "Python 3 (ipykernel)",
   "language": "python",
   "name": "python3"
  },
  "language_info": {
   "codemirror_mode": {
    "name": "ipython",
    "version": 3
   },
   "file_extension": ".py",
   "mimetype": "text/x-python",
   "name": "python",
   "nbconvert_exporter": "python",
   "pygments_lexer": "ipython3",
   "version": "3.12.7"
  }
 },
 "nbformat": 4,
 "nbformat_minor": 5
}
