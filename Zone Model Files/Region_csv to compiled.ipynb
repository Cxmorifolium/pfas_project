{
 "cells": [
  {
   "cell_type": "code",
   "execution_count": 1,
   "id": "2e0cb4bd-cb5b-4e9c-8000-3b4af3688646",
   "metadata": {},
   "outputs": [],
   "source": [
    "import pandas as pd"
   ]
  },
  {
   "cell_type": "code",
   "execution_count": 2,
   "id": "0dbd986d-6d79-4b2e-b38a-4ff1fae5d8b4",
   "metadata": {},
   "outputs": [],
   "source": [
    "df1 = pd.read_csv('midwest_tweets_embedded.csv')\n",
    "df2 = pd.read_csv('noncont_tweets_embedded.csv')\n",
    "df3 = pd.read_csv('northeast_tweets_embedded.csv')\n",
    "df4 = pd.read_csv('rockies_tweets_embedded.csv')\n",
    "df5 = pd.read_csv('south_tweets_embedded.csv')\n",
    "df6 = pd.read_csv('southwest_tweets_embedded.csv')\n",
    "df7 = pd.read_csv('west_coast_tweets_embedded.csv')"
   ]
  },
  {
   "cell_type": "code",
   "execution_count": 3,
   "id": "03f88053-d9d6-4587-bdd7-b0b2b5f686c9",
   "metadata": {},
   "outputs": [],
   "source": [
    "out_df = pd.DataFrame()"
   ]
  },
  {
   "cell_type": "code",
   "execution_count": 4,
   "id": "63a268c5-7d02-4603-a90d-b87e37f17414",
   "metadata": {},
   "outputs": [],
   "source": [
    "dfs = [df1, df2, df3, df4, df5, df6, df7]"
   ]
  },
  {
   "cell_type": "code",
   "execution_count": 5,
   "id": "22f56ea2-dd94-4260-8de5-058717e22610",
   "metadata": {},
   "outputs": [],
   "source": [
    "for df in dfs:\n",
    "    out_df = pd.concat([out_df, df], ignore_index = True)"
   ]
  },
  {
   "cell_type": "code",
   "execution_count": 6,
   "id": "992da6c0-b303-4b43-96c8-63afb73426a7",
   "metadata": {},
   "outputs": [
    {
     "data": {
      "text/html": [
       "<div>\n",
       "<style scoped>\n",
       "    .dataframe tbody tr th:only-of-type {\n",
       "        vertical-align: middle;\n",
       "    }\n",
       "\n",
       "    .dataframe tbody tr th {\n",
       "        vertical-align: top;\n",
       "    }\n",
       "\n",
       "    .dataframe thead th {\n",
       "        text-align: right;\n",
       "    }\n",
       "</style>\n",
       "<table border=\"1\" class=\"dataframe\">\n",
       "  <thead>\n",
       "    <tr style=\"text-align: right;\">\n",
       "      <th></th>\n",
       "      <th>Timestamp</th>\n",
       "      <th>TweetText</th>\n",
       "      <th>Closest_State</th>\n",
       "      <th>Closest_City</th>\n",
       "      <th>Region</th>\n",
       "    </tr>\n",
       "  </thead>\n",
       "  <tbody>\n",
       "    <tr>\n",
       "      <th>0</th>\n",
       "      <td>78156</td>\n",
       "      <td>tf.Tensor(\\n[[ 5.38101234e-02 -6.44358918e-02 ...</td>\n",
       "      <td>North Dakota</td>\n",
       "      <td>Bottineau</td>\n",
       "      <td>Midwest</td>\n",
       "    </tr>\n",
       "    <tr>\n",
       "      <th>1</th>\n",
       "      <td>67600</td>\n",
       "      <td>tf.Tensor(\\n[[ 2.39525169e-01  2.53913820e-01 ...</td>\n",
       "      <td>North Dakota</td>\n",
       "      <td>Max</td>\n",
       "      <td>Midwest</td>\n",
       "    </tr>\n",
       "    <tr>\n",
       "      <th>2</th>\n",
       "      <td>57842</td>\n",
       "      <td>tf.Tensor(\\n[[ 3.36537696e-02  3.85642722e-02 ...</td>\n",
       "      <td>North Dakota</td>\n",
       "      <td>Max</td>\n",
       "      <td>Midwest</td>\n",
       "    </tr>\n",
       "    <tr>\n",
       "      <th>3</th>\n",
       "      <td>68023</td>\n",
       "      <td>tf.Tensor(\\n[[-7.45420903e-02  4.35339153e-01 ...</td>\n",
       "      <td>North Dakota</td>\n",
       "      <td>Max</td>\n",
       "      <td>Midwest</td>\n",
       "    </tr>\n",
       "    <tr>\n",
       "      <th>4</th>\n",
       "      <td>9187</td>\n",
       "      <td>tf.Tensor(\\n[[-1.20050207e-01  1.93147376e-01 ...</td>\n",
       "      <td>North Dakota</td>\n",
       "      <td>Fargo</td>\n",
       "      <td>Midwest</td>\n",
       "    </tr>\n",
       "    <tr>\n",
       "      <th>...</th>\n",
       "      <td>...</td>\n",
       "      <td>...</td>\n",
       "      <td>...</td>\n",
       "      <td>...</td>\n",
       "      <td>...</td>\n",
       "    </tr>\n",
       "    <tr>\n",
       "      <th>67073</th>\n",
       "      <td>71894</td>\n",
       "      <td>tf.Tensor(\\n[[ 1.45540968e-01  1.54460773e-01 ...</td>\n",
       "      <td>Washington</td>\n",
       "      <td>Renton</td>\n",
       "      <td>West Coast</td>\n",
       "    </tr>\n",
       "    <tr>\n",
       "      <th>67074</th>\n",
       "      <td>61330</td>\n",
       "      <td>tf.Tensor(\\n[[-3.20070535e-02 -1.53834388e-01 ...</td>\n",
       "      <td>Washington</td>\n",
       "      <td>Omak</td>\n",
       "      <td>West Coast</td>\n",
       "    </tr>\n",
       "    <tr>\n",
       "      <th>67075</th>\n",
       "      <td>73967</td>\n",
       "      <td>tf.Tensor(\\n[[-9.19254422e-02  2.78984129e-01 ...</td>\n",
       "      <td>Washington</td>\n",
       "      <td>Olympia</td>\n",
       "      <td>West Coast</td>\n",
       "    </tr>\n",
       "    <tr>\n",
       "      <th>67076</th>\n",
       "      <td>7729</td>\n",
       "      <td>tf.Tensor(\\n[[-1.16451934e-01  7.56705403e-02 ...</td>\n",
       "      <td>Washington</td>\n",
       "      <td>Lakewood</td>\n",
       "      <td>West Coast</td>\n",
       "    </tr>\n",
       "    <tr>\n",
       "      <th>67077</th>\n",
       "      <td>66711</td>\n",
       "      <td>tf.Tensor(\\n[[ 1.85607493e-01 -1.99160762e-02 ...</td>\n",
       "      <td>Washington</td>\n",
       "      <td>Kent</td>\n",
       "      <td>West Coast</td>\n",
       "    </tr>\n",
       "  </tbody>\n",
       "</table>\n",
       "<p>67078 rows × 5 columns</p>\n",
       "</div>"
      ],
      "text/plain": [
       "       Timestamp                                          TweetText  \\\n",
       "0          78156  tf.Tensor(\\n[[ 5.38101234e-02 -6.44358918e-02 ...   \n",
       "1          67600  tf.Tensor(\\n[[ 2.39525169e-01  2.53913820e-01 ...   \n",
       "2          57842  tf.Tensor(\\n[[ 3.36537696e-02  3.85642722e-02 ...   \n",
       "3          68023  tf.Tensor(\\n[[-7.45420903e-02  4.35339153e-01 ...   \n",
       "4           9187  tf.Tensor(\\n[[-1.20050207e-01  1.93147376e-01 ...   \n",
       "...          ...                                                ...   \n",
       "67073      71894  tf.Tensor(\\n[[ 1.45540968e-01  1.54460773e-01 ...   \n",
       "67074      61330  tf.Tensor(\\n[[-3.20070535e-02 -1.53834388e-01 ...   \n",
       "67075      73967  tf.Tensor(\\n[[-9.19254422e-02  2.78984129e-01 ...   \n",
       "67076       7729  tf.Tensor(\\n[[-1.16451934e-01  7.56705403e-02 ...   \n",
       "67077      66711  tf.Tensor(\\n[[ 1.85607493e-01 -1.99160762e-02 ...   \n",
       "\n",
       "      Closest_State Closest_City      Region  \n",
       "0      North Dakota    Bottineau     Midwest  \n",
       "1      North Dakota          Max     Midwest  \n",
       "2      North Dakota          Max     Midwest  \n",
       "3      North Dakota          Max     Midwest  \n",
       "4      North Dakota        Fargo     Midwest  \n",
       "...             ...          ...         ...  \n",
       "67073    Washington       Renton  West Coast  \n",
       "67074    Washington         Omak  West Coast  \n",
       "67075    Washington      Olympia  West Coast  \n",
       "67076    Washington     Lakewood  West Coast  \n",
       "67077    Washington         Kent  West Coast  \n",
       "\n",
       "[67078 rows x 5 columns]"
      ]
     },
     "execution_count": 6,
     "metadata": {},
     "output_type": "execute_result"
    }
   ],
   "source": [
    "out_df"
   ]
  },
  {
   "cell_type": "code",
   "execution_count": 7,
   "id": "20f03d9b-8d59-4fd6-8955-b5374f0c1f4f",
   "metadata": {},
   "outputs": [],
   "source": [
    "out_df.to_csv('all_2k_tweets_embedded_bert.csv', index = False)"
   ]
  },
  {
   "cell_type": "code",
   "execution_count": null,
   "id": "2bf2cd5c-2b90-488f-b93e-e9e279bf86c5",
   "metadata": {},
   "outputs": [],
   "source": []
  }
 ],
 "metadata": {
  "kernelspec": {
   "display_name": "Python 3 (ipykernel)",
   "language": "python",
   "name": "python3"
  },
  "language_info": {
   "codemirror_mode": {
    "name": "ipython",
    "version": 3
   },
   "file_extension": ".py",
   "mimetype": "text/x-python",
   "name": "python",
   "nbconvert_exporter": "python",
   "pygments_lexer": "ipython3",
   "version": "3.12.7"
  }
 },
 "nbformat": 4,
 "nbformat_minor": 5
}
