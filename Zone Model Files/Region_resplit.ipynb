{
 "cells": [
  {
   "cell_type": "code",
   "execution_count": 1,
   "metadata": {},
   "outputs": [],
   "source": [
    "import pandas as pd\n",
    "import csv\n",
    "from IPython.display import clear_output\n"
   ]
  },
  {
   "cell_type": "code",
   "execution_count": 9,
   "metadata": {},
   "outputs": [],
   "source": [
    "West_Coast = ('California','Oregon', 'Washington')\n",
    "Southwest = ('Arizona','New Mexico','Oklahoma','Texas')\n",
    "Rockies = ('Nevada','Utah','Colorado','Wyoming','Idaho','Montana')\n",
    "Midwest = ('North Dakota','South Dakota','Nebraska','Kansas','Missouri','Iowa','Minnesota')\n",
    "East_Midwest = ('Wisconsin','Illinois','Indiana','Michigan','Ohio')\n",
    "South = ('Tennessee','Kentucky','North Carolina', 'Virginia','West Virginia','Maryland','Delaware', 'District of Columbia')\n",
    "Deep_South = ('Arkansas','Louisiana','Mississippi','Alabama','Georgia','Florida','South Carolina',)\n",
    "Northeast = ('Pennsylvania','New Jersey','New York','Massachusetts', 'Rhode Island','Conneticut','Vermont','New Hampshire','Maine')\n",
    "NonCont = ('Hawaii','Alaska', 'Puerto Rico')"
   ]
  },
  {
   "cell_type": "code",
   "execution_count": 4,
   "metadata": {},
   "outputs": [
    {
     "data": {
      "text/plain": [
       "(374519, 5)"
      ]
     },
     "execution_count": 4,
     "metadata": {},
     "output_type": "execute_result"
    }
   ],
   "source": [
    "df = pd.read_csv('All_US_tweets.csv')\n",
    "df.shape"
   ]
  },
  {
   "cell_type": "code",
   "execution_count": 6,
   "metadata": {},
   "outputs": [
    {
     "data": {
      "text/html": [
       "<div>\n",
       "<style scoped>\n",
       "    .dataframe tbody tr th:only-of-type {\n",
       "        vertical-align: middle;\n",
       "    }\n",
       "\n",
       "    .dataframe tbody tr th {\n",
       "        vertical-align: top;\n",
       "    }\n",
       "\n",
       "    .dataframe thead th {\n",
       "        text-align: right;\n",
       "    }\n",
       "</style>\n",
       "<table border=\"1\" class=\"dataframe\">\n",
       "  <thead>\n",
       "    <tr style=\"text-align: right;\">\n",
       "      <th></th>\n",
       "      <th>Timestamp</th>\n",
       "      <th>TweetText</th>\n",
       "      <th>Closest_State</th>\n",
       "      <th>Closest_City</th>\n",
       "      <th>Region</th>\n",
       "    </tr>\n",
       "  </thead>\n",
       "  <tbody>\n",
       "    <tr>\n",
       "      <th>0</th>\n",
       "      <td>10229</td>\n",
       "      <td>i gotta get you readded to bbm</td>\n",
       "      <td>Alabama</td>\n",
       "      <td>Adamsville</td>\n",
       "      <td>South</td>\n",
       "    </tr>\n",
       "    <tr>\n",
       "      <th>1</th>\n",
       "      <td>16439</td>\n",
       "      <td>ahhh yes</td>\n",
       "      <td>Alabama</td>\n",
       "      <td>Adamsville</td>\n",
       "      <td>South</td>\n",
       "    </tr>\n",
       "    <tr>\n",
       "      <th>2</th>\n",
       "      <td>17131</td>\n",
       "      <td>an old locksmith</td>\n",
       "      <td>Alabama</td>\n",
       "      <td>Adamsville</td>\n",
       "      <td>South</td>\n",
       "    </tr>\n",
       "    <tr>\n",
       "      <th>3</th>\n",
       "      <td>2648</td>\n",
       "      <td>rt  they are shooting at pentagon metro please...</td>\n",
       "      <td>Alabama</td>\n",
       "      <td>Adamsville</td>\n",
       "      <td>South</td>\n",
       "    </tr>\n",
       "    <tr>\n",
       "      <th>4</th>\n",
       "      <td>2750</td>\n",
       "      <td>as a matter of fact i wanna ask about that</td>\n",
       "      <td>Alabama</td>\n",
       "      <td>Adamsville</td>\n",
       "      <td>South</td>\n",
       "    </tr>\n",
       "  </tbody>\n",
       "</table>\n",
       "</div>"
      ],
      "text/plain": [
       "   Timestamp                                          TweetText Closest_State  \\\n",
       "0      10229                     i gotta get you readded to bbm       Alabama   \n",
       "1      16439                                           ahhh yes       Alabama   \n",
       "2      17131                                   an old locksmith       Alabama   \n",
       "3       2648  rt  they are shooting at pentagon metro please...       Alabama   \n",
       "4       2750         as a matter of fact i wanna ask about that       Alabama   \n",
       "\n",
       "  Closest_City Region  \n",
       "0   Adamsville  South  \n",
       "1   Adamsville  South  \n",
       "2   Adamsville  South  \n",
       "3   Adamsville  South  \n",
       "4   Adamsville  South  "
      ]
     },
     "execution_count": 6,
     "metadata": {},
     "output_type": "execute_result"
    }
   ],
   "source": [
    "df.head()"
   ]
  },
  {
   "cell_type": "code",
   "execution_count": 10,
   "metadata": {},
   "outputs": [
    {
     "name": "stdout",
     "output_type": "stream",
     "text": [
      "Rows processed: 374000/374519\n"
     ]
    }
   ],
   "source": [
    "i = 0\n",
    "imax = df.shape[0]\n",
    "#imax = 100\n",
    "\n",
    "while i < imax:\n",
    "    st = df['Closest_State'][i]\n",
    "    \n",
    "    if st in West_Coast:\n",
    "        df['Region'][i] = 'West Coast'\n",
    "\n",
    "    elif st in Southwest:\n",
    "        df['Region'][i] = 'Southwest'\n",
    "\n",
    "    elif st in Rockies:\n",
    "        df['Region'][i] = 'Rockies'\n",
    "\n",
    "    elif st in Midwest:\n",
    "        df['Region'][i] = 'Midwest'\n",
    "\n",
    "    elif st in East_Midwest:\n",
    "        df['Region'][i] = 'East Midwest'\n",
    "\n",
    "    elif st in South:\n",
    "        df['Region'][i] = 'South'\n",
    "\n",
    "    elif st in Deep_South:\n",
    "        df['Region'][i] = 'Deep South'\n",
    "\n",
    "    elif st in Northeast:\n",
    "        df['Region'][i] = 'Northeast'\n",
    "\n",
    "    elif st in NonCont:\n",
    "        df['Region'][i] = 'NonCont'\n",
    "\n",
    "    else:\n",
    "        print(i)\n",
    "        i = imax\n",
    "        \n",
    "    if i % 1000 == 0:\n",
    "        clear_output()\n",
    "        print('Rows processed: ' + str(i) + '/' + str(imax))\n",
    "        \n",
    "    i+= 1"
   ]
  },
  {
   "cell_type": "code",
   "execution_count": 11,
   "metadata": {},
   "outputs": [
    {
     "data": {
      "text/plain": [
       "array(['Deep South', 'Southwest', 'West Coast', 'Rockies', 'Northeast',\n",
       "       'South', 'East Midwest', 'Midwest', 'NonCont'], dtype=object)"
      ]
     },
     "execution_count": 11,
     "metadata": {},
     "output_type": "execute_result"
    }
   ],
   "source": [
    "df['Region'].unique()"
   ]
  },
  {
   "cell_type": "code",
   "execution_count": 12,
   "metadata": {},
   "outputs": [],
   "source": [
    "df_westcoast = pd.DataFrame(columns = df.columns)\n",
    "df_westcoast = df[df['Closest_State'].isin(West_Coast)]\n",
    "\n",
    "df_southwest = pd.DataFrame(columns = df.columns)\n",
    "df_southwest = df[df['Closest_State'].isin(Southwest)]\n",
    "\n",
    "df_rockies = pd.DataFrame(columns = df.columns)\n",
    "df_rockies = df[df['Closest_State'].isin(Rockies)]\n",
    "\n",
    "df_midwest = pd.DataFrame(columns = df.columns)\n",
    "df_midwest = df[df['Closest_State'].isin(Midwest)]\n",
    "\n",
    "df_eastmidwest = pd.DataFrame(columns = df.columns)\n",
    "df_eastmidwest = df[df['Closest_State'].isin(East_Midwest)]\n",
    "\n",
    "df_south = pd.DataFrame(columns = df.columns)\n",
    "df_south = df[df['Closest_State'].isin(South)]\n",
    "\n",
    "df_deepsouth = pd.DataFrame(columns = df.columns)\n",
    "df_deepsouth = df[df['Closest_State'].isin(Deep_South)]\n",
    "\n",
    "df_northeast = pd.DataFrame(columns = df.columns)\n",
    "df_northeast = df[df['Closest_State'].isin(Northeast)]\n",
    "\n",
    "df_noncont = pd.DataFrame(columns = df.columns)\n",
    "df_noncont =df[df['Closest_State'].isin(NonCont)]"
   ]
  },
  {
   "cell_type": "code",
   "execution_count": 13,
   "metadata": {},
   "outputs": [],
   "source": [
    "df_westcoast.to_csv('west_coast_tweets.csv', index = False)\n",
    "df_southwest.to_csv('southwest_tweets.csv', index = False)\n",
    "df_rockies.to_csv('rockies_tweets.csv', index = False)\n",
    "df_midwest.to_csv('midwest_tweets.csv', index = False)\n",
    "df_eastmidwest.to_csv('eastmidwest_tweets.csv', index = False)\n",
    "df_south.to_csv('south_tweets.csv', index = False)\n",
    "df_deepsouth.to_csv('deepsouth_tweets.csv', index = False)\n",
    "df_northeast.to_csv('northeast_tweets.csv', index = False)\n",
    "df_noncont.to_csv('noncont_tweets.csv', index = False)"
   ]
  },
  {
   "cell_type": "code",
   "execution_count": 14,
   "metadata": {},
   "outputs": [],
   "source": [
    "df.to_csv('All_US_tweets.csv', index = False)"
   ]
  },
  {
   "cell_type": "code",
   "execution_count": null,
   "metadata": {},
   "outputs": [],
   "source": []
  }
 ],
 "metadata": {
  "kernelspec": {
   "display_name": "Python 3 (ipykernel)",
   "language": "python",
   "name": "python3"
  },
  "language_info": {
   "codemirror_mode": {
    "name": "ipython",
    "version": 3
   },
   "file_extension": ".py",
   "mimetype": "text/x-python",
   "name": "python",
   "nbconvert_exporter": "python",
   "pygments_lexer": "ipython3",
   "version": "3.12.7"
  }
 },
 "nbformat": 4,
 "nbformat_minor": 4
}
