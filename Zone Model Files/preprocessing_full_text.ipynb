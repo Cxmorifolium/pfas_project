{
 "cells": [
  {
   "cell_type": "markdown",
   "metadata": {},
   "source": [
    "# Imports and Modules"
   ]
  },
  {
   "cell_type": "code",
   "execution_count": 10,
   "metadata": {},
   "outputs": [],
   "source": [
    "import pandas as pd\n",
    "import numpy as np\n",
    "import csv\n",
    "from tqdm import tqdm"
   ]
  },
  {
   "cell_type": "markdown",
   "metadata": {},
   "source": [
    "# Preprocess File 'full_text.txt'"
   ]
  },
  {
   "cell_type": "code",
   "execution_count": 19,
   "metadata": {},
   "outputs": [
    {
     "name": "stdout",
     "output_type": "stream",
     "text": [
      "          UserID            Timestamp                 Coordinates   Latitude  \\\n",
      "0  USER_79321756  2010-03-03T04:15:26  ÃT: 47.528139,-122.197916  47.528139   \n",
      "1  USER_79321756  2010-03-03T04:55:32  ÃT: 47.528139,-122.197916  47.528139   \n",
      "2  USER_79321756  2010-03-03T05:13:34  ÃT: 47.528139,-122.197916  47.528139   \n",
      "3  USER_79321756  2010-03-03T05:28:02  ÃT: 47.528139,-122.197916  47.528139   \n",
      "4  USER_79321756  2010-03-03T05:56:13  ÃT: 47.528139,-122.197916  47.528139   \n",
      "\n",
      "    Longitude                                          TweetText  \n",
      "0 -122.197916  RT @USER_2ff4faca: IF SHE DO IT 1 MORE TIME......  \n",
      "1 -122.197916  @USER_77a4822d @USER_2ff4faca okay:) lol. Sayi...  \n",
      "2 -122.197916  RT @USER_5d4d777a: YOURE A FAG FOR GETTING IN ...  \n",
      "3 -122.197916  @USER_77a4822d yea ok..well answer that cheap ...  \n",
      "4 -122.197916  A sprite can disappear in her mouth - lil kim ...  \n",
      "\n",
      "DataFrame with 'Coordinates' dropped:\n",
      "          UserID            Timestamp   Latitude   Longitude  \\\n",
      "0  USER_79321756  2010-03-03T04:15:26  47.528139 -122.197916   \n",
      "1  USER_79321756  2010-03-03T04:55:32  47.528139 -122.197916   \n",
      "2  USER_79321756  2010-03-03T05:13:34  47.528139 -122.197916   \n",
      "3  USER_79321756  2010-03-03T05:28:02  47.528139 -122.197916   \n",
      "4  USER_79321756  2010-03-03T05:56:13  47.528139 -122.197916   \n",
      "\n",
      "                                           TweetText  \n",
      "0  RT @USER_2ff4faca: IF SHE DO IT 1 MORE TIME......  \n",
      "1  @USER_77a4822d @USER_2ff4faca okay:) lol. Sayi...  \n",
      "2  RT @USER_5d4d777a: YOURE A FAG FOR GETTING IN ...  \n",
      "3  @USER_77a4822d yea ok..well answer that cheap ...  \n",
      "4  A sprite can disappear in her mouth - lil kim ...  \n",
      "          UserID            Timestamp   Latitude   Longitude  \\\n",
      "0  USER_79321756  2010-03-03T04:15:26  47.528139 -122.197916   \n",
      "1  USER_79321756  2010-03-03T04:55:32  47.528139 -122.197916   \n",
      "2  USER_79321756  2010-03-03T05:13:34  47.528139 -122.197916   \n",
      "3  USER_79321756  2010-03-03T05:28:02  47.528139 -122.197916   \n",
      "4  USER_79321756  2010-03-03T05:56:13  47.528139 -122.197916   \n",
      "\n",
      "                                           TweetText  \n",
      "0  RT @USER_2ff4faca: IF SHE DO IT 1 MORE TIME......  \n",
      "1  @USER_77a4822d @USER_2ff4faca okay:) lol. Sayi...  \n",
      "2  RT @USER_5d4d777a: YOURE A FAG FOR GETTING IN ...  \n",
      "3  @USER_77a4822d yea ok..well answer that cheap ...  \n",
      "4  A sprite can disappear in her mouth - lil kim ...  \n"
     ]
    }
   ],
   "source": [
    "def txt_to_dataframe(file_path, column_names=None):\n",
    "    # Read the .txt file into a DataFrame\n",
    "    # File is tab-seperated\n",
    "    df = pd.read_csv(file_path, sep='\\t', header=None, names=column_names, encoding='latin1')\n",
    "    return df\n",
    "\n",
    "# Load data:\n",
    "file_path = r'data/full_text.txt'\n",
    "\n",
    "# Headers\n",
    "column_names = ['UserID', 'Timestamp', 'Coordinates', 'Latitude', 'Longitude', 'TweetText']\n",
    "\n",
    "# Read the file into a DataFrame\n",
    "df = txt_to_dataframe(file_path, column_names)\n",
    "\n",
    "# Display the first few rows of the DataFrame\n",
    "print(df.head())\n",
    "\n",
    "# Drop a column\n",
    "df_dropped = df.drop(columns=['Coordinates'])\n",
    "print(\"\\nDataFrame with 'Coordinates' dropped:\")\n",
    "print(df_dropped.head())\n",
    "\n",
    "# Save the modified DataFrame back to a .txt file\n",
    "#df_dropped.to_csv(r'data/full_text_dropped.txt', sep='\\t', index=False)\n",
    "#print(\"\\nModified DataFrame saved to 'full_text_dropped_dropped.txt'\")\n",
    "\n",
    "# Save to CSV:\n",
    "df_dropped.to_csv(r'data/full_text/full_text_dropped.csv', index=False)\n",
    "\n",
    "print(df_dropped.head())"
   ]
  },
  {
   "cell_type": "markdown",
   "metadata": {},
   "source": [
    "## Extract Known Coordinates Based on 'state_city'"
   ]
  },
  {
   "cell_type": "code",
   "execution_count": 22,
   "metadata": {},
   "outputs": [
    {
     "name": "stdout",
     "output_type": "stream",
     "text": [
      "               UserID            Timestamp   Latitude  Longitude  \\\n",
      "358472  USER_28e6d0a1  2010-03-04T02:50:29  33.580862 -86.956455   \n",
      "358480  USER_28e6d0a1  2010-03-04T04:33:59  33.580862 -86.956455   \n",
      "358481  USER_28e6d0a1  2010-03-04T04:45:31  33.580862 -86.956455   \n",
      "358484  USER_28e6d0a1  2010-03-05T00:44:08  33.580862 -86.956455   \n",
      "358485  USER_28e6d0a1  2010-03-05T00:45:50  33.580862 -86.956455   \n",
      "\n",
      "                                                TweetText Closest_State  \\\n",
      "358472    @USER_148a266e I gotta get you re-added to BBM!       Alabama   \n",
      "358480            @USER_5c07acb0 @USER_9334f9b7 ahhh yes!       Alabama   \n",
      "358481                 @USER_2594d45f An old locksmith...       Alabama   \n",
      "358484  RT @USER_f1966b04: They are shooting at pentag...       Alabama   \n",
      "358485  @USER_80024f73 as a matter of fact... I wanna ...       Alabama   \n",
      "\n",
      "       Closest_City  \n",
      "358472   Adamsville  \n",
      "358480   Adamsville  \n",
      "358481   Adamsville  \n",
      "358484   Adamsville  \n",
      "358485   Adamsville  \n"
     ]
    }
   ],
   "source": [
    "# Reading previously sorted df from state_city\n",
    "df_usa = pd.read_csv(r'data/state_city/usa_df_rounded.csv')\n",
    "\n",
    "# Current df\n",
    "df_dropped = pd.read_csv(r'data/full_text/full_text_dropped.csv')\n",
    "\n",
    "# Function to find the closest known location\n",
    "def find_closest_location(lat, lon):\n",
    "    distances = np.sqrt((df_usa['Latitude'] - lat)**2 + (df_usa['Longitude'] - lon)**2)\n",
    "    closest_idx = distances.idxmin()\n",
    "    return df_usa.loc[closest_idx, 'State'], df_usa.loc[closest_idx, 'City']\n",
    "\n",
    "# Apply the function to each row in df\n",
    "df_dropped[['Closest_State', 'Closest_City']] = df_dropped.apply(\n",
    "    lambda row: find_closest_location(row['Latitude'], row['Longitude']), axis=1, result_type='expand'\n",
    ")\n",
    "\n",
    "# Sort df_dropped based on the Closest_State and Closest_City\n",
    "df_sorted = df_dropped.sort_values(['Closest_State', 'Closest_City'])\n",
    "\n",
    "# Save the sorted dataframe to a new CSV\n",
    "df_sorted.to_csv(r'data/full_text/df_full_sorted.csv', index=False)\n",
    "\n",
    "print(df_sorted.head())\n"
   ]
  }
 ],
 "metadata": {
  "kernelspec": {
   "display_name": "Python 3",
   "language": "python",
   "name": "python3"
  },
  "language_info": {
   "codemirror_mode": {
    "name": "ipython",
    "version": 3
   },
   "file_extension": ".py",
   "mimetype": "text/x-python",
   "name": "python",
   "nbconvert_exporter": "python",
   "pygments_lexer": "ipython3",
   "version": "3.8.5"
  }
 },
 "nbformat": 4,
 "nbformat_minor": 5
}
