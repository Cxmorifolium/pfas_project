{
 "cells": [
  {
   "cell_type": "code",
   "execution_count": 1,
   "id": "d645a406-c704-4939-9908-80d57f404f4a",
   "metadata": {},
   "outputs": [],
   "source": [
    "import pandas as pd"
   ]
  },
  {
   "cell_type": "code",
   "execution_count": 2,
   "id": "5bbd5eea-5a7a-4f26-8016-ab82ee9ba817",
   "metadata": {},
   "outputs": [
    {
     "name": "stdout",
     "output_type": "stream",
     "text": [
      "PWSID\tPWSName\tSize\tFacilityID\tFacilityName\tFacilityWaterType\tSamplePointID\tSamplePointName\tSamplePointType\tAssociatedFacilityID\tAssociatedSamplePointID\tCollectionDate\tSampleID\tContaminant\tMRL\tUnits\tMethodID\tAnalyticalResultsSign\tAnalyticalResultValue\tSampleEventCode\tMonitoringRequirement\tRegion\tState\tUCMR1SampleType\n"
     ]
    },
    {
     "data": {
      "text/plain": [
       "['PWSID\\tPWSName\\tSize\\tFacilityID\\tFacilityName\\tFacilityWaterType\\tSamplePointID\\tSamplePointName\\tSamplePointType\\tAssociatedFacilityID\\tAssociatedSamplePointID\\tCollectionDate\\tSampleID\\tContaminant\\tMRL\\tUnits\\tMethodID\\tAnalyticalResultsSign\\tAnalyticalResultValue\\tSampleEventCode\\tMonitoringRequirement\\tRegion\\tState\\tUCMR1SampleType\\n']"
      ]
     },
     "execution_count": 2,
     "metadata": {},
     "output_type": "execute_result"
    }
   ],
   "source": [
    "a = list()\n",
    "with open('UCMR5_All.txt') as in_file:\n",
    "    count = 0\n",
    "    for row in in_file:\n",
    "        print(row.strip())\n",
    "        a.append(row)\n",
    "        count += 1\n",
    "        if count == 1:\n",
    "            break\n",
    "\n",
    "a"
   ]
  },
  {
   "cell_type": "code",
   "execution_count": 3,
   "id": "1878816e-a06a-49e9-9ed8-3695e1622dfa",
   "metadata": {},
   "outputs": [
    {
     "name": "stdout",
     "output_type": "stream",
     "text": [
      "['PWSID', 'PWSName', 'Size', 'FacilityID', 'FacilityName', 'FacilityWaterType', 'SamplePointID', 'SamplePointName', 'SamplePointType', 'AssociatedFacilityID', 'AssociatedSamplePointID', 'CollectionDate', 'SampleID', 'Contaminant', 'MRL', 'Units', 'MethodID', 'AnalyticalResultsSign', 'AnalyticalResultValue', 'SampleEventCode', 'MonitoringRequirement', 'Region', 'State', 'UCMR1SampleType']\n"
     ]
    }
   ],
   "source": [
    "b = a[0].replace('\\t',',').replace('\\n', '')\n",
    "cols = b.split(',')\n",
    "print(cols)"
   ]
  },
  {
   "cell_type": "code",
   "execution_count": 4,
   "id": "7e492c59-849d-4f01-8c85-8adf5b6217a7",
   "metadata": {},
   "outputs": [],
   "source": [
    "out = {'PWSID': list(), 'Contaminant': list(), 'MRL': list(),\n",
    "        'AnalyticalResultsSign': list(), 'AnalyticalResultValue': list(), 'Region': list(),\n",
    "       'State': list()}\n",
    "\n",
    "with open('UCMR5_All.txt') as in_file:\n",
    "    count = 0\n",
    "    for row in in_file:\n",
    "        a = list()\n",
    "        a.append(row)\n",
    "        if count > 0:\n",
    "            #b = a[0].replace('\\t',',').replace('\\n', '')\n",
    "            vals = a[0].split('\\t')\n",
    "            out['PWSID'].append(vals[0])\n",
    "            out['Contaminant'].append(vals[13])\n",
    "            out['MRL'].append(vals[14])\n",
    "            out['AnalyticalResultsSign'].append(vals[17])\n",
    "            if vals[18] == '':\n",
    "                out['AnalyticalResultValue'].append(float(0.0))\n",
    "            else:\n",
    "                out['AnalyticalResultValue'].append(float(vals[18]))\n",
    "            out['Region'].append(vals[21])\n",
    "            out['State'].append(vals[22])\n",
    "        \n",
    "        count += 1\n",
    "\n",
    "        # if count > 10:\n",
    "        #     break\n",
    "\n",
    "#out"
   ]
  },
  {
   "cell_type": "code",
   "execution_count": 5,
   "id": "1202d74e-7424-421d-8d17-16cb89929afe",
   "metadata": {},
   "outputs": [],
   "source": [
    "df = pd.DataFrame.from_dict(out)"
   ]
  },
  {
   "cell_type": "code",
   "execution_count": 6,
   "id": "f073fca8-3e9a-47ba-a460-0de1a526819b",
   "metadata": {},
   "outputs": [
    {
     "data": {
      "text/html": [
       "<div>\n",
       "<style scoped>\n",
       "    .dataframe tbody tr th:only-of-type {\n",
       "        vertical-align: middle;\n",
       "    }\n",
       "\n",
       "    .dataframe tbody tr th {\n",
       "        vertical-align: top;\n",
       "    }\n",
       "\n",
       "    .dataframe thead th {\n",
       "        text-align: right;\n",
       "    }\n",
       "</style>\n",
       "<table border=\"1\" class=\"dataframe\">\n",
       "  <thead>\n",
       "    <tr style=\"text-align: right;\">\n",
       "      <th></th>\n",
       "      <th>PWSID</th>\n",
       "      <th>Contaminant</th>\n",
       "      <th>MRL</th>\n",
       "      <th>AnalyticalResultsSign</th>\n",
       "      <th>AnalyticalResultValue</th>\n",
       "      <th>Region</th>\n",
       "      <th>State</th>\n",
       "    </tr>\n",
       "  </thead>\n",
       "  <tbody>\n",
       "    <tr>\n",
       "      <th>0</th>\n",
       "      <td>010106001</td>\n",
       "      <td>ADONA</td>\n",
       "      <td>0.003</td>\n",
       "      <td>&lt;</td>\n",
       "      <td>0.0000</td>\n",
       "      <td>1</td>\n",
       "      <td>01</td>\n",
       "    </tr>\n",
       "    <tr>\n",
       "      <th>1</th>\n",
       "      <td>010106001</td>\n",
       "      <td>PFDA</td>\n",
       "      <td>0.003</td>\n",
       "      <td>&lt;</td>\n",
       "      <td>0.0000</td>\n",
       "      <td>1</td>\n",
       "      <td>01</td>\n",
       "    </tr>\n",
       "    <tr>\n",
       "      <th>2</th>\n",
       "      <td>010106001</td>\n",
       "      <td>PFHxS</td>\n",
       "      <td>0.003</td>\n",
       "      <td>&lt;</td>\n",
       "      <td>0.0000</td>\n",
       "      <td>1</td>\n",
       "      <td>01</td>\n",
       "    </tr>\n",
       "    <tr>\n",
       "      <th>3</th>\n",
       "      <td>010106001</td>\n",
       "      <td>PFBS</td>\n",
       "      <td>0.003</td>\n",
       "      <td>=</td>\n",
       "      <td>0.0036</td>\n",
       "      <td>1</td>\n",
       "      <td>01</td>\n",
       "    </tr>\n",
       "    <tr>\n",
       "      <th>4</th>\n",
       "      <td>010106001</td>\n",
       "      <td>NEtFOSAA</td>\n",
       "      <td>0.005</td>\n",
       "      <td>&lt;</td>\n",
       "      <td>0.0000</td>\n",
       "      <td>1</td>\n",
       "      <td>01</td>\n",
       "    </tr>\n",
       "  </tbody>\n",
       "</table>\n",
       "</div>"
      ],
      "text/plain": [
       "       PWSID Contaminant    MRL AnalyticalResultsSign  AnalyticalResultValue  \\\n",
       "0  010106001       ADONA  0.003                     <                 0.0000   \n",
       "1  010106001        PFDA  0.003                     <                 0.0000   \n",
       "2  010106001       PFHxS  0.003                     <                 0.0000   \n",
       "3  010106001        PFBS  0.003                     =                 0.0036   \n",
       "4  010106001    NEtFOSAA  0.005                     <                 0.0000   \n",
       "\n",
       "  Region State  \n",
       "0      1    01  \n",
       "1      1    01  \n",
       "2      1    01  \n",
       "3      1    01  \n",
       "4      1    01  "
      ]
     },
     "execution_count": 6,
     "metadata": {},
     "output_type": "execute_result"
    }
   ],
   "source": [
    "df.head()"
   ]
  },
  {
   "cell_type": "code",
   "execution_count": 7,
   "id": "317a253c-a02c-4065-a3a5-9acd8435a884",
   "metadata": {},
   "outputs": [],
   "source": [
    "a = df['State'].unique()\n",
    "all_dict = {key: None for key in a}\n"
   ]
  },
  {
   "cell_type": "code",
   "execution_count": 8,
   "id": "47e17566-7bf7-4824-a21e-b9de3e34950b",
   "metadata": {},
   "outputs": [],
   "source": [
    "for state in df['State'].unique():\n",
    "    temp_df = pd.DataFrame(columns = df.columns) \n",
    "    temp_df = df[df['State'] == state]\n",
    "    total_count = temp_df.shape[0]\n",
    "    \n",
    "    temp_df = temp_df[temp_df['AnalyticalResultsSign'] == '=']\n",
    "    bad_count = temp_df.shape[0]\n",
    "    \n",
    "    temp_df = temp_df.reset_index()\n",
    "    st_avgperc = 0\n",
    "\n",
    "    for i in range(temp_df.shape[0]):\n",
    "        minval = temp_df['MRL'][i]\n",
    "        repval = temp_df['AnalyticalResultValue'][i]\n",
    "        st_avgperc += (repval - float(minval))/float(minval)\n",
    "\n",
    "    if temp_df.shape[0] == 0:\n",
    "        stuff = 0\n",
    "    else:\n",
    "        stuff = round(st_avgperc/temp_df.shape[0], 4)\n",
    "\n",
    "    all_dict[state] = {'Percentage': stuff, 'Sample Ratio': round(bad_count/total_count, 4)}"
   ]
  },
  {
   "cell_type": "code",
   "execution_count": 9,
   "id": "caf44e92-3296-4503-8cb3-9e3fdb5fbed5",
   "metadata": {},
   "outputs": [
    {
     "data": {
      "text/plain": [
       "{'01': {'Percentage': 1.3934, 'Sample Ratio': 0.1056},\n",
       " '02': {'Percentage': 0, 'Sample Ratio': 0.0},\n",
       " '04': {'Percentage': 0, 'Sample Ratio': 0.0},\n",
       " '05': {'Percentage': 3.0074, 'Sample Ratio': 0.0091},\n",
       " '06': {'Percentage': 8.6186, 'Sample Ratio': 0.0313},\n",
       " '08': {'Percentage': 5.106, 'Sample Ratio': 0.0269},\n",
       " '09': {'Percentage': 5.0423, 'Sample Ratio': 0.0285},\n",
       " '10': {'Percentage': 0, 'Sample Ratio': 0.0},\n",
       " 'AK': {'Percentage': 0.6846, 'Sample Ratio': 0.0066},\n",
       " 'AL': {'Percentage': 2.0845, 'Sample Ratio': 0.027},\n",
       " 'AR': {'Percentage': 1.4074, 'Sample Ratio': 0.0073},\n",
       " 'AS': {'Percentage': 0.2564, 'Sample Ratio': 0.0022},\n",
       " 'AZ': {'Percentage': 5.8651, 'Sample Ratio': 0.0465},\n",
       " 'CA': {'Percentage': 1.7066, 'Sample Ratio': 0.0219},\n",
       " 'CO': {'Percentage': 2.0982, 'Sample Ratio': 0.0301},\n",
       " 'CT': {'Percentage': 0.532, 'Sample Ratio': 0.0333},\n",
       " 'DC': {'Percentage': 0.4439, 'Sample Ratio': 0.0253},\n",
       " 'DE': {'Percentage': 2.3635, 'Sample Ratio': 0.0604},\n",
       " 'FL': {'Percentage': 1.4765, 'Sample Ratio': 0.0474},\n",
       " 'GA': {'Percentage': 1.4424, 'Sample Ratio': 0.0231},\n",
       " 'GU': {'Percentage': 1.9349, 'Sample Ratio': 0.0937},\n",
       " 'HI': {'Percentage': 0.05, 'Sample Ratio': 0.0002},\n",
       " 'IA': {'Percentage': 5.1354, 'Sample Ratio': 0.0306},\n",
       " 'ID': {'Percentage': 2.4254, 'Sample Ratio': 0.0222},\n",
       " 'IL': {'Percentage': 1.8309, 'Sample Ratio': 0.0182},\n",
       " 'IN': {'Percentage': 1.1161, 'Sample Ratio': 0.0146},\n",
       " 'KS': {'Percentage': 2.8815, 'Sample Ratio': 0.0383},\n",
       " 'KY': {'Percentage': 1.0217, 'Sample Ratio': 0.0109},\n",
       " 'LA': {'Percentage': 0.857, 'Sample Ratio': 0.026},\n",
       " 'MA': {'Percentage': 0.7865, 'Sample Ratio': 0.0253},\n",
       " 'MD': {'Percentage': 0.89, 'Sample Ratio': 0.045},\n",
       " 'ME': {'Percentage': 0.6006, 'Sample Ratio': 0.0148},\n",
       " 'MI': {'Percentage': 0.5384, 'Sample Ratio': 0.0063},\n",
       " 'MN': {'Percentage': 4.5105, 'Sample Ratio': 0.0301},\n",
       " 'MO': {'Percentage': 2.8099, 'Sample Ratio': 0.0179},\n",
       " 'MP': {'Percentage': 3.6106, 'Sample Ratio': 0.0608},\n",
       " 'MS': {'Percentage': 1.9344, 'Sample Ratio': 0.0206},\n",
       " 'MT': {'Percentage': 2.8965, 'Sample Ratio': 0.0163},\n",
       " 'NC': {'Percentage': 1.1047, 'Sample Ratio': 0.0427},\n",
       " 'ND': {'Percentage': 3.5249, 'Sample Ratio': 0.0341},\n",
       " 'NE': {'Percentage': 1.9297, 'Sample Ratio': 0.0349},\n",
       " 'NH': {'Percentage': 0.6047, 'Sample Ratio': 0.0238},\n",
       " 'NJ': {'Percentage': 0.8717, 'Sample Ratio': 0.0607},\n",
       " 'NM': {'Percentage': 3.8746, 'Sample Ratio': 0.0374},\n",
       " 'NN': {'Percentage': 4.548, 'Sample Ratio': 0.0307},\n",
       " 'NV': {'Percentage': 3.2038, 'Sample Ratio': 0.0237},\n",
       " 'NY': {'Percentage': 1.8853, 'Sample Ratio': 0.0146},\n",
       " 'OH': {'Percentage': 0.9907, 'Sample Ratio': 0.0234},\n",
       " 'OK': {'Percentage': 1.2994, 'Sample Ratio': 0.0268},\n",
       " 'OR': {'Percentage': 1.5069, 'Sample Ratio': 0.006},\n",
       " 'PA': {'Percentage': 1.277, 'Sample Ratio': 0.0425},\n",
       " 'PR': {'Percentage': 1.0965, 'Sample Ratio': 0.0199},\n",
       " 'RI': {'Percentage': 0.7896, 'Sample Ratio': 0.0373},\n",
       " 'SC': {'Percentage': 0.7536, 'Sample Ratio': 0.0455},\n",
       " 'SD': {'Percentage': 4.9088, 'Sample Ratio': 0.0331},\n",
       " 'TN': {'Percentage': 1.4059, 'Sample Ratio': 0.0169},\n",
       " 'TX': {'Percentage': 1.9831, 'Sample Ratio': 0.0528},\n",
       " 'UT': {'Percentage': 2.3727, 'Sample Ratio': 0.0223},\n",
       " 'VA': {'Percentage': 0.816, 'Sample Ratio': 0.0203},\n",
       " 'VI': {'Percentage': 0, 'Sample Ratio': 0.0},\n",
       " 'VT': {'Percentage': 0.095, 'Sample Ratio': 0.0008},\n",
       " 'WA': {'Percentage': 1.1615, 'Sample Ratio': 0.0137},\n",
       " 'WI': {'Percentage': 1.4717, 'Sample Ratio': 0.0146},\n",
       " 'WV': {'Percentage': 1.9196, 'Sample Ratio': 0.0193},\n",
       " 'WY': {'Percentage': 3.2097, 'Sample Ratio': 0.0154}}"
      ]
     },
     "execution_count": 9,
     "metadata": {},
     "output_type": "execute_result"
    }
   ],
   "source": [
    "all_dict"
   ]
  },
  {
   "cell_type": "code",
   "execution_count": 10,
   "id": "8a78f2bb-2a9a-4c51-ba02-c0313dfb04bf",
   "metadata": {},
   "outputs": [
    {
     "data": {
      "text/plain": [
       "['AZ', 'IA', 'SD', 'MN', 'NM']"
      ]
     },
     "execution_count": 10,
     "metadata": {},
     "output_type": "execute_result"
    }
   ],
   "source": [
    "max_states = ['a','b','c','d','e']\n",
    "ignore = ['01','02','03','04','05','06','07','08','09','10', 'VI','NN','GU']\n",
    "\n",
    "for i in range(len(max_states)):\n",
    "    high = 0\n",
    "    loc = 'asdf'\n",
    "    for key in all_dict.keys():\n",
    "        val = all_dict[key]['Percentage']\n",
    "        if (val > high) and (key not in max_states) and (key not in ignore):\n",
    "            high = val\n",
    "            loc = key\n",
    "            \n",
    "    max_states[i] = loc\n",
    "\n",
    "max_states"
   ]
  },
  {
   "cell_type": "code",
   "execution_count": 11,
   "id": "dfa95efc-750a-4db3-8698-36b644228a0a",
   "metadata": {},
   "outputs": [],
   "source": [
    "high_contan_states = ['Arizona','Iowa','South Dakota','Minnesota', 'New Mexico']"
   ]
  },
  {
   "cell_type": "code",
   "execution_count": 12,
   "id": "ee200f7d-a547-434d-ab57-9365bb7e7265",
   "metadata": {},
   "outputs": [],
   "source": [
    "google = ['North Carolina', 'South Carolina', 'Alabama', 'Colorado', 'Ohio', 'New Jersey', 'Massachusetts', 'Rhode Island', 'Minnesota',\n",
    "          'Wisconsin','Florida']"
   ]
  },
  {
   "cell_type": "code",
   "execution_count": null,
   "id": "2a9c1278-9edf-44c5-bc99-ed062de22b5f",
   "metadata": {},
   "outputs": [],
   "source": []
  }
 ],
 "metadata": {
  "kernelspec": {
   "display_name": "Python 3 (ipykernel)",
   "language": "python",
   "name": "python3"
  },
  "language_info": {
   "codemirror_mode": {
    "name": "ipython",
    "version": 3
   },
   "file_extension": ".py",
   "mimetype": "text/x-python",
   "name": "python",
   "nbconvert_exporter": "python",
   "pygments_lexer": "ipython3",
   "version": "3.12.7"
  }
 },
 "nbformat": 4,
 "nbformat_minor": 5
}
