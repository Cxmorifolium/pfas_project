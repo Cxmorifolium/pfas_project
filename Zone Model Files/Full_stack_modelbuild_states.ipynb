{
 "cells": [
  {
   "cell_type": "code",
   "execution_count": 1,
   "id": "5f420375",
   "metadata": {},
   "outputs": [],
   "source": [
    "import numpy as np\n",
    "import pandas as pd\n",
    "import random\n",
    "import matplotlib.pyplot as plt\n",
    "from IPython.display import clear_output\n",
    "import time\n",
    "\n",
    "import tensorflow as tf\n",
    "from tensorflow.keras.layers import Conv1D, Conv2D, GlobalMaxPooling1D, MaxPooling2D, Flatten, Dense, Input, Concatenate, Embedding, GlobalAveragePooling1D\n",
    "from tensorflow.keras.preprocessing.text import Tokenizer\n",
    "from keras.preprocessing.sequence import pad_sequences\n",
    "from tensorflow.keras.models import Model, Sequential\n",
    "from sklearn.model_selection import train_test_split\n",
    "from tensorflow.keras.optimizers import Adam\n",
    "\n",
    "import warnings\n",
    "warnings.filterwarnings('ignore')"
   ]
  },
  {
   "cell_type": "code",
   "execution_count": 3,
   "id": "ca9c5ce9",
   "metadata": {},
   "outputs": [
    {
     "data": {
      "text/html": [
       "<div>\n",
       "<style scoped>\n",
       "    .dataframe tbody tr th:only-of-type {\n",
       "        vertical-align: middle;\n",
       "    }\n",
       "\n",
       "    .dataframe tbody tr th {\n",
       "        vertical-align: top;\n",
       "    }\n",
       "\n",
       "    .dataframe thead th {\n",
       "        text-align: right;\n",
       "    }\n",
       "</style>\n",
       "<table border=\"1\" class=\"dataframe\">\n",
       "  <thead>\n",
       "    <tr style=\"text-align: right;\">\n",
       "      <th></th>\n",
       "      <th>Timestamp</th>\n",
       "      <th>TweetText</th>\n",
       "      <th>Closest_State</th>\n",
       "      <th>Closest_City</th>\n",
       "      <th>Region</th>\n",
       "    </tr>\n",
       "  </thead>\n",
       "  <tbody>\n",
       "    <tr>\n",
       "      <th>0</th>\n",
       "      <td>82916</td>\n",
       "      <td>going to take a nap  join me</td>\n",
       "      <td>California</td>\n",
       "      <td>Adelanto</td>\n",
       "      <td>West Coast</td>\n",
       "    </tr>\n",
       "    <tr>\n",
       "      <th>1</th>\n",
       "      <td>84900</td>\n",
       "      <td>lol dork so ur still in cali</td>\n",
       "      <td>California</td>\n",
       "      <td>Adelanto</td>\n",
       "      <td>West Coast</td>\n",
       "    </tr>\n",
       "    <tr>\n",
       "      <th>2</th>\n",
       "      <td>86105</td>\n",
       "      <td>ahh euclid off th 60</td>\n",
       "      <td>California</td>\n",
       "      <td>Adelanto</td>\n",
       "      <td>West Coast</td>\n",
       "    </tr>\n",
       "    <tr>\n",
       "      <th>3</th>\n",
       "      <td>93</td>\n",
       "      <td>put it on tyra shes giving fat girls a chance...</td>\n",
       "      <td>California</td>\n",
       "      <td>Adelanto</td>\n",
       "      <td>West Coast</td>\n",
       "    </tr>\n",
       "    <tr>\n",
       "      <th>4</th>\n",
       "      <td>562</td>\n",
       "      <td>what day is that</td>\n",
       "      <td>California</td>\n",
       "      <td>Adelanto</td>\n",
       "      <td>West Coast</td>\n",
       "    </tr>\n",
       "  </tbody>\n",
       "</table>\n",
       "</div>"
      ],
      "text/plain": [
       "   Timestamp                                          TweetText Closest_State  \\\n",
       "0      82916                       going to take a nap  join me    California   \n",
       "1      84900                       lol dork so ur still in cali    California   \n",
       "2      86105                               ahh euclid off th 60    California   \n",
       "3         93   put it on tyra shes giving fat girls a chance...    California   \n",
       "4        562                                   what day is that    California   \n",
       "\n",
       "  Closest_City      Region  \n",
       "0     Adelanto  West Coast  \n",
       "1     Adelanto  West Coast  \n",
       "2     Adelanto  West Coast  \n",
       "3     Adelanto  West Coast  \n",
       "4     Adelanto  West Coast  "
      ]
     },
     "execution_count": 3,
     "metadata": {},
     "output_type": "execute_result"
    }
   ],
   "source": [
    "df = pd.read_csv('west_coast_tweets.csv')\n",
    "df.head()"
   ]
  },
  {
   "cell_type": "code",
   "execution_count": 4,
   "id": "4e65415a",
   "metadata": {},
   "outputs": [
    {
     "data": {
      "text/plain": [
       "(38604, 5)"
      ]
     },
     "execution_count": 4,
     "metadata": {},
     "output_type": "execute_result"
    }
   ],
   "source": [
    "df.shape"
   ]
  },
  {
   "cell_type": "code",
   "execution_count": 5,
   "id": "3e97c0de",
   "metadata": {},
   "outputs": [],
   "source": [
    "df['TweetText'] = df['TweetText'].astype(str)"
   ]
  },
  {
   "cell_type": "code",
   "execution_count": 6,
   "id": "823277ed",
   "metadata": {},
   "outputs": [],
   "source": [
    "tokenizer = Tokenizer()\n",
    "tokenizer.fit_on_texts(df['TweetText'].tolist())"
   ]
  },
  {
   "cell_type": "code",
   "execution_count": 7,
   "id": "4fe82374",
   "metadata": {},
   "outputs": [],
   "source": [
    "df2 = df.copy()"
   ]
  },
  {
   "cell_type": "code",
   "execution_count": 8,
   "id": "1537db41",
   "metadata": {},
   "outputs": [],
   "source": [
    "cols = ['Closest_City','Region']\n",
    "df2 = df2.drop(cols, axis = 1)"
   ]
  },
  {
   "cell_type": "code",
   "execution_count": 9,
   "id": "b287233a",
   "metadata": {},
   "outputs": [],
   "source": [
    "one_hot = pd.get_dummies(df2['Closest_State'])\n",
    "df2 = df2.join(one_hot)\n",
    "df2 = df2.drop('Closest_State', axis = 1)"
   ]
  },
  {
   "cell_type": "code",
   "execution_count": 10,
   "id": "64835014",
   "metadata": {},
   "outputs": [
    {
     "data": {
      "text/html": [
       "<div>\n",
       "<style scoped>\n",
       "    .dataframe tbody tr th:only-of-type {\n",
       "        vertical-align: middle;\n",
       "    }\n",
       "\n",
       "    .dataframe tbody tr th {\n",
       "        vertical-align: top;\n",
       "    }\n",
       "\n",
       "    .dataframe thead th {\n",
       "        text-align: right;\n",
       "    }\n",
       "</style>\n",
       "<table border=\"1\" class=\"dataframe\">\n",
       "  <thead>\n",
       "    <tr style=\"text-align: right;\">\n",
       "      <th></th>\n",
       "      <th>Timestamp</th>\n",
       "      <th>TweetText</th>\n",
       "      <th>California</th>\n",
       "      <th>Oregon</th>\n",
       "      <th>Washington</th>\n",
       "    </tr>\n",
       "  </thead>\n",
       "  <tbody>\n",
       "    <tr>\n",
       "      <th>0</th>\n",
       "      <td>82916</td>\n",
       "      <td>going to take a nap  join me</td>\n",
       "      <td>1</td>\n",
       "      <td>0</td>\n",
       "      <td>0</td>\n",
       "    </tr>\n",
       "    <tr>\n",
       "      <th>1</th>\n",
       "      <td>84900</td>\n",
       "      <td>lol dork so ur still in cali</td>\n",
       "      <td>1</td>\n",
       "      <td>0</td>\n",
       "      <td>0</td>\n",
       "    </tr>\n",
       "    <tr>\n",
       "      <th>2</th>\n",
       "      <td>86105</td>\n",
       "      <td>ahh euclid off th 60</td>\n",
       "      <td>1</td>\n",
       "      <td>0</td>\n",
       "      <td>0</td>\n",
       "    </tr>\n",
       "    <tr>\n",
       "      <th>3</th>\n",
       "      <td>93</td>\n",
       "      <td>put it on tyra shes giving fat girls a chance...</td>\n",
       "      <td>1</td>\n",
       "      <td>0</td>\n",
       "      <td>0</td>\n",
       "    </tr>\n",
       "    <tr>\n",
       "      <th>4</th>\n",
       "      <td>562</td>\n",
       "      <td>what day is that</td>\n",
       "      <td>1</td>\n",
       "      <td>0</td>\n",
       "      <td>0</td>\n",
       "    </tr>\n",
       "    <tr>\n",
       "      <th>...</th>\n",
       "      <td>...</td>\n",
       "      <td>...</td>\n",
       "      <td>...</td>\n",
       "      <td>...</td>\n",
       "      <td>...</td>\n",
       "    </tr>\n",
       "    <tr>\n",
       "      <th>38599</th>\n",
       "      <td>27359</td>\n",
       "      <td>shes got2goshes a sellout 2 crackerscorporofa...</td>\n",
       "      <td>0</td>\n",
       "      <td>0</td>\n",
       "      <td>1</td>\n",
       "    </tr>\n",
       "    <tr>\n",
       "      <th>38600</th>\n",
       "      <td>30390</td>\n",
       "      <td>good nightrest well</td>\n",
       "      <td>0</td>\n",
       "      <td>0</td>\n",
       "      <td>1</td>\n",
       "    </tr>\n",
       "    <tr>\n",
       "      <th>38601</th>\n",
       "      <td>30754</td>\n",
       "      <td>likewisebut its funi use macromediaadobe stud...</td>\n",
       "      <td>0</td>\n",
       "      <td>0</td>\n",
       "      <td>1</td>\n",
       "    </tr>\n",
       "    <tr>\n",
       "      <th>38602</th>\n",
       "      <td>31492</td>\n",
       "      <td>hate2say itbut im poopedbeds lookin awfully ni...</td>\n",
       "      <td>0</td>\n",
       "      <td>0</td>\n",
       "      <td>1</td>\n",
       "    </tr>\n",
       "    <tr>\n",
       "      <th>38603</th>\n",
       "      <td>82339</td>\n",
       "      <td>exactlytheyre the party of greed over needthe...</td>\n",
       "      <td>0</td>\n",
       "      <td>0</td>\n",
       "      <td>1</td>\n",
       "    </tr>\n",
       "  </tbody>\n",
       "</table>\n",
       "<p>38604 rows × 5 columns</p>\n",
       "</div>"
      ],
      "text/plain": [
       "       Timestamp                                          TweetText  \\\n",
       "0          82916                       going to take a nap  join me   \n",
       "1          84900                       lol dork so ur still in cali   \n",
       "2          86105                               ahh euclid off th 60   \n",
       "3             93   put it on tyra shes giving fat girls a chance...   \n",
       "4            562                                   what day is that   \n",
       "...          ...                                                ...   \n",
       "38599      27359   shes got2goshes a sellout 2 crackerscorporofa...   \n",
       "38600      30390                                good nightrest well   \n",
       "38601      30754   likewisebut its funi use macromediaadobe stud...   \n",
       "38602      31492  hate2say itbut im poopedbeds lookin awfully ni...   \n",
       "38603      82339   exactlytheyre the party of greed over needthe...   \n",
       "\n",
       "       California  Oregon  Washington  \n",
       "0               1       0           0  \n",
       "1               1       0           0  \n",
       "2               1       0           0  \n",
       "3               1       0           0  \n",
       "4               1       0           0  \n",
       "...           ...     ...         ...  \n",
       "38599           0       0           1  \n",
       "38600           0       0           1  \n",
       "38601           0       0           1  \n",
       "38602           0       0           1  \n",
       "38603           0       0           1  \n",
       "\n",
       "[38604 rows x 5 columns]"
      ]
     },
     "execution_count": 10,
     "metadata": {},
     "output_type": "execute_result"
    }
   ],
   "source": [
    "df2"
   ]
  },
  {
   "cell_type": "code",
   "execution_count": 11,
   "id": "e5502de9",
   "metadata": {},
   "outputs": [],
   "source": [
    "x_dat = df2[['TweetText','Timestamp']]\n",
    "y_dat = df2[df['Closest_State'].unique()]"
   ]
  },
  {
   "cell_type": "code",
   "execution_count": 12,
   "id": "ccd81c08",
   "metadata": {},
   "outputs": [],
   "source": [
    "x_train, x_test, y_train, y_test = train_test_split(x_dat, y_dat, test_size = 0.25, random_state = 40)"
   ]
  },
  {
   "cell_type": "code",
   "execution_count": 13,
   "id": "79bee54f",
   "metadata": {},
   "outputs": [
    {
     "data": {
      "text/plain": [
       "count    38604.000000\n",
       "mean        12.062584\n",
       "std          8.382297\n",
       "min          1.000000\n",
       "1%           2.000000\n",
       "50%         11.000000\n",
       "99%         29.000000\n",
       "max        644.000000\n",
       "Name: TweetText, dtype: float64"
      ]
     },
     "execution_count": 13,
     "metadata": {},
     "output_type": "execute_result"
    }
   ],
   "source": [
    "x_dat[\"TweetText\"].str.split(\" \").str.len().describe(percentiles=[0.01, 0.5, 0.99])"
   ]
  },
  {
   "cell_type": "code",
   "execution_count": 14,
   "id": "5d885fcb",
   "metadata": {},
   "outputs": [],
   "source": [
    "tmax_length = 29"
   ]
  },
  {
   "cell_type": "code",
   "execution_count": 15,
   "id": "f4eec005",
   "metadata": {},
   "outputs": [],
   "source": [
    "train_sequences = tokenizer.texts_to_sequences(x_train['TweetText'].tolist())\n",
    "test_sequences = tokenizer.texts_to_sequences(x_test['TweetText'].tolist())\n",
    "\n",
    "train_seq = pad_sequences(train_sequences, maxlen = tmax_length, padding = 'post', truncating = 'post')\n",
    "test_seq = pad_sequences(test_sequences, maxlen = tmax_length, padding = 'post', truncating = 'post')"
   ]
  },
  {
   "cell_type": "code",
   "execution_count": 16,
   "id": "4ef8915b",
   "metadata": {},
   "outputs": [],
   "source": [
    "vocab_size = len(tokenizer.index_word) + 1\n",
    "embedding_dim = 150"
   ]
  },
  {
   "cell_type": "code",
   "execution_count": 17,
   "id": "24fc9436",
   "metadata": {},
   "outputs": [],
   "source": [
    "timestamps_train = x_train['Timestamp']\n",
    "timestamps_test = x_test['Timestamp']"
   ]
  },
  {
   "cell_type": "code",
   "execution_count": 18,
   "id": "2857d85e",
   "metadata": {},
   "outputs": [
    {
     "name": "stdout",
     "output_type": "stream",
     "text": [
      "Model: \"model\"\n",
      "__________________________________________________________________________________________________\n",
      "Layer (type)                    Output Shape         Param #     Connected to                     \n",
      "==================================================================================================\n",
      "Input Sequence (InputLayer)     [(None, 29)]         0                                            \n",
      "__________________________________________________________________________________________________\n",
      "embedding (Embedding)           (None, 29, 150)      5643450     Input Sequence[0][0]             \n",
      "__________________________________________________________________________________________________\n",
      "conv1d (Conv1D)                 (None, 27, 128)      57728       embedding[0][0]                  \n",
      "__________________________________________________________________________________________________\n",
      "global_average_pooling1d (Globa (None, 128)          0           conv1d[0][0]                     \n",
      "__________________________________________________________________________________________________\n",
      "Input Timestamp (InputLayer)    [(None, 1)]          0                                            \n",
      "__________________________________________________________________________________________________\n",
      "concatenate (Concatenate)       (None, 129)          0           global_average_pooling1d[0][0]   \n",
      "                                                                 Input Timestamp[0][0]            \n",
      "__________________________________________________________________________________________________\n",
      "dense (Dense)                   (None, 50)           6500        concatenate[0][0]                \n",
      "__________________________________________________________________________________________________\n",
      "dense_1 (Dense)                 (None, 15)           765         dense[0][0]                      \n",
      "__________________________________________________________________________________________________\n",
      "dense_2 (Dense)                 (None, 3)            48          dense_1[0][0]                    \n",
      "==================================================================================================\n",
      "Total params: 5,708,491\n",
      "Trainable params: 5,708,491\n",
      "Non-trainable params: 0\n",
      "__________________________________________________________________________________________________\n"
     ]
    }
   ],
   "source": [
    "input_seq = Input(shape = (tmax_length,), name = 'Input Sequence')\n",
    "input_time = Input(shape = (1,), name = \"Input Timestamp\")\n",
    "\n",
    "embed = Embedding(input_dim = vocab_size, output_dim = embedding_dim, input_length = tmax_length)(input_seq)\n",
    "convol = Conv1D(filters = 128, kernel_size = 3, activation = 'relu')(embed)\n",
    "maxpool = GlobalAveragePooling1D()(convol)\n",
    "\n",
    "concat = Concatenate()([maxpool, input_time])\n",
    "dense1 = Dense(50, activation = 'relu')(concat)\n",
    "dense2 = Dense(25, activation = 'relu')(dense1)\n",
    "dense3 = Dense(15, activation = 'relu')(dense2)\n",
    "output = Dense(len(df['Region'].unique()), activation = 'sigmoid')(dense3)\n",
    "\n",
    "model = Model(inputs = [input_seq, input_time], outputs = output)\n",
    "\n",
    "model.compile(optimizer = 'adam', loss = 'sparse_categorical_crossentropy', metrics = ['f1_score'])\n",
    "#model.compile(optimizer = 'adam', loss = 'categorical_crossentropy', metrics = ['f1_score'])\n",
    "\n",
    "model.summary()"
   ]
  },
  {
   "cell_type": "code",
   "execution_count": 19,
   "id": "2846d3d9",
   "metadata": {},
   "outputs": [
    {
     "name": "stdout",
     "output_type": "stream",
     "text": [
      "Epoch 1/6\n",
      "541/541 [==============================] - 31s 56ms/step - loss: 35.5384 - accuracy: 0.8098 - val_loss: 11.7270 - val_accuracy: 0.8985\n",
      "Epoch 2/6\n",
      "541/541 [==============================] - 30s 56ms/step - loss: 19.3726 - accuracy: 0.8116 - val_loss: 21.6832 - val_accuracy: 0.8960\n",
      "Epoch 3/6\n",
      "541/541 [==============================] - 31s 57ms/step - loss: 16.0266 - accuracy: 0.8219 - val_loss: 18.3228 - val_accuracy: 0.8935\n",
      "Epoch 4/6\n",
      "541/541 [==============================] - 30s 56ms/step - loss: 12.5286 - accuracy: 0.8382 - val_loss: 16.3161 - val_accuracy: 0.8935\n",
      "Epoch 5/6\n",
      "541/541 [==============================] - 30s 55ms/step - loss: 7.9634 - accuracy: 0.8574 - val_loss: 9.6241 - val_accuracy: 0.8606\n",
      "Epoch 6/6\n",
      "541/541 [==============================] - 30s 56ms/step - loss: 6.7682 - accuracy: 0.8741 - val_loss: 10.8426 - val_accuracy: 0.8876\n"
     ]
    }
   ],
   "source": [
    "history = model.fit([train_seq, timestamps_train], y_train, epochs = 6, batch_size = 50, validation_data = ([test_seq, timestamps_test], y_test))"
   ]
  },
  {
   "cell_type": "code",
   "execution_count": 20,
   "id": "0f8b8c65",
   "metadata": {},
   "outputs": [
    {
     "data": {
      "image/png": "[encoded data removed]",
      "text/plain": [
       "<Figure size 432x288 with 1 Axes>"
      ]
     },
     "metadata": {
      "needs_background": "light"
     },
     "output_type": "display_data"
    },
    {
     "data": {
      "image/png": "[encoded data removed]",
      "text/plain": [
       "<Figure size 432x288 with 1 Axes>"
      ]
     },
     "metadata": {
      "needs_background": "light"
     },
     "output_type": "display_data"
    }
   ],
   "source": [
    "plt.plot(history.history['accuracy'])\n",
    "plt.plot(history.history['val_accuracy'])\n",
    "plt.title('Model Accuracy')\n",
    "plt.ylabel('Accuracy')\n",
    "plt.xlabel('Epoch')\n",
    "plt.legend(['train', 'test'], loc='upper left')\n",
    "plt.show()\n",
    "plt.plot(history.history['loss'])\n",
    "plt.plot(history.history['val_loss'])\n",
    "plt.title('Model Loss')\n",
    "plt.ylabel('Loss')\n",
    "plt.xlabel('Epoch')\n",
    "plt.legend(['train', 'test'], loc='upper left')\n",
    "plt.show()"
   ]
  },
  {
   "cell_type": "code",
   "execution_count": null,
   "id": "2062cae9",
   "metadata": {},
   "outputs": [],
   "source": []
  }
 ],
 "metadata": {
  "kernelspec": {
   "display_name": "Python 3 (ipykernel)",
   "language": "python",
   "name": "python3"
  },
  "language_info": {
   "codemirror_mode": {
    "name": "ipython",
    "version": 3
   },
   "file_extension": ".py",
   "mimetype": "text/x-python",
   "name": "python",
   "nbconvert_exporter": "python",
   "pygments_lexer": "ipython3",
   "version": "3.12.7"
  }
 },
 "nbformat": 4,
 "nbformat_minor": 5
}
