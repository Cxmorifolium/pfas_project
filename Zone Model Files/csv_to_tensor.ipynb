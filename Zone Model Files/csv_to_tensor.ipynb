{
 "cells": [
  {
   "cell_type": "code",
   "execution_count": null,
   "id": "58d3fe49-b21a-4522-b38c-e9bf7f59ce8c",
   "metadata": {},
   "outputs": [],
   "source": [
    "import pandas as pd\n",
    "import torch\n",
    "import ast\n"
   ]
  },
  {
   "cell_type": "code",
   "execution_count": null,
   "id": "dabb5a34-1e3c-401f-8ca7-035fd850c344",
   "metadata": {},
   "outputs": [],
   "source": [
    "df = pd.read_csv('path/to/your/csv_file.csv')\n"
   ]
  },
  {
   "cell_type": "code",
   "execution_count": null,
   "id": "4bf4d816-8160-46a5-b7fa-3fd5d3df66dc",
   "metadata": {},
   "outputs": [],
   "source": [
    "# Assuming the column with BERT embeddings is named 'bert_embeddings'\n",
    "def string_to_tensor(embedding_string):\n",
    "    # Convert string representation to list using ast.literal_eval\n",
    "    embedding_list = ast.literal_eval(embedding_string)\n",
    "    # Convert list to tensor\n",
    "    tensor = torch.tensor(embedding_list)\n",
    "    return tensor\n",
    "\n",
    "# Apply the conversion to the DataFrame\n",
    "df['bert_embeddings'] = df['bert_embeddings'].apply(string_to_tensor)\n",
    "\n",
    "# Now df['bert_embeddings'] contains tensors\n",
    "print(df['bert_embeddings'].iloc[0])\n"
   ]
  }
 ],
 "metadata": {
  "kernelspec": {
   "display_name": "Python 3 (ipykernel)",
   "language": "python",
   "name": "python3"
  },
  "language_info": {
   "codemirror_mode": {
    "name": "ipython",
    "version": 3
   },
   "file_extension": ".py",
   "mimetype": "text/x-python",
   "name": "python",
   "nbconvert_exporter": "python",
   "pygments_lexer": "ipython3",
   "version": "3.12.7"
  }
 },
 "nbformat": 4,
 "nbformat_minor": 5
}
