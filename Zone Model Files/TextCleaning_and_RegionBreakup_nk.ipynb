{
 "cells": [
  {
   "cell_type": "code",
   "execution_count": 1,
   "metadata": {},
   "outputs": [
    {
     "name": "stderr",
     "output_type": "stream",
     "text": [
      "[nltk_data] Downloading package wordnet to\n",
      "[nltk_data]     C:\\Users\\nicho\\AppData\\Roaming\\nltk_data...\n",
      "[nltk_data]   Package wordnet is already up-to-date!\n",
      "[nltk_data] Downloading package punkt to\n",
      "[nltk_data]     C:\\Users\\nicho\\AppData\\Roaming\\nltk_data...\n",
      "[nltk_data]   Package punkt is already up-to-date!\n"
     ]
    },
    {
     "data": {
      "text/plain": [
       "True"
      ]
     },
     "execution_count": 1,
     "metadata": {},
     "output_type": "execute_result"
    }
   ],
   "source": [
    "import pandas as pd\n",
    "import csv\n",
    "from IPython.display import clear_output\n",
    "\n",
    "import unicodedata\n",
    "import re\n",
    "import nltk\n",
    "import typing_extensions\n",
    "import emoji\n",
    "\n",
    "from nltk.corpus import stopwords, wordnet\n",
    "nltk.download('wordnet')\n",
    "nltk.download('punkt')"
   ]
  },
  {
   "cell_type": "code",
   "execution_count": 2,
   "metadata": {},
   "outputs": [],
   "source": [
    "df_1 = pd.read_csv('df_full_sorted.csv')"
   ]
  },
  {
   "cell_type": "code",
   "execution_count": 3,
   "metadata": {},
   "outputs": [
    {
     "data": {
      "text/html": [
       "<div>\n",
       "<style scoped>\n",
       "    .dataframe tbody tr th:only-of-type {\n",
       "        vertical-align: middle;\n",
       "    }\n",
       "\n",
       "    .dataframe tbody tr th {\n",
       "        vertical-align: top;\n",
       "    }\n",
       "\n",
       "    .dataframe thead th {\n",
       "        text-align: right;\n",
       "    }\n",
       "</style>\n",
       "<table border=\"1\" class=\"dataframe\">\n",
       "  <thead>\n",
       "    <tr style=\"text-align: right;\">\n",
       "      <th></th>\n",
       "      <th>UserID</th>\n",
       "      <th>Timestamp</th>\n",
       "      <th>Latitude</th>\n",
       "      <th>Longitude</th>\n",
       "      <th>TweetText</th>\n",
       "      <th>Closest_State</th>\n",
       "      <th>Closest_City</th>\n",
       "    </tr>\n",
       "  </thead>\n",
       "  <tbody>\n",
       "    <tr>\n",
       "      <th>0</th>\n",
       "      <td>USER_28e6d0a1</td>\n",
       "      <td>2010-03-04T02:50:29</td>\n",
       "      <td>33.580862</td>\n",
       "      <td>-86.956455</td>\n",
       "      <td>@USER_148a266e I gotta get you re-added to BBM!</td>\n",
       "      <td>Alabama</td>\n",
       "      <td>Adamsville</td>\n",
       "    </tr>\n",
       "    <tr>\n",
       "      <th>1</th>\n",
       "      <td>USER_28e6d0a1</td>\n",
       "      <td>2010-03-04T04:33:59</td>\n",
       "      <td>33.580862</td>\n",
       "      <td>-86.956455</td>\n",
       "      <td>@USER_5c07acb0 @USER_9334f9b7 ahhh yes!</td>\n",
       "      <td>Alabama</td>\n",
       "      <td>Adamsville</td>\n",
       "    </tr>\n",
       "    <tr>\n",
       "      <th>2</th>\n",
       "      <td>USER_28e6d0a1</td>\n",
       "      <td>2010-03-04T04:45:31</td>\n",
       "      <td>33.580862</td>\n",
       "      <td>-86.956455</td>\n",
       "      <td>@USER_2594d45f An old locksmith...</td>\n",
       "      <td>Alabama</td>\n",
       "      <td>Adamsville</td>\n",
       "    </tr>\n",
       "    <tr>\n",
       "      <th>3</th>\n",
       "      <td>USER_28e6d0a1</td>\n",
       "      <td>2010-03-05T00:44:08</td>\n",
       "      <td>33.580862</td>\n",
       "      <td>-86.956455</td>\n",
       "      <td>RT @USER_f1966b04: They are shooting at pentag...</td>\n",
       "      <td>Alabama</td>\n",
       "      <td>Adamsville</td>\n",
       "    </tr>\n",
       "    <tr>\n",
       "      <th>4</th>\n",
       "      <td>USER_28e6d0a1</td>\n",
       "      <td>2010-03-05T00:45:50</td>\n",
       "      <td>33.580862</td>\n",
       "      <td>-86.956455</td>\n",
       "      <td>@USER_80024f73 as a matter of fact... I wanna ...</td>\n",
       "      <td>Alabama</td>\n",
       "      <td>Adamsville</td>\n",
       "    </tr>\n",
       "  </tbody>\n",
       "</table>\n",
       "</div>"
      ],
      "text/plain": [
       "          UserID            Timestamp   Latitude  Longitude  \\\n",
       "0  USER_28e6d0a1  2010-03-04T02:50:29  33.580862 -86.956455   \n",
       "1  USER_28e6d0a1  2010-03-04T04:33:59  33.580862 -86.956455   \n",
       "2  USER_28e6d0a1  2010-03-04T04:45:31  33.580862 -86.956455   \n",
       "3  USER_28e6d0a1  2010-03-05T00:44:08  33.580862 -86.956455   \n",
       "4  USER_28e6d0a1  2010-03-05T00:45:50  33.580862 -86.956455   \n",
       "\n",
       "                                           TweetText Closest_State  \\\n",
       "0    @USER_148a266e I gotta get you re-added to BBM!       Alabama   \n",
       "1            @USER_5c07acb0 @USER_9334f9b7 ahhh yes!       Alabama   \n",
       "2                 @USER_2594d45f An old locksmith...       Alabama   \n",
       "3  RT @USER_f1966b04: They are shooting at pentag...       Alabama   \n",
       "4  @USER_80024f73 as a matter of fact... I wanna ...       Alabama   \n",
       "\n",
       "  Closest_City  \n",
       "0   Adamsville  \n",
       "1   Adamsville  \n",
       "2   Adamsville  \n",
       "3   Adamsville  \n",
       "4   Adamsville  "
      ]
     },
     "execution_count": 3,
     "metadata": {},
     "output_type": "execute_result"
    }
   ],
   "source": [
    "df_1.head()"
   ]
  },
  {
   "cell_type": "code",
   "execution_count": 4,
   "metadata": {},
   "outputs": [],
   "source": [
    "df2 = df_1.drop_duplicates(subset = ['TweetText'])"
   ]
  },
  {
   "cell_type": "code",
   "execution_count": 5,
   "metadata": {},
   "outputs": [],
   "source": [
    "df2 = df2.drop(['UserID','Latitude','Longitude'], axis = 1)"
   ]
  },
  {
   "cell_type": "code",
   "execution_count": 6,
   "metadata": {},
   "outputs": [
    {
     "data": {
      "text/html": [
       "<div>\n",
       "<style scoped>\n",
       "    .dataframe tbody tr th:only-of-type {\n",
       "        vertical-align: middle;\n",
       "    }\n",
       "\n",
       "    .dataframe tbody tr th {\n",
       "        vertical-align: top;\n",
       "    }\n",
       "\n",
       "    .dataframe thead th {\n",
       "        text-align: right;\n",
       "    }\n",
       "</style>\n",
       "<table border=\"1\" class=\"dataframe\">\n",
       "  <thead>\n",
       "    <tr style=\"text-align: right;\">\n",
       "      <th></th>\n",
       "      <th>Timestamp</th>\n",
       "      <th>TweetText</th>\n",
       "      <th>Closest_State</th>\n",
       "      <th>Closest_City</th>\n",
       "    </tr>\n",
       "  </thead>\n",
       "  <tbody>\n",
       "    <tr>\n",
       "      <th>0</th>\n",
       "      <td>2010-03-04T02:50:29</td>\n",
       "      <td>@USER_148a266e I gotta get you re-added to BBM!</td>\n",
       "      <td>Alabama</td>\n",
       "      <td>Adamsville</td>\n",
       "    </tr>\n",
       "    <tr>\n",
       "      <th>1</th>\n",
       "      <td>2010-03-04T04:33:59</td>\n",
       "      <td>@USER_5c07acb0 @USER_9334f9b7 ahhh yes!</td>\n",
       "      <td>Alabama</td>\n",
       "      <td>Adamsville</td>\n",
       "    </tr>\n",
       "    <tr>\n",
       "      <th>2</th>\n",
       "      <td>2010-03-04T04:45:31</td>\n",
       "      <td>@USER_2594d45f An old locksmith...</td>\n",
       "      <td>Alabama</td>\n",
       "      <td>Adamsville</td>\n",
       "    </tr>\n",
       "    <tr>\n",
       "      <th>3</th>\n",
       "      <td>2010-03-05T00:44:08</td>\n",
       "      <td>RT @USER_f1966b04: They are shooting at pentag...</td>\n",
       "      <td>Alabama</td>\n",
       "      <td>Adamsville</td>\n",
       "    </tr>\n",
       "    <tr>\n",
       "      <th>4</th>\n",
       "      <td>2010-03-05T00:45:50</td>\n",
       "      <td>@USER_80024f73 as a matter of fact... I wanna ...</td>\n",
       "      <td>Alabama</td>\n",
       "      <td>Adamsville</td>\n",
       "    </tr>\n",
       "  </tbody>\n",
       "</table>\n",
       "</div>"
      ],
      "text/plain": [
       "             Timestamp                                          TweetText  \\\n",
       "0  2010-03-04T02:50:29    @USER_148a266e I gotta get you re-added to BBM!   \n",
       "1  2010-03-04T04:33:59            @USER_5c07acb0 @USER_9334f9b7 ahhh yes!   \n",
       "2  2010-03-04T04:45:31                 @USER_2594d45f An old locksmith...   \n",
       "3  2010-03-05T00:44:08  RT @USER_f1966b04: They are shooting at pentag...   \n",
       "4  2010-03-05T00:45:50  @USER_80024f73 as a matter of fact... I wanna ...   \n",
       "\n",
       "  Closest_State Closest_City  \n",
       "0       Alabama   Adamsville  \n",
       "1       Alabama   Adamsville  \n",
       "2       Alabama   Adamsville  \n",
       "3       Alabama   Adamsville  \n",
       "4       Alabama   Adamsville  "
      ]
     },
     "execution_count": 6,
     "metadata": {},
     "output_type": "execute_result"
    }
   ],
   "source": [
    "df2.head()"
   ]
  },
  {
   "cell_type": "code",
   "execution_count": 7,
   "metadata": {},
   "outputs": [],
   "source": [
    "# Function for synonym replacement using NLTK\n",
    "def synonym_replacement(text):\n",
    "    words = nltk.word_tokenize(text)  # Tokenize the text\n",
    "    new_words = []\n",
    "    for word in words:\n",
    "        synonyms = wordnet.synsets(word)\n",
    "        if synonyms:  # If synonyms exist\n",
    "            # Get the first synonym's lemma\n",
    "            synonym = synonyms[0].lemmas()[0].name()\n",
    "            new_words.append(synonym.replace('_', ' '))  # Replace underscores in multi-word synonyms\n",
    "        else:\n",
    "            new_words.append(word)  # Keep the original word if no synonym found\n",
    "    return ' '.join(new_words)"
   ]
  },
  {
   "cell_type": "code",
   "execution_count": 8,
   "metadata": {},
   "outputs": [],
   "source": [
    "def remove_accents(text):\n",
    "    # Normalize the text to decompose accented characters into their base forms\n",
    "    text = unicodedata.normalize('NFKD', text).encode('ascii', 'ignore').decode('utf-8')\n",
    "    return text\n",
    "\n",
    "def remove_non_ascii(text):\n",
    "    # Keep only ASCII characters\n",
    "    return ''.join([char for char in text if ord(char) < 128])\n",
    "\n",
    "def convert_emojis_to_text(text):\n",
    "    # Convert emojis to their text representation\n",
    "    return emoji.demojize(text)\n",
    "\n",
    "def remove_special_characters(text):\n",
    "    # Remove any special characters that are not letters, numbers, or spaces\n",
    "    return re.sub(r'[^A-Za-z0-9\\s]', '', text)\n",
    "\n",
    "def clean_tweet_text(text):\n",
    "    # Convert to string to handle non-string values\n",
    "    text = str(text)\n",
    "    text = re.sub(r'http\\S+|www.\\S+', '', text)  # remove URLs\n",
    "    text = re.sub(r'@\\w+', '', text)              # remove mentions\n",
    "    #text = re.sub(r'#\\w+', '', text)              # remove hashtags\n",
    "    text = remove_accents(text)                   # Normalize accented characters\n",
    "    text = remove_non_ascii(text)                 # Remove non-ASCII characters\n",
    "    text = remove_special_characters(text)        # Remove special characters\n",
    "    text = convert_emojis_to_text(text)          # Convert emojis to text\n",
    "    return text.lower()                            # Lowercase text\n"
   ]
  },
  {
   "cell_type": "code",
   "execution_count": 9,
   "metadata": {},
   "outputs": [],
   "source": [
    "# Apply the cleaning function to the TweetText column\n",
    "df2['TweetText'] = df2['TweetText'].apply(clean_tweet_text)\n",
    "\n",
    "# Apply text augmentation\n",
    "#df2['TweetText'] = df2['TweetText'].apply(synonym_replacement)\n",
    "\n",
    "# Remove rows with NaN values in 'TweetText'\n",
    "df4 = df2.dropna(subset=['TweetText']).reset_index()"
   ]
  },
  {
   "cell_type": "code",
   "execution_count": 10,
   "metadata": {},
   "outputs": [
    {
     "data": {
      "text/html": [
       "<div>\n",
       "<style scoped>\n",
       "    .dataframe tbody tr th:only-of-type {\n",
       "        vertical-align: middle;\n",
       "    }\n",
       "\n",
       "    .dataframe tbody tr th {\n",
       "        vertical-align: top;\n",
       "    }\n",
       "\n",
       "    .dataframe thead th {\n",
       "        text-align: right;\n",
       "    }\n",
       "</style>\n",
       "<table border=\"1\" class=\"dataframe\">\n",
       "  <thead>\n",
       "    <tr style=\"text-align: right;\">\n",
       "      <th></th>\n",
       "      <th>index</th>\n",
       "      <th>Timestamp</th>\n",
       "      <th>TweetText</th>\n",
       "      <th>Closest_State</th>\n",
       "      <th>Closest_City</th>\n",
       "    </tr>\n",
       "  </thead>\n",
       "  <tbody>\n",
       "    <tr>\n",
       "      <th>0</th>\n",
       "      <td>0</td>\n",
       "      <td>2010-03-04T02:50:29</td>\n",
       "      <td>i gotta get you readded to bbm</td>\n",
       "      <td>Alabama</td>\n",
       "      <td>Adamsville</td>\n",
       "    </tr>\n",
       "    <tr>\n",
       "      <th>1</th>\n",
       "      <td>1</td>\n",
       "      <td>2010-03-04T04:33:59</td>\n",
       "      <td>ahhh yes</td>\n",
       "      <td>Alabama</td>\n",
       "      <td>Adamsville</td>\n",
       "    </tr>\n",
       "    <tr>\n",
       "      <th>2</th>\n",
       "      <td>2</td>\n",
       "      <td>2010-03-04T04:45:31</td>\n",
       "      <td>an old locksmith</td>\n",
       "      <td>Alabama</td>\n",
       "      <td>Adamsville</td>\n",
       "    </tr>\n",
       "    <tr>\n",
       "      <th>3</th>\n",
       "      <td>3</td>\n",
       "      <td>2010-03-05T00:44:08</td>\n",
       "      <td>rt  they are shooting at pentagon metro please...</td>\n",
       "      <td>Alabama</td>\n",
       "      <td>Adamsville</td>\n",
       "    </tr>\n",
       "    <tr>\n",
       "      <th>4</th>\n",
       "      <td>4</td>\n",
       "      <td>2010-03-05T00:45:50</td>\n",
       "      <td>as a matter of fact i wanna ask about that</td>\n",
       "      <td>Alabama</td>\n",
       "      <td>Adamsville</td>\n",
       "    </tr>\n",
       "  </tbody>\n",
       "</table>\n",
       "</div>"
      ],
      "text/plain": [
       "   index            Timestamp  \\\n",
       "0      0  2010-03-04T02:50:29   \n",
       "1      1  2010-03-04T04:33:59   \n",
       "2      2  2010-03-04T04:45:31   \n",
       "3      3  2010-03-05T00:44:08   \n",
       "4      4  2010-03-05T00:45:50   \n",
       "\n",
       "                                           TweetText Closest_State  \\\n",
       "0                     i gotta get you readded to bbm       Alabama   \n",
       "1                                           ahhh yes       Alabama   \n",
       "2                                   an old locksmith       Alabama   \n",
       "3  rt  they are shooting at pentagon metro please...       Alabama   \n",
       "4         as a matter of fact i wanna ask about that       Alabama   \n",
       "\n",
       "  Closest_City  \n",
       "0   Adamsville  \n",
       "1   Adamsville  \n",
       "2   Adamsville  \n",
       "3   Adamsville  \n",
       "4   Adamsville  "
      ]
     },
     "execution_count": 10,
     "metadata": {},
     "output_type": "execute_result"
    }
   ],
   "source": [
    "df4.head()"
   ]
  },
  {
   "cell_type": "code",
   "execution_count": 11,
   "metadata": {},
   "outputs": [],
   "source": [
    "West_Coast = ('California','Oregon', 'Washington')\n",
    "Southwest = ('Arizona','New Mexico','Oklahoma','Texas')\n",
    "Rockies = ('Nevada','Utah','Colorado','Wyoming','Idaho','Montana')\n",
    "Midwest = ('North Dakota','South Dakota','Nebraska','Kansas','Missouri','Iowa','Minnesota','Wisconsin','Illinois',\n",
    "          'Indiana','Michigan','Ohio')\n",
    "South = ('Arkansas','Louisiana','Mississippi','Tennessee','Kentucky','Alabama','Georgia','Florida','South Carolina','North Carolina',\n",
    "        'Virginia','West Virginia','Maryland','Delaware', 'District of Columbia')\n",
    "Northeast = ('Pennsylvania','New Jersey','New York','Massachusetts', 'Rhode Island','Conneticut','Vermont','New Hampshire','Maine')\n",
    "NonCont = ('Hawaii','Alaska', 'Puerto Rico')"
   ]
  },
  {
   "cell_type": "code",
   "execution_count": 14,
   "metadata": {},
   "outputs": [],
   "source": [
    "df4['Region'] = 'a'\n",
    "df5 = df4.copy()"
   ]
  },
  {
   "cell_type": "code",
   "execution_count": 25,
   "metadata": {},
   "outputs": [],
   "source": [
    "df5 = df5.drop(['index'], axis = 1)"
   ]
  },
  {
   "cell_type": "code",
   "execution_count": 15,
   "metadata": {},
   "outputs": [],
   "source": [
    "def time_to_seconds(time_str):\n",
    "    # Extract the time part from the string (ignore day, month, year)\n",
    "    time_part = time_str.split('T')[1]\n",
    "    h, m, s = map(int, time_part.split(':'))\n",
    "    return h * 3600 + m * 60 + s"
   ]
  },
  {
   "cell_type": "code",
   "execution_count": 16,
   "metadata": {},
   "outputs": [
    {
     "name": "stdout",
     "output_type": "stream",
     "text": [
      "Rows processed: 374000/374519\n"
     ]
    }
   ],
   "source": [
    "i = 0\n",
    "imax = df4.shape[0]\n",
    "#imax = 100\n",
    "\n",
    "while i < imax:\n",
    "    st = df4['Closest_State'][i]\n",
    "    nt = df4['Timestamp'][i]\n",
    "    \n",
    "    df5['Timestamp'][i] = time_to_seconds(nt)\n",
    "    \n",
    "    if df5['Region'][i] == 'a':\n",
    "        if st in West_Coast:\n",
    "            df5['Region'][i] = 'West Coast'\n",
    "\n",
    "        elif st in Southwest:\n",
    "            df5['Region'][i] = 'Southwest'\n",
    "\n",
    "        elif st in Rockies:\n",
    "            df5['Region'][i] = 'Rockies'\n",
    "\n",
    "        elif st in Midwest:\n",
    "            df5['Region'][i] = 'Midwest'\n",
    "\n",
    "        elif st in South:\n",
    "            df5['Region'][i] = 'South'\n",
    "\n",
    "        elif st in Northeast:\n",
    "            df5['Region'][i] = 'Northeast'\n",
    "\n",
    "        elif st in NonCont:\n",
    "            df5['Region'][i] = 'NonCont'\n",
    "\n",
    "        else:\n",
    "            print(i)\n",
    "            print(st)\n",
    "            i = imax\n",
    "        \n",
    "    if i % 1000 == 0:\n",
    "        clear_output()\n",
    "        print('Rows processed: ' + str(i) + '/' + str(imax))\n",
    "        \n",
    "    i+= 1"
   ]
  },
  {
   "cell_type": "code",
   "execution_count": 27,
   "metadata": {},
   "outputs": [],
   "source": [
    "df_westcoast = pd.DataFrame(columns = df5.columns)\n",
    "df_westcoast = df5[df5['Closest_State'].isin(West_Coast)]\n",
    "\n",
    "df_southwest = pd.DataFrame(columns = df5.columns)\n",
    "df_southwest = df5[df5['Closest_State'].isin(Southwest)]\n",
    "\n",
    "df_rockies = pd.DataFrame(columns = df5.columns)\n",
    "df_rockies = df5[df5['Closest_State'].isin(Rockies)]\n",
    "\n",
    "df_midwest = pd.DataFrame(columns = df5.columns)\n",
    "df_midwest = df5[df5['Closest_State'].isin(Midwest)]\n",
    "\n",
    "df_south = pd.DataFrame(columns = df5.columns)\n",
    "df_south = df5[df5['Closest_State'].isin(South)]\n",
    "\n",
    "df_northeast = pd.DataFrame(columns = df5.columns)\n",
    "df_northeast = df5[df5['Closest_State'].isin(Northeast)]\n",
    "\n",
    "df_noncont = pd.DataFrame(columns = df5.columns)\n",
    "df_noncont =df5[df5['Closest_State'].isin(NonCont)]"
   ]
  },
  {
   "cell_type": "code",
   "execution_count": 29,
   "metadata": {},
   "outputs": [],
   "source": [
    "df_westcoast.to_csv('west_coast_tweets.csv', index = False)\n",
    "df_southwest.to_csv('southwest_tweets.csv', index = False)\n",
    "df_rockies.to_csv('rockies_tweets.csv', index = False)\n",
    "df_midwest.to_csv('midwest_tweets.csv', index = False)\n",
    "df_south.to_csv('south_tweets.csv', index = False)\n",
    "df_northeast.to_csv('northeast_tweets.csv', index = False)\n",
    "df_noncont.to_csv('noncont_tweets.csv', index = False)"
   ]
  },
  {
   "cell_type": "code",
   "execution_count": 30,
   "metadata": {},
   "outputs": [],
   "source": [
    "df5.to_csv('All_US_tweets.csv', index = False)"
   ]
  },
  {
   "cell_type": "code",
   "execution_count": null,
   "metadata": {},
   "outputs": [],
   "source": []
  }
 ],
 "metadata": {
  "kernelspec": {
   "display_name": "Python 3",
   "language": "python",
   "name": "python3"
  },
  "language_info": {
   "codemirror_mode": {
    "name": "ipython",
    "version": 3
   },
   "file_extension": ".py",
   "mimetype": "text/x-python",
   "name": "python",
   "nbconvert_exporter": "python",
   "pygments_lexer": "ipython3",
   "version": "3.8.5"
  }
 },
 "nbformat": 4,
 "nbformat_minor": 4
}
