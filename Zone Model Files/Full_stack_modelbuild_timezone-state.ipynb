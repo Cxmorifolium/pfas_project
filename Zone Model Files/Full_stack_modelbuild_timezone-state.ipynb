{
 "cells": [
  {
   "cell_type": "code",
   "execution_count": 1,
   "id": "e6ecfb1a",
   "metadata": {},
   "outputs": [],
   "source": [
    "import numpy as np\n",
    "import pandas as pd\n",
    "import random\n",
    "import matplotlib.pyplot as plt\n",
    "from IPython.display import clear_output\n",
    "import time\n",
    "\n",
    "import tensorflow as tf\n",
    "from tensorflow.keras.layers import Conv1D, Conv2D, GlobalMaxPooling1D, MaxPooling2D, Flatten, Dense, Input, Concatenate, Embedding, GlobalAveragePooling1D\n",
    "from tensorflow.keras.preprocessing.text import Tokenizer\n",
    "from keras.preprocessing.sequence import pad_sequences\n",
    "from tensorflow.keras.models import Model, Sequential\n",
    "from sklearn.model_selection import train_test_split\n",
    "from tensorflow.keras.optimizers import Adam\n",
    "\n",
    "import warnings\n",
    "warnings.filterwarnings('ignore')"
   ]
  },
  {
   "cell_type": "markdown",
   "id": "9ebd8c58",
   "metadata": {},
   "source": [
    "## Purpose:\n",
    "\n",
    "Takes a timezones tweets\n",
    "\n",
    "Model Predicts state in either subregion or overall region"
   ]
  },
  {
   "cell_type": "code",
   "execution_count": 2,
   "id": "0bd8d1fd",
   "metadata": {},
   "outputs": [],
   "source": [
    "dfa = pd.read_csv('All_US_Time_tweets.csv')"
   ]
  },
  {
   "cell_type": "code",
   "execution_count": 3,
   "id": "674a5bdd",
   "metadata": {},
   "outputs": [
    {
     "data": {
      "text/html": [
       "<div>\n",
       "<style scoped>\n",
       "    .dataframe tbody tr th:only-of-type {\n",
       "        vertical-align: middle;\n",
       "    }\n",
       "\n",
       "    .dataframe tbody tr th {\n",
       "        vertical-align: top;\n",
       "    }\n",
       "\n",
       "    .dataframe thead th {\n",
       "        text-align: right;\n",
       "    }\n",
       "</style>\n",
       "<table border=\"1\" class=\"dataframe\">\n",
       "  <thead>\n",
       "    <tr style=\"text-align: right;\">\n",
       "      <th></th>\n",
       "      <th>Timestamp</th>\n",
       "      <th>TweetText</th>\n",
       "      <th>Closest_State</th>\n",
       "      <th>Closest_City</th>\n",
       "      <th>Region</th>\n",
       "      <th>Timezone</th>\n",
       "      <th>Subtime</th>\n",
       "    </tr>\n",
       "  </thead>\n",
       "  <tbody>\n",
       "    <tr>\n",
       "      <th>0</th>\n",
       "      <td>18385</td>\n",
       "      <td>should i be scared that  just removed his belt</td>\n",
       "      <td>Arizona</td>\n",
       "      <td>Avenue B &amp; C</td>\n",
       "      <td>Southwest</td>\n",
       "      <td>Mountain</td>\n",
       "      <td>South Mountain</td>\n",
       "    </tr>\n",
       "    <tr>\n",
       "      <th>1</th>\n",
       "      <td>28869</td>\n",
       "      <td>im craving a churro loco so bad right now</td>\n",
       "      <td>Arizona</td>\n",
       "      <td>Avenue B &amp; C</td>\n",
       "      <td>Southwest</td>\n",
       "      <td>Mountain</td>\n",
       "      <td>South Mountain</td>\n",
       "    </tr>\n",
       "    <tr>\n",
       "      <th>2</th>\n",
       "      <td>66101</td>\n",
       "      <td>time to pretend  mgmt</td>\n",
       "      <td>Arizona</td>\n",
       "      <td>Avenue B &amp; C</td>\n",
       "      <td>Southwest</td>\n",
       "      <td>Mountain</td>\n",
       "      <td>South Mountain</td>\n",
       "    </tr>\n",
       "    <tr>\n",
       "      <th>3</th>\n",
       "      <td>74135</td>\n",
       "      <td>i hope i become a ghost  the deadly syndrome</td>\n",
       "      <td>Arizona</td>\n",
       "      <td>Avenue B &amp; C</td>\n",
       "      <td>Southwest</td>\n",
       "      <td>Mountain</td>\n",
       "      <td>South Mountain</td>\n",
       "    </tr>\n",
       "    <tr>\n",
       "      <th>4</th>\n",
       "      <td>61538</td>\n",
       "      <td>conan is going to have a live show on april 30...</td>\n",
       "      <td>Arizona</td>\n",
       "      <td>Avenue B &amp; C</td>\n",
       "      <td>Southwest</td>\n",
       "      <td>Mountain</td>\n",
       "      <td>South Mountain</td>\n",
       "    </tr>\n",
       "  </tbody>\n",
       "</table>\n",
       "</div>"
      ],
      "text/plain": [
       "   Timestamp                                          TweetText Closest_State  \\\n",
       "0      18385     should i be scared that  just removed his belt       Arizona   \n",
       "1      28869          im craving a churro loco so bad right now       Arizona   \n",
       "2      66101                              time to pretend  mgmt       Arizona   \n",
       "3      74135       i hope i become a ghost  the deadly syndrome       Arizona   \n",
       "4      61538  conan is going to have a live show on april 30...       Arizona   \n",
       "\n",
       "   Closest_City     Region  Timezone         Subtime  \n",
       "0  Avenue B & C  Southwest  Mountain  South Mountain  \n",
       "1  Avenue B & C  Southwest  Mountain  South Mountain  \n",
       "2  Avenue B & C  Southwest  Mountain  South Mountain  \n",
       "3  Avenue B & C  Southwest  Mountain  South Mountain  \n",
       "4  Avenue B & C  Southwest  Mountain  South Mountain  "
      ]
     },
     "execution_count": 3,
     "metadata": {},
     "output_type": "execute_result"
    }
   ],
   "source": [
    "#df = pd.read_csv('west_time_tweets.csv')\n",
    "#df = pd.read_csv('central_time_tweets.csv')\n",
    "#df = pd.read_csv('east_time_tweets.csv')\n",
    "df = pd.read_csv('mountain_time_tweets.csv')\n",
    "\n",
    "df.head()"
   ]
  },
  {
   "cell_type": "code",
   "execution_count": 4,
   "id": "48030a0d",
   "metadata": {},
   "outputs": [
    {
     "data": {
      "text/plain": [
       "(5966, 7)"
      ]
     },
     "execution_count": 4,
     "metadata": {},
     "output_type": "execute_result"
    }
   ],
   "source": [
    "df.shape"
   ]
  },
  {
   "cell_type": "code",
   "execution_count": 5,
   "id": "73863f91",
   "metadata": {},
   "outputs": [
    {
     "name": "stdout",
     "output_type": "stream",
     "text": [
      "['Arizona' 'Colorado' 'Idaho' 'Montana' 'New Mexico' 'Utah' 'Wyoming']\n"
     ]
    }
   ],
   "source": [
    "print(df['Closest_State'].unique())\n",
    "#print(df['Subtime'].unique())"
   ]
  },
  {
   "cell_type": "code",
   "execution_count": 6,
   "id": "27d0a189",
   "metadata": {},
   "outputs": [],
   "source": [
    "df['TweetText'] = df['TweetText'].astype(str)\n",
    "dfa['TweetText'] = dfa['TweetText'].astype(str)"
   ]
  },
  {
   "cell_type": "code",
   "execution_count": 7,
   "id": "0a4c620f",
   "metadata": {},
   "outputs": [],
   "source": [
    "tokenizer = Tokenizer()\n",
    "tokenizer.fit_on_texts(dfa['TweetText'].tolist())"
   ]
  },
  {
   "cell_type": "code",
   "execution_count": 8,
   "id": "991f8ac5",
   "metadata": {},
   "outputs": [],
   "source": [
    "df2 = df.copy()"
   ]
  },
  {
   "cell_type": "code",
   "execution_count": 9,
   "id": "b3d7c967",
   "metadata": {},
   "outputs": [],
   "source": [
    "cols = ['Closest_City','Region']\n",
    "df2 = df2.drop(cols, axis = 1)"
   ]
  },
  {
   "cell_type": "code",
   "execution_count": 10,
   "id": "42290811",
   "metadata": {},
   "outputs": [],
   "source": [
    "one_hot = pd.get_dummies(df2['Closest_State'])\n",
    "df2 = df2.join(one_hot)\n",
    "df2 = df2.drop('Closest_State', axis = 1)"
   ]
  },
  {
   "cell_type": "code",
   "execution_count": 11,
   "id": "fc5db970",
   "metadata": {},
   "outputs": [
    {
     "data": {
      "text/html": [
       "<div>\n",
       "<style scoped>\n",
       "    .dataframe tbody tr th:only-of-type {\n",
       "        vertical-align: middle;\n",
       "    }\n",
       "\n",
       "    .dataframe tbody tr th {\n",
       "        vertical-align: top;\n",
       "    }\n",
       "\n",
       "    .dataframe thead th {\n",
       "        text-align: right;\n",
       "    }\n",
       "</style>\n",
       "<table border=\"1\" class=\"dataframe\">\n",
       "  <thead>\n",
       "    <tr style=\"text-align: right;\">\n",
       "      <th></th>\n",
       "      <th>Timestamp</th>\n",
       "      <th>TweetText</th>\n",
       "      <th>Timezone</th>\n",
       "      <th>Subtime</th>\n",
       "      <th>Arizona</th>\n",
       "      <th>Colorado</th>\n",
       "      <th>Idaho</th>\n",
       "      <th>Montana</th>\n",
       "      <th>New Mexico</th>\n",
       "      <th>Utah</th>\n",
       "      <th>Wyoming</th>\n",
       "    </tr>\n",
       "  </thead>\n",
       "  <tbody>\n",
       "    <tr>\n",
       "      <th>0</th>\n",
       "      <td>18385</td>\n",
       "      <td>should i be scared that  just removed his belt</td>\n",
       "      <td>Mountain</td>\n",
       "      <td>South Mountain</td>\n",
       "      <td>1</td>\n",
       "      <td>0</td>\n",
       "      <td>0</td>\n",
       "      <td>0</td>\n",
       "      <td>0</td>\n",
       "      <td>0</td>\n",
       "      <td>0</td>\n",
       "    </tr>\n",
       "    <tr>\n",
       "      <th>1</th>\n",
       "      <td>28869</td>\n",
       "      <td>im craving a churro loco so bad right now</td>\n",
       "      <td>Mountain</td>\n",
       "      <td>South Mountain</td>\n",
       "      <td>1</td>\n",
       "      <td>0</td>\n",
       "      <td>0</td>\n",
       "      <td>0</td>\n",
       "      <td>0</td>\n",
       "      <td>0</td>\n",
       "      <td>0</td>\n",
       "    </tr>\n",
       "    <tr>\n",
       "      <th>2</th>\n",
       "      <td>66101</td>\n",
       "      <td>time to pretend  mgmt</td>\n",
       "      <td>Mountain</td>\n",
       "      <td>South Mountain</td>\n",
       "      <td>1</td>\n",
       "      <td>0</td>\n",
       "      <td>0</td>\n",
       "      <td>0</td>\n",
       "      <td>0</td>\n",
       "      <td>0</td>\n",
       "      <td>0</td>\n",
       "    </tr>\n",
       "    <tr>\n",
       "      <th>3</th>\n",
       "      <td>74135</td>\n",
       "      <td>i hope i become a ghost  the deadly syndrome</td>\n",
       "      <td>Mountain</td>\n",
       "      <td>South Mountain</td>\n",
       "      <td>1</td>\n",
       "      <td>0</td>\n",
       "      <td>0</td>\n",
       "      <td>0</td>\n",
       "      <td>0</td>\n",
       "      <td>0</td>\n",
       "      <td>0</td>\n",
       "    </tr>\n",
       "    <tr>\n",
       "      <th>4</th>\n",
       "      <td>61538</td>\n",
       "      <td>conan is going to have a live show on april 30...</td>\n",
       "      <td>Mountain</td>\n",
       "      <td>South Mountain</td>\n",
       "      <td>1</td>\n",
       "      <td>0</td>\n",
       "      <td>0</td>\n",
       "      <td>0</td>\n",
       "      <td>0</td>\n",
       "      <td>0</td>\n",
       "      <td>0</td>\n",
       "    </tr>\n",
       "    <tr>\n",
       "      <th>...</th>\n",
       "      <td>...</td>\n",
       "      <td>...</td>\n",
       "      <td>...</td>\n",
       "      <td>...</td>\n",
       "      <td>...</td>\n",
       "      <td>...</td>\n",
       "      <td>...</td>\n",
       "      <td>...</td>\n",
       "      <td>...</td>\n",
       "      <td>...</td>\n",
       "      <td>...</td>\n",
       "    </tr>\n",
       "    <tr>\n",
       "      <th>5961</th>\n",
       "      <td>13789</td>\n",
       "      <td>lmao i can dig that fam imma def cop 09 tho lol</td>\n",
       "      <td>Mountain</td>\n",
       "      <td>North Mountain</td>\n",
       "      <td>0</td>\n",
       "      <td>0</td>\n",
       "      <td>0</td>\n",
       "      <td>0</td>\n",
       "      <td>0</td>\n",
       "      <td>0</td>\n",
       "      <td>1</td>\n",
       "    </tr>\n",
       "    <tr>\n",
       "      <th>5962</th>\n",
       "      <td>69985</td>\n",
       "      <td>ummmm ron artest wtfuck</td>\n",
       "      <td>Mountain</td>\n",
       "      <td>North Mountain</td>\n",
       "      <td>0</td>\n",
       "      <td>0</td>\n",
       "      <td>0</td>\n",
       "      <td>0</td>\n",
       "      <td>0</td>\n",
       "      <td>0</td>\n",
       "      <td>1</td>\n",
       "    </tr>\n",
       "    <tr>\n",
       "      <th>5963</th>\n",
       "      <td>79578</td>\n",
       "      <td>lol indeed gotta know how to play the game li...</td>\n",
       "      <td>Mountain</td>\n",
       "      <td>North Mountain</td>\n",
       "      <td>0</td>\n",
       "      <td>0</td>\n",
       "      <td>0</td>\n",
       "      <td>0</td>\n",
       "      <td>0</td>\n",
       "      <td>0</td>\n",
       "      <td>1</td>\n",
       "    </tr>\n",
       "    <tr>\n",
       "      <th>5964</th>\n",
       "      <td>79690</td>\n",
       "      <td>lmao my nerfherder u absolutely correct</td>\n",
       "      <td>Mountain</td>\n",
       "      <td>North Mountain</td>\n",
       "      <td>0</td>\n",
       "      <td>0</td>\n",
       "      <td>0</td>\n",
       "      <td>0</td>\n",
       "      <td>0</td>\n",
       "      <td>0</td>\n",
       "      <td>1</td>\n",
       "    </tr>\n",
       "    <tr>\n",
       "      <th>5965</th>\n",
       "      <td>79854</td>\n",
       "      <td>matt barnes on his eff kobe game right playing...</td>\n",
       "      <td>Mountain</td>\n",
       "      <td>North Mountain</td>\n",
       "      <td>0</td>\n",
       "      <td>0</td>\n",
       "      <td>0</td>\n",
       "      <td>0</td>\n",
       "      <td>0</td>\n",
       "      <td>0</td>\n",
       "      <td>1</td>\n",
       "    </tr>\n",
       "  </tbody>\n",
       "</table>\n",
       "<p>5966 rows × 11 columns</p>\n",
       "</div>"
      ],
      "text/plain": [
       "      Timestamp                                          TweetText  Timezone  \\\n",
       "0         18385     should i be scared that  just removed his belt  Mountain   \n",
       "1         28869          im craving a churro loco so bad right now  Mountain   \n",
       "2         66101                              time to pretend  mgmt  Mountain   \n",
       "3         74135       i hope i become a ghost  the deadly syndrome  Mountain   \n",
       "4         61538  conan is going to have a live show on april 30...  Mountain   \n",
       "...         ...                                                ...       ...   \n",
       "5961      13789    lmao i can dig that fam imma def cop 09 tho lol  Mountain   \n",
       "5962      69985                            ummmm ron artest wtfuck  Mountain   \n",
       "5963      79578   lol indeed gotta know how to play the game li...  Mountain   \n",
       "5964      79690            lmao my nerfherder u absolutely correct  Mountain   \n",
       "5965      79854  matt barnes on his eff kobe game right playing...  Mountain   \n",
       "\n",
       "             Subtime  Arizona  Colorado  Idaho  Montana  New Mexico  Utah  \\\n",
       "0     South Mountain        1         0      0        0           0     0   \n",
       "1     South Mountain        1         0      0        0           0     0   \n",
       "2     South Mountain        1         0      0        0           0     0   \n",
       "3     South Mountain        1         0      0        0           0     0   \n",
       "4     South Mountain        1         0      0        0           0     0   \n",
       "...              ...      ...       ...    ...      ...         ...   ...   \n",
       "5961  North Mountain        0         0      0        0           0     0   \n",
       "5962  North Mountain        0         0      0        0           0     0   \n",
       "5963  North Mountain        0         0      0        0           0     0   \n",
       "5964  North Mountain        0         0      0        0           0     0   \n",
       "5965  North Mountain        0         0      0        0           0     0   \n",
       "\n",
       "      Wyoming  \n",
       "0           0  \n",
       "1           0  \n",
       "2           0  \n",
       "3           0  \n",
       "4           0  \n",
       "...       ...  \n",
       "5961        1  \n",
       "5962        1  \n",
       "5963        1  \n",
       "5964        1  \n",
       "5965        1  \n",
       "\n",
       "[5966 rows x 11 columns]"
      ]
     },
     "execution_count": 11,
     "metadata": {},
     "output_type": "execute_result"
    }
   ],
   "source": [
    "df2"
   ]
  },
  {
   "cell_type": "code",
   "execution_count": 12,
   "id": "410d2e52",
   "metadata": {},
   "outputs": [],
   "source": [
    "x_dat = df2[['TweetText','Timestamp']]\n",
    "y_dat = df2[df['Closest_State'].unique()]"
   ]
  },
  {
   "cell_type": "code",
   "execution_count": 13,
   "id": "c68310a1",
   "metadata": {},
   "outputs": [],
   "source": [
    "x_train, x_test, y_train, y_test = train_test_split(x_dat, y_dat, test_size = 0.25, random_state = 40)"
   ]
  },
  {
   "cell_type": "code",
   "execution_count": 14,
   "id": "39d87a92",
   "metadata": {},
   "outputs": [
    {
     "data": {
      "text/plain": [
       "count    5966.000000\n",
       "mean       12.179350\n",
       "std         7.086652\n",
       "min         1.000000\n",
       "1%          2.000000\n",
       "50%        11.000000\n",
       "99%        29.000000\n",
       "max        36.000000\n",
       "Name: TweetText, dtype: float64"
      ]
     },
     "execution_count": 14,
     "metadata": {},
     "output_type": "execute_result"
    }
   ],
   "source": [
    "x_dat[\"TweetText\"].str.split(\" \").str.len().describe(percentiles=[0.01, 0.5, 0.99])"
   ]
  },
  {
   "cell_type": "code",
   "execution_count": 15,
   "id": "cb7071a2",
   "metadata": {},
   "outputs": [],
   "source": [
    "tmax_length = 29"
   ]
  },
  {
   "cell_type": "code",
   "execution_count": 16,
   "id": "f295881e",
   "metadata": {},
   "outputs": [],
   "source": [
    "train_sequences = tokenizer.texts_to_sequences(x_train['TweetText'].tolist())\n",
    "test_sequences = tokenizer.texts_to_sequences(x_test['TweetText'].tolist())\n",
    "\n",
    "train_seq = pad_sequences(train_sequences, maxlen = tmax_length, padding = 'post', truncating = 'post')\n",
    "test_seq = pad_sequences(test_sequences, maxlen = tmax_length, padding = 'post', truncating = 'post')"
   ]
  },
  {
   "cell_type": "code",
   "execution_count": 17,
   "id": "5cc5c215",
   "metadata": {},
   "outputs": [],
   "source": [
    "vocab_size = len(tokenizer.index_word) + 1\n",
    "embedding_dim = 150"
   ]
  },
  {
   "cell_type": "code",
   "execution_count": 18,
   "id": "bb334c17",
   "metadata": {},
   "outputs": [],
   "source": [
    "timestamps_train = x_train['Timestamp']\n",
    "timestamps_test = x_test['Timestamp']"
   ]
  },
  {
   "cell_type": "code",
   "execution_count": 19,
   "id": "406d47b0",
   "metadata": {},
   "outputs": [
    {
     "name": "stdout",
     "output_type": "stream",
     "text": [
      "Model: \"model\"\n",
      "__________________________________________________________________________________________________\n",
      "Layer (type)                    Output Shape         Param #     Connected to                     \n",
      "==================================================================================================\n",
      "Input Sequence (InputLayer)     [(None, 29)]         0                                            \n",
      "__________________________________________________________________________________________________\n",
      "embedding (Embedding)           (None, 29, 150)      27806850    Input Sequence[0][0]             \n",
      "__________________________________________________________________________________________________\n",
      "conv1d (Conv1D)                 (None, 27, 128)      57728       embedding[0][0]                  \n",
      "__________________________________________________________________________________________________\n",
      "global_average_pooling1d (Globa (None, 128)          0           conv1d[0][0]                     \n",
      "__________________________________________________________________________________________________\n",
      "Input Timestamp (InputLayer)    [(None, 1)]          0                                            \n",
      "__________________________________________________________________________________________________\n",
      "concatenate (Concatenate)       (None, 129)          0           global_average_pooling1d[0][0]   \n",
      "                                                                 Input Timestamp[0][0]            \n",
      "__________________________________________________________________________________________________\n",
      "dense (Dense)                   (None, 50)           6500        concatenate[0][0]                \n",
      "__________________________________________________________________________________________________\n",
      "dense_1 (Dense)                 (None, 25)           1275        dense[0][0]                      \n",
      "__________________________________________________________________________________________________\n",
      "dense_2 (Dense)                 (None, 15)           390         dense_1[0][0]                    \n",
      "__________________________________________________________________________________________________\n",
      "dense_3 (Dense)                 (None, 7)            112         dense_2[0][0]                    \n",
      "==================================================================================================\n",
      "Total params: 27,872,855\n",
      "Trainable params: 27,872,855\n",
      "Non-trainable params: 0\n",
      "__________________________________________________________________________________________________\n"
     ]
    }
   ],
   "source": [
    "input_seq = Input(shape = (tmax_length,), name = 'Input Sequence')\n",
    "input_time = Input(shape = (1,), name = \"Input Timestamp\")\n",
    "\n",
    "embed = Embedding(input_dim = vocab_size, output_dim = embedding_dim, input_length = tmax_length)(input_seq)\n",
    "convol = Conv1D(filters = 128, kernel_size = 3, activation = 'relu')(embed)\n",
    "maxpool = GlobalAveragePooling1D()(convol)\n",
    "\n",
    "concat = Concatenate()([maxpool, input_time])\n",
    "dense1 = Dense(50, activation = 'relu')(concat)\n",
    "dense2 = Dense(25, activation = 'relu')(dense1)\n",
    "dense3 = Dense(15, activation = 'relu')(dense2)\n",
    "output = Dense(len(df['Closest_State'].unique()), activation = 'sigmoid')(dense3)\n",
    "\n",
    "model = Model(inputs = [input_seq, input_time], outputs = output)\n",
    "\n",
    "model.compile(optimizer = 'adam', loss = 'categorical_crossentropy', metrics = ['accuracy'])\n",
    "#model.compile(optimizer = 'adam', loss = 'sparse_categorical_crossentropy', metrics = ['f1_score'])\n",
    "\n",
    "model.summary()"
   ]
  },
  {
   "cell_type": "code",
   "execution_count": 21,
   "id": "83fa183e",
   "metadata": {},
   "outputs": [
    {
     "name": "stdout",
     "output_type": "stream",
     "text": [
      "Epoch 1/6\n",
      "90/90 [==============================] - 23s 252ms/step - loss: 4.8456 - accuracy: 0.6086 - val_loss: 1.8659 - val_accuracy: 0.6836\n",
      "Epoch 2/6\n",
      "90/90 [==============================] - 22s 241ms/step - loss: 1.8261 - accuracy: 0.6965 - val_loss: 1.7899 - val_accuracy: 0.6836\n",
      "Epoch 3/6\n",
      "90/90 [==============================] - 22s 240ms/step - loss: 1.7494 - accuracy: 0.6965 - val_loss: 1.7156 - val_accuracy: 0.6836\n",
      "Epoch 4/6\n",
      "90/90 [==============================] - 22s 239ms/step - loss: 1.6761 - accuracy: 0.6965 - val_loss: 1.6457 - val_accuracy: 0.6836\n",
      "Epoch 5/6\n",
      "90/90 [==============================] - 22s 245ms/step - loss: 1.6070 - accuracy: 0.6965 - val_loss: 1.5806 - val_accuracy: 0.6836\n",
      "Epoch 6/6\n",
      "90/90 [==============================] - 22s 242ms/step - loss: 1.5426 - accuracy: 0.6965 - val_loss: 1.5201 - val_accuracy: 0.6836\n"
     ]
    }
   ],
   "source": [
    "history = model.fit([train_seq, timestamps_train], y_train, epochs = 6, batch_size = 50, validation_data = ([test_seq, timestamps_test], y_test))"
   ]
  },
  {
   "cell_type": "code",
   "execution_count": 22,
   "id": "318e1e5f",
   "metadata": {},
   "outputs": [
    {
     "data": {
      "image/png": "[encoded data removed]",
      "text/plain": [
       "<Figure size 432x288 with 1 Axes>"
      ]
     },
     "metadata": {
      "needs_background": "light"
     },
     "output_type": "display_data"
    },
    {
     "data": {
      "image/png": "[encoded data removed]",
      "text/plain": [
       "<Figure size 432x288 with 1 Axes>"
      ]
     },
     "metadata": {
      "needs_background": "light"
     },
     "output_type": "display_data"
    }
   ],
   "source": [
    "plt.plot(history.history['accuracy'])\n",
    "plt.plot(history.history['val_accuracy'])\n",
    "plt.title('Model Accuracy')\n",
    "plt.ylabel('Accuracy')\n",
    "plt.xlabel('Epoch')\n",
    "plt.legend(['train', 'test'], loc='upper left')\n",
    "plt.show()\n",
    "plt.plot(history.history['loss'])\n",
    "plt.plot(history.history['val_loss'])\n",
    "plt.title('Model Loss')\n",
    "plt.ylabel('Loss')\n",
    "plt.xlabel('Epoch')\n",
    "plt.legend(['train', 'test'], loc='upper left')\n",
    "plt.show()"
   ]
  },
  {
   "cell_type": "code",
   "execution_count": null,
   "id": "9f4139fe",
   "metadata": {},
   "outputs": [],
   "source": []
  }
 ],
 "metadata": {
  "kernelspec": {
   "display_name": "Python 3 (ipykernel)",
   "language": "python",
   "name": "python3"
  },
  "language_info": {
   "codemirror_mode": {
    "name": "ipython",
    "version": 3
   },
   "file_extension": ".py",
   "mimetype": "text/x-python",
   "name": "python",
   "nbconvert_exporter": "python",
   "pygments_lexer": "ipython3",
   "version": "3.12.7"
  }
 },
 "nbformat": 4,
 "nbformat_minor": 5
}
