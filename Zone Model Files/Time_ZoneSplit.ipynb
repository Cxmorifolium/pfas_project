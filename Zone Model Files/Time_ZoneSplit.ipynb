{
 "cells": [
  {
   "cell_type": "code",
   "execution_count": 12,
   "metadata": {},
   "outputs": [],
   "source": [
    "import pandas as pd\n",
    "from IPython.display import clear_output\n",
    "\n",
    "import warnings\n",
    "\n",
    "# Suppress all warnings\n",
    "warnings.filterwarnings('ignore')"
   ]
  },
  {
   "cell_type": "code",
   "execution_count": 3,
   "metadata": {},
   "outputs": [],
   "source": [
    "# Original Regions\n",
    "West_Coast = ('California','Oregon', 'Washington')\n",
    "Southwest = ('Arizona','New Mexico','Oklahoma','Texas')\n",
    "Rockies = ('Nevada','Utah','Colorado','Wyoming','Idaho','Montana')\n",
    "Midwest = ('North Dakota','South Dakota','Nebraska','Kansas','Missouri','Iowa','Minnesota')\n",
    "East_Midwest = ('Wisconsin','Illinois','Indiana','Michigan','Ohio')\n",
    "South = ('Tennessee','Kentucky','North Carolina', 'Virginia','West Virginia','Maryland','Delaware', 'District of Columbia')\n",
    "Deep_South = ('Arkansas','Louisiana','Mississippi','Alabama','Georgia','Florida','South Carolina',)\n",
    "Northeast = ('Pennsylvania','New Jersey','New York','Massachusetts', 'Rhode Island','Conneticut','Vermont','New Hampshire','Maine')\n",
    "NonCont = ('Hawaii','Alaska', 'Puerto Rico')"
   ]
  },
  {
   "cell_type": "code",
   "execution_count": 4,
   "metadata": {},
   "outputs": [],
   "source": [
    "# pool\n"
   ]
  },
  {
   "cell_type": "code",
   "execution_count": 5,
   "metadata": {},
   "outputs": [],
   "source": [
    "# Timezones\n",
    "East = ('Pennsylvania','New Jersey','New York','Massachusetts', 'Rhode Island','Conneticut','Vermont','New Hampshire','Maine',\n",
    "       'Puerto Rico', 'Michigan','Ohio','North Carolina', 'Virginia','West Virginia','Maryland','Delaware', 'District of Columbia',\n",
    "        'Indiana','Kentucky','Georgia','Florida','South Carolina')\n",
    "\n",
    "Central = ('Oklahoma','Texas','North Dakota','South Dakota','Nebraska','Kansas','Missouri','Iowa','Minnesota','Arkansas','Louisiana',\n",
    "           'Mississippi','Alabama','Tennessee','Wisconsin','Illinois')\n",
    "\n",
    "Mountain = ('Arizona','New Mexico','Utah','Colorado','Wyoming','Idaho','Montana')\n",
    "\n",
    "West = ('California','Oregon', 'Washington','Nevada')\n",
    "\n",
    "\n",
    "Pacific = ('Hawaii','Alaska')"
   ]
  },
  {
   "cell_type": "code",
   "execution_count": 13,
   "metadata": {},
   "outputs": [],
   "source": [
    "# Split timezones\n",
    "N_East = ('Pennsylvania','New Jersey','New York','Massachusetts', 'Rhode Island','Conneticut','Vermont','New Hampshire','Maine',\n",
    "         'Michigan','Ohio','West Virginia','Maryland','Delaware', 'District of Columbia','Indiana')\n",
    "S_East = ('Puerto Rico','North Carolina', 'Virginia','Kentucky','Georgia','Florida','South Carolina')\n",
    "\n",
    "N_Central = ('North Dakota','South Dakota','Nebraska','Missouri','Iowa','Minnesota','Wisconsin','Illinois')\n",
    "S_Central = ('Oklahoma','Texas','Kansas','Arkansas','Louisiana','Mississippi','Alabama','Tennessee')\n",
    "\n",
    "N_Mountain = ('Wyoming','Idaho','Montana')\n",
    "S_Mountain = ('Arizona','New Mexico','Utah','Colorado')\n",
    "\n",
    "N_West = ('Oregon','Washington')\n",
    "S_West = ('California','Nevada')\n",
    "\n"
   ]
  },
  {
   "cell_type": "code",
   "execution_count": 18,
   "metadata": {},
   "outputs": [],
   "source": [
    "df = pd.read_csv('All_US_tweets.csv')"
   ]
  },
  {
   "cell_type": "code",
   "execution_count": 29,
   "metadata": {},
   "outputs": [
    {
     "data": {
      "text/plain": [
       "array(['Alabama', 'Arizona', 'Arkansas', 'California', 'Colorado',\n",
       "       'Conneticut', 'Delaware', 'District of Columbia', 'Florida',\n",
       "       'Georgia', 'Idaho', 'Illinois', 'Indiana', 'Iowa', 'Kansas',\n",
       "       'Kentucky', 'Louisiana', 'Maine', 'Maryland', 'Massachusetts',\n",
       "       'Michigan', 'Minnesota', 'Mississippi', 'Missouri', 'Montana',\n",
       "       'Nebraska', 'Nevada', 'New Hampshire', 'New Jersey', 'New Mexico',\n",
       "       'New York', 'North Carolina', 'North Dakota', 'Ohio', 'Oklahoma',\n",
       "       'Oregon', 'Pennsylvania', 'Puerto Rico', 'Rhode Island',\n",
       "       'South Carolina', 'South Dakota', 'Tennessee', 'Texas', 'Utah',\n",
       "       'Vermont', 'Virginia', 'Washington', 'West Virginia', 'Wisconsin',\n",
       "       'Wyoming'], dtype=object)"
      ]
     },
     "execution_count": 29,
     "metadata": {},
     "output_type": "execute_result"
    }
   ],
   "source": [
    "df['Closest_State'].unique()"
   ]
  },
  {
   "cell_type": "code",
   "execution_count": 24,
   "metadata": {},
   "outputs": [],
   "source": [
    "df2 = df.copy()"
   ]
  },
  {
   "cell_type": "code",
   "execution_count": 25,
   "metadata": {},
   "outputs": [],
   "source": [
    "df2['Timezone'] = 'a'\n",
    "df2['Subtime'] = 'b'"
   ]
  },
  {
   "cell_type": "code",
   "execution_count": 26,
   "metadata": {},
   "outputs": [
    {
     "name": "stdout",
     "output_type": "stream",
     "text": [
      "Rows processed: 374000/374519\n"
     ]
    }
   ],
   "source": [
    "i = 0\n",
    "imax = df2.shape[0]\n",
    "#imax = 100\n",
    "\n",
    "while i < imax:\n",
    "    st = df2['Closest_State'][i]\n",
    "    \n",
    "    if st in East:\n",
    "        df2['Timezone'][i] = 'East'\n",
    "\n",
    "    elif st in Central:\n",
    "        df2['Timezone'][i] = 'Central'\n",
    "\n",
    "    elif st in Mountain:\n",
    "        df2['Timezone'][i] = 'Mountain'\n",
    "\n",
    "    elif st in West:\n",
    "        df2['Timezone'][i] = 'West'\n",
    "\n",
    "    elif st in Pacific:\n",
    "        df2['Timezone'][i] = 'Pacific'\n",
    "\n",
    "    else:\n",
    "        print('Time')\n",
    "        print(i)\n",
    "        i = imax\n",
    "\n",
    "    if st in N_East:\n",
    "        df2['Subtime'][i] = 'North East'\n",
    "\n",
    "    elif st in S_East:\n",
    "        df2['Subtime'][i] = 'South East'\n",
    "\n",
    "    elif st in N_Central:\n",
    "        df2['Subtime'][i] = 'North Central'\n",
    "\n",
    "    elif st in S_Central:\n",
    "        df2['Subtime'][i] = 'South Central'\n",
    "\n",
    "    elif st in N_Mountain:\n",
    "        df2['Subtime'][i] = 'North Mountain'\n",
    "\n",
    "    elif st in S_Mountain:\n",
    "        df2['Subtime'][i] = 'South Mountain'\n",
    "\n",
    "    elif st in N_West:\n",
    "        df2['Subtime'][i] = 'North West'\n",
    "\n",
    "    elif st in S_West:\n",
    "        df2['Subtime'][i] = 'South West'\n",
    "\n",
    "    elif st in Pacific:\n",
    "        df2['Subtime'][i] = 'Pacific'\n",
    "\n",
    "    else:\n",
    "        print('Subtime')\n",
    "        print(i)\n",
    "        i = imax\n",
    "        \n",
    "    if i % 1000 == 0:\n",
    "        clear_output()\n",
    "        print('Rows processed: ' + str(i) + '/' + str(imax))\n",
    "        \n",
    "    i+= 1"
   ]
  },
  {
   "cell_type": "code",
   "execution_count": 27,
   "metadata": {},
   "outputs": [
    {
     "data": {
      "text/plain": [
       "array(['Central', 'Mountain', 'West', 'East'], dtype=object)"
      ]
     },
     "execution_count": 27,
     "metadata": {},
     "output_type": "execute_result"
    }
   ],
   "source": [
    "df2['Timezone'].unique()"
   ]
  },
  {
   "cell_type": "code",
   "execution_count": 28,
   "metadata": {},
   "outputs": [
    {
     "data": {
      "text/plain": [
       "array(['South Central', 'South Mountain', 'South West', 'North East',\n",
       "       'South East', 'North Mountain', 'North Central', 'North West'],\n",
       "      dtype=object)"
      ]
     },
     "execution_count": 28,
     "metadata": {},
     "output_type": "execute_result"
    }
   ],
   "source": [
    "df2['Subtime'].unique()"
   ]
  },
  {
   "cell_type": "code",
   "execution_count": 33,
   "metadata": {},
   "outputs": [],
   "source": [
    "df_west = pd.DataFrame(columns = df2.columns)\n",
    "df_west = df2[df2['Closest_State'].isin(West)]\n",
    "\n",
    "df_east = pd.DataFrame(columns = df2.columns)\n",
    "df_east = df2[df2['Closest_State'].isin(East)]\n",
    "\n",
    "df_mountain = pd.DataFrame(columns = df2.columns)\n",
    "df_mountain = df2[df2['Closest_State'].isin(Mountain)]\n",
    "\n",
    "df_pacific = pd.DataFrame(columns = df2.columns)\n",
    "df_pacific = df[df['Closest_State'].isin(Pacific)]\n",
    "\n",
    "df_central = pd.DataFrame(columns = df2.columns)\n",
    "df_central = df2[df2['Closest_State'].isin(Central)]"
   ]
  },
  {
   "cell_type": "code",
   "execution_count": 35,
   "metadata": {},
   "outputs": [],
   "source": [
    "df_west.to_csv('west_time_tweets.csv', index = False)\n",
    "df_east.to_csv('east_time_tweets.csv', index = False)\n",
    "df_mountain.to_csv('mountain_time_tweets.csv', index = False)\n",
    "#df_pacific.to_csv('pacific_time_tweets.csv', index = False)\n",
    "df_central.to_csv('central_time_tweets.csv', index = False)"
   ]
  },
  {
   "cell_type": "code",
   "execution_count": 36,
   "metadata": {},
   "outputs": [],
   "source": [
    "df2.to_csv('All_US_Time_Tweets.csv', index = False)"
   ]
  },
  {
   "cell_type": "code",
   "execution_count": 37,
   "metadata": {},
   "outputs": [
    {
     "data": {
      "text/html": [
       "<div>\n",
       "<style scoped>\n",
       "    .dataframe tbody tr th:only-of-type {\n",
       "        vertical-align: middle;\n",
       "    }\n",
       "\n",
       "    .dataframe tbody tr th {\n",
       "        vertical-align: top;\n",
       "    }\n",
       "\n",
       "    .dataframe thead th {\n",
       "        text-align: right;\n",
       "    }\n",
       "</style>\n",
       "<table border=\"1\" class=\"dataframe\">\n",
       "  <thead>\n",
       "    <tr style=\"text-align: right;\">\n",
       "      <th></th>\n",
       "      <th>Timestamp</th>\n",
       "      <th>TweetText</th>\n",
       "      <th>Closest_State</th>\n",
       "      <th>Closest_City</th>\n",
       "      <th>Region</th>\n",
       "      <th>Timezone</th>\n",
       "      <th>Subtime</th>\n",
       "    </tr>\n",
       "  </thead>\n",
       "  <tbody>\n",
       "    <tr>\n",
       "      <th>0</th>\n",
       "      <td>10229</td>\n",
       "      <td>i gotta get you readded to bbm</td>\n",
       "      <td>Alabama</td>\n",
       "      <td>Adamsville</td>\n",
       "      <td>Deep South</td>\n",
       "      <td>Central</td>\n",
       "      <td>South Central</td>\n",
       "    </tr>\n",
       "    <tr>\n",
       "      <th>1</th>\n",
       "      <td>16439</td>\n",
       "      <td>ahhh yes</td>\n",
       "      <td>Alabama</td>\n",
       "      <td>Adamsville</td>\n",
       "      <td>Deep South</td>\n",
       "      <td>Central</td>\n",
       "      <td>South Central</td>\n",
       "    </tr>\n",
       "    <tr>\n",
       "      <th>2</th>\n",
       "      <td>17131</td>\n",
       "      <td>an old locksmith</td>\n",
       "      <td>Alabama</td>\n",
       "      <td>Adamsville</td>\n",
       "      <td>Deep South</td>\n",
       "      <td>Central</td>\n",
       "      <td>South Central</td>\n",
       "    </tr>\n",
       "    <tr>\n",
       "      <th>3</th>\n",
       "      <td>2648</td>\n",
       "      <td>rt  they are shooting at pentagon metro please...</td>\n",
       "      <td>Alabama</td>\n",
       "      <td>Adamsville</td>\n",
       "      <td>Deep South</td>\n",
       "      <td>Central</td>\n",
       "      <td>South Central</td>\n",
       "    </tr>\n",
       "    <tr>\n",
       "      <th>4</th>\n",
       "      <td>2750</td>\n",
       "      <td>as a matter of fact i wanna ask about that</td>\n",
       "      <td>Alabama</td>\n",
       "      <td>Adamsville</td>\n",
       "      <td>Deep South</td>\n",
       "      <td>Central</td>\n",
       "      <td>South Central</td>\n",
       "    </tr>\n",
       "  </tbody>\n",
       "</table>\n",
       "</div>"
      ],
      "text/plain": [
       "   Timestamp                                          TweetText Closest_State  \\\n",
       "0      10229                     i gotta get you readded to bbm       Alabama   \n",
       "1      16439                                           ahhh yes       Alabama   \n",
       "2      17131                                   an old locksmith       Alabama   \n",
       "3       2648  rt  they are shooting at pentagon metro please...       Alabama   \n",
       "4       2750         as a matter of fact i wanna ask about that       Alabama   \n",
       "\n",
       "  Closest_City      Region Timezone        Subtime  \n",
       "0   Adamsville  Deep South  Central  South Central  \n",
       "1   Adamsville  Deep South  Central  South Central  \n",
       "2   Adamsville  Deep South  Central  South Central  \n",
       "3   Adamsville  Deep South  Central  South Central  \n",
       "4   Adamsville  Deep South  Central  South Central  "
      ]
     },
     "execution_count": 37,
     "metadata": {},
     "output_type": "execute_result"
    }
   ],
   "source": [
    "df2.head()"
   ]
  },
  {
   "cell_type": "code",
   "execution_count": null,
   "metadata": {},
   "outputs": [],
   "source": []
  }
 ],
 "metadata": {
  "kernelspec": {
   "display_name": "Python 3 (ipykernel)",
   "language": "python",
   "name": "python3"
  },
  "language_info": {
   "codemirror_mode": {
    "name": "ipython",
    "version": 3
   },
   "file_extension": ".py",
   "mimetype": "text/x-python",
   "name": "python",
   "nbconvert_exporter": "python",
   "pygments_lexer": "ipython3",
   "version": "3.12.7"
  }
 },
 "nbformat": 4,
 "nbformat_minor": 4
}
