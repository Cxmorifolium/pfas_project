{
 "cells": [
  {
   "cell_type": "code",
   "execution_count": 2,
   "id": "87163cd5-6139-4afe-911e-e56023bcafab",
   "metadata": {},
   "outputs": [],
   "source": [
    "import GPUtil"
   ]
  },
  {
   "cell_type": "code",
   "execution_count": 3,
   "id": "138fb4e3-8370-4e99-b08f-6a202862cea2",
   "metadata": {},
   "outputs": [
    {
     "name": "stdout",
     "output_type": "stream",
     "text": [
      "GPU 0: NVIDIA GeForce RTX 2070, 6977.0MB free, 0.03% load\n",
      "GPU 1: NVIDIA GeForce GTX 1060 6GB, 6029.0MB free, 0.0% load\n"
     ]
    }
   ],
   "source": [
    "gpus = GPUtil.getGPUs()\n",
    "for gpu in gpus:\n",
    "    print(f\"GPU {gpu.id}: {gpu.name}, {gpu.memoryFree}MB free, {gpu.load}% load\")"
   ]
  },
  {
   "cell_type": "code",
   "execution_count": 5,
   "id": "a2537ef3-33fd-40f2-8210-b04c92c6e6e3",
   "metadata": {},
   "outputs": [],
   "source": [
    "import torch"
   ]
  },
  {
   "cell_type": "code",
   "execution_count": 6,
   "id": "2c827067-83af-45c2-abf8-179e028bbf0d",
   "metadata": {},
   "outputs": [
    {
     "name": "stdout",
     "output_type": "stream",
     "text": [
      "GPU is not available!\n"
     ]
    }
   ],
   "source": [
    "\n",
    "if torch.cuda.is_available():\n",
    "    print(\"GPU is available!\")\n",
    "    print(f\"Number of GPUs: {torch.cuda.device_count()}\")\n",
    "    print(f\"GPU name: {torch.cuda.get_device_name(0)}\")\n",
    "else:\n",
    "    print(\"GPU is not available!\")\n"
   ]
  },
  {
   "cell_type": "code",
   "execution_count": null,
   "id": "0280c68e-c687-4287-a08a-17d11facb4f4",
   "metadata": {},
   "outputs": [],
   "source": []
  }
 ],
 "metadata": {
  "kernelspec": {
   "display_name": "Python 3 (ipykernel)",
   "language": "python",
   "name": "python3"
  },
  "language_info": {
   "codemirror_mode": {
    "name": "ipython",
    "version": 3
   },
   "file_extension": ".py",
   "mimetype": "text/x-python",
   "name": "python",
   "nbconvert_exporter": "python",
   "pygments_lexer": "ipython3",
   "version": "3.12.7"
  }
 },
 "nbformat": 4,
 "nbformat_minor": 5
}
